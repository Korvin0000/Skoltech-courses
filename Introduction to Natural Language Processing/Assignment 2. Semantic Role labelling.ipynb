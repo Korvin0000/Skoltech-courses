{
  "cells": [
    {
      "cell_type": "markdown",
      "id": "b09d7a19-5848-43f4-9d91-f35d4e8614b0",
      "metadata": {
        "id": "b09d7a19-5848-43f4-9d91-f35d4e8614b0"
      },
      "source": [
        "# 1. Information about the submission"
      ]
    },
    {
      "cell_type": "markdown",
      "id": "e37cb5bb-f3d0-4c11-a1dc-2490a208fcd3",
      "metadata": {
        "id": "e37cb5bb-f3d0-4c11-a1dc-2490a208fcd3"
      },
      "source": [
        "## 1.1 Name and number of the assignment "
      ]
    },
    {
      "cell_type": "markdown",
      "id": "4e9d00b8-f3e5-4a44-bcc6-35cdd60767a9",
      "metadata": {
        "id": "4e9d00b8-f3e5-4a44-bcc6-35cdd60767a9"
      },
      "source": [
        "**Semantic Role Labelling**. Assignment 2"
      ]
    },
    {
      "cell_type": "markdown",
      "id": "64ba7f63-66ec-4691-a5d2-17f4679e298d",
      "metadata": {
        "id": "64ba7f63-66ec-4691-a5d2-17f4679e298d"
      },
      "source": [
        "## 1.2 Student name"
      ]
    },
    {
      "cell_type": "markdown",
      "id": "cc8a4e09-62cc-43fd-a7a7-3e9d55ec13b2",
      "metadata": {
        "id": "cc8a4e09-62cc-43fd-a7a7-3e9d55ec13b2"
      },
      "source": [
        "**Nikolay Kalmykov**"
      ]
    },
    {
      "cell_type": "markdown",
      "id": "8a46ab45-d215-41af-b910-63ff4a215a07",
      "metadata": {
        "id": "8a46ab45-d215-41af-b910-63ff4a215a07"
      },
      "source": [
        "## 1.3 Codalab user ID"
      ]
    },
    {
      "cell_type": "markdown",
      "id": "b15cd6b5-8e20-4287-b6ea-a7b0904b355a",
      "metadata": {
        "id": "b15cd6b5-8e20-4287-b6ea-a7b0904b355a"
      },
      "source": [
        "**Nick**"
      ]
    },
    {
      "cell_type": "markdown",
      "id": "1af498ab-3c00-4d36-a962-c947862fede8",
      "metadata": {
        "id": "1af498ab-3c00-4d36-a962-c947862fede8"
      },
      "source": [
        "# 2. Technical Report"
      ]
    },
    {
      "cell_type": "markdown",
      "id": "061f71b9-114a-4cb0-b531-5711970317bf",
      "metadata": {
        "id": "061f71b9-114a-4cb0-b531-5711970317bf"
      },
      "source": [
        "## 2.1 Methodology "
      ]
    },
    {
      "cell_type": "markdown",
      "source": [
        "I applied `CRF model` for named-entity recognition using `sklearn-crfsuite` in this dataset.\n",
        "\n",
        "1) Create datasets with ColumnCorpus\n",
        "\n",
        "2) Add the pos-tagging to each token\n",
        "\n",
        "3) Analyze each token with `word features`\n",
        "\n",
        "4) Create a model and fit on the train data\n",
        "\n",
        "5) Predict labels for `test and dev datasets`\n"
      ],
      "metadata": {
        "id": "0SKPqJ7lI2R5"
      },
      "id": "0SKPqJ7lI2R5"
    },
    {
      "cell_type": "markdown",
      "id": "afe27e49-10c7-4c12-adea-48b0a05a5681",
      "metadata": {
        "id": "afe27e49-10c7-4c12-adea-48b0a05a5681"
      },
      "source": [
        "## 2.2 Discussion of results"
      ]
    },
    {
      "cell_type": "markdown",
      "source": [
        "The CRF model works quite well for `dev_no_answers` and `test_no_answers` dataset.\n",
        "\n",
        "Method | F1 Average | F1 Object | F1 Aspect | F1 Predicate | F1 Average partial | F1 Object partial | F1 Aspect partial | F1 Predicate partial\n",
        "--- | --- | --- | --- |--- | --- | --- | --- |--- |\n",
        "Baseline | 0.5359 | 0.4736 | 0.2852 | 0.8199 | 0.5527 | 0.4743 | 0.3390 | 0.8416\n",
        "CRF | 0.6136 | 0.5357 | 0.4342 | 0.8788 | 0.6199 | 0.5364 | 0.4483 | 0.8904\n",
        "\n",
        "However, F1 score isn't much higher from the baseline. The results may be better if deep learning models are used (any - `embeddings + LSTM, BERT, ELMO ...`). Besides, it's possible to add more features, use multi-task learning, etc."
      ],
      "metadata": {
        "id": "WPPNBhrRM-BJ"
      },
      "id": "WPPNBhrRM-BJ"
    },
    {
      "cell_type": "markdown",
      "id": "194fecf1-e044-4210-a54b-aefbf4b4eebe",
      "metadata": {
        "id": "194fecf1-e044-4210-a54b-aefbf4b4eebe"
      },
      "source": [
        "# 3. Code"
      ]
    },
    {
      "cell_type": "markdown",
      "id": "dff93e37-3a24-40ab-87db-16b537aad3f6",
      "metadata": {
        "id": "dff93e37-3a24-40ab-87db-16b537aad3f6"
      },
      "source": [
        "## 3.1 Requirements"
      ]
    },
    {
      "cell_type": "code",
      "source": [
        "!pip install \\\n",
        "transformers==3.0.1 \\\n",
        "seqeval \\\n",
        "tqdm \\\n",
        "flair \\\n",
        "sklearn_crfsuite \\\n",
        "nltk"
      ],
      "metadata": {
        "colab": {
          "base_uri": "https://localhost:8080/"
        },
        "id": "uf4bbJb6xoMn",
        "outputId": "9670dcae-c5ce-4df1-d8ad-faa8041a0385"
      },
      "id": "uf4bbJb6xoMn",
      "execution_count": null,
      "outputs": [
        {
          "output_type": "stream",
          "name": "stdout",
          "text": [
            "Looking in indexes: https://pypi.org/simple, https://us-python.pkg.dev/colab-wheels/public/simple/\n",
            "Requirement already satisfied: transformers==3.0.1 in /usr/local/lib/python3.8/dist-packages (3.0.1)\n",
            "Requirement already satisfied: seqeval in /usr/local/lib/python3.8/dist-packages (1.2.2)\n",
            "Requirement already satisfied: tqdm in /usr/local/lib/python3.8/dist-packages (4.64.1)\n",
            "Requirement already satisfied: flair in /usr/local/lib/python3.8/dist-packages (0.6.1.post1)\n",
            "Requirement already satisfied: sklearn_crfsuite in /usr/local/lib/python3.8/dist-packages (0.3.6)\n",
            "Requirement already satisfied: nltk in /usr/local/lib/python3.8/dist-packages (3.7)\n",
            "Requirement already satisfied: sentencepiece!=0.1.92 in /usr/local/lib/python3.8/dist-packages (from transformers==3.0.1) (0.1.97)\n",
            "Requirement already satisfied: filelock in /usr/local/lib/python3.8/dist-packages (from transformers==3.0.1) (3.8.0)\n",
            "Requirement already satisfied: regex!=2019.12.17 in /usr/local/lib/python3.8/dist-packages (from transformers==3.0.1) (2022.6.2)\n",
            "Requirement already satisfied: packaging in /usr/local/lib/python3.8/dist-packages (from transformers==3.0.1) (21.3)\n",
            "Requirement already satisfied: sacremoses in /usr/local/lib/python3.8/dist-packages (from transformers==3.0.1) (0.0.53)\n",
            "Requirement already satisfied: numpy in /usr/local/lib/python3.8/dist-packages (from transformers==3.0.1) (1.21.6)\n",
            "Requirement already satisfied: requests in /usr/local/lib/python3.8/dist-packages (from transformers==3.0.1) (2.28.1)\n",
            "Requirement already satisfied: tokenizers==0.8.0-rc4 in /usr/local/lib/python3.8/dist-packages (from transformers==3.0.1) (0.8.0rc4)\n",
            "Requirement already satisfied: scikit-learn>=0.21.3 in /usr/local/lib/python3.8/dist-packages (from seqeval) (0.23.2)\n",
            "Requirement already satisfied: scipy>=0.19.1 in /usr/local/lib/python3.8/dist-packages (from scikit-learn>=0.21.3->seqeval) (1.7.3)\n",
            "Requirement already satisfied: threadpoolctl>=2.0.0 in /usr/local/lib/python3.8/dist-packages (from scikit-learn>=0.21.3->seqeval) (3.1.0)\n",
            "Requirement already satisfied: joblib>=0.11 in /usr/local/lib/python3.8/dist-packages (from scikit-learn>=0.21.3->seqeval) (1.2.0)\n",
            "Requirement already satisfied: hyperopt>=0.1.1 in /usr/local/lib/python3.8/dist-packages (from flair) (0.1.2)\n",
            "Requirement already satisfied: tabulate in /usr/local/lib/python3.8/dist-packages (from flair) (0.8.10)\n",
            "Requirement already satisfied: janome in /usr/local/lib/python3.8/dist-packages (from flair) (0.4.2)\n",
            "Requirement already satisfied: mpld3==0.3 in /usr/local/lib/python3.8/dist-packages (from flair) (0.3)\n",
            "Requirement already satisfied: lxml in /usr/local/lib/python3.8/dist-packages (from flair) (4.9.1)\n",
            "Requirement already satisfied: sqlitedict>=1.6.0 in /usr/local/lib/python3.8/dist-packages (from flair) (2.1.0)\n",
            "Requirement already satisfied: torch>=1.1.0 in /usr/local/lib/python3.8/dist-packages (from flair) (1.13.0+cu116)\n",
            "Requirement already satisfied: matplotlib>=2.2.3 in /usr/local/lib/python3.8/dist-packages (from flair) (3.2.2)\n",
            "Requirement already satisfied: konoha<5.0.0,>=4.0.0 in /usr/local/lib/python3.8/dist-packages (from flair) (4.6.5)\n",
            "Requirement already satisfied: gensim>=3.4.0 in /usr/local/lib/python3.8/dist-packages (from flair) (3.6.0)\n",
            "Requirement already satisfied: deprecated>=1.2.4 in /usr/local/lib/python3.8/dist-packages (from flair) (1.2.13)\n",
            "Requirement already satisfied: langdetect in /usr/local/lib/python3.8/dist-packages (from flair) (1.0.9)\n",
            "Requirement already satisfied: segtok>=1.5.7 in /usr/local/lib/python3.8/dist-packages (from flair) (1.5.11)\n",
            "Requirement already satisfied: gdown in /usr/local/lib/python3.8/dist-packages (from flair) (4.4.0)\n",
            "Requirement already satisfied: python-dateutil>=2.6.1 in /usr/local/lib/python3.8/dist-packages (from flair) (2.8.2)\n",
            "Requirement already satisfied: ftfy in /usr/local/lib/python3.8/dist-packages (from flair) (6.1.1)\n",
            "Requirement already satisfied: bpemb>=0.3.2 in /usr/local/lib/python3.8/dist-packages (from flair) (0.3.4)\n",
            "Requirement already satisfied: wrapt<2,>=1.10 in /usr/local/lib/python3.8/dist-packages (from deprecated>=1.2.4->flair) (1.14.1)\n",
            "Requirement already satisfied: six>=1.5.0 in /usr/local/lib/python3.8/dist-packages (from gensim>=3.4.0->flair) (1.15.0)\n",
            "Requirement already satisfied: smart-open>=1.2.1 in /usr/local/lib/python3.8/dist-packages (from gensim>=3.4.0->flair) (5.2.1)\n",
            "Requirement already satisfied: networkx in /usr/local/lib/python3.8/dist-packages (from hyperopt>=0.1.1->flair) (2.8.8)\n",
            "Requirement already satisfied: pymongo in /usr/local/lib/python3.8/dist-packages (from hyperopt>=0.1.1->flair) (4.3.3)\n",
            "Requirement already satisfied: future in /usr/local/lib/python3.8/dist-packages (from hyperopt>=0.1.1->flair) (0.16.0)\n",
            "Requirement already satisfied: importlib-metadata<4.0.0,>=3.7.0 in /usr/local/lib/python3.8/dist-packages (from konoha<5.0.0,>=4.0.0->flair) (3.10.1)\n",
            "Requirement already satisfied: overrides<4.0.0,>=3.0.0 in /usr/local/lib/python3.8/dist-packages (from konoha<5.0.0,>=4.0.0->flair) (3.1.0)\n",
            "Requirement already satisfied: zipp>=0.5 in /usr/local/lib/python3.8/dist-packages (from importlib-metadata<4.0.0,>=3.7.0->konoha<5.0.0,>=4.0.0->flair) (3.11.0)\n",
            "Requirement already satisfied: pyparsing!=2.0.4,!=2.1.2,!=2.1.6,>=2.0.1 in /usr/local/lib/python3.8/dist-packages (from matplotlib>=2.2.3->flair) (3.0.9)\n",
            "Requirement already satisfied: cycler>=0.10 in /usr/local/lib/python3.8/dist-packages (from matplotlib>=2.2.3->flair) (0.11.0)\n",
            "Requirement already satisfied: kiwisolver>=1.0.1 in /usr/local/lib/python3.8/dist-packages (from matplotlib>=2.2.3->flair) (1.4.4)\n",
            "Requirement already satisfied: certifi>=2017.4.17 in /usr/local/lib/python3.8/dist-packages (from requests->transformers==3.0.1) (2022.9.24)\n",
            "Requirement already satisfied: charset-normalizer<3,>=2 in /usr/local/lib/python3.8/dist-packages (from requests->transformers==3.0.1) (2.1.1)\n",
            "Requirement already satisfied: idna<4,>=2.5 in /usr/local/lib/python3.8/dist-packages (from requests->transformers==3.0.1) (2.10)\n",
            "Requirement already satisfied: urllib3<1.27,>=1.21.1 in /usr/local/lib/python3.8/dist-packages (from requests->transformers==3.0.1) (1.24.3)\n",
            "Requirement already satisfied: typing-extensions in /usr/local/lib/python3.8/dist-packages (from torch>=1.1.0->flair) (4.4.0)\n",
            "Requirement already satisfied: python-crfsuite>=0.8.3 in /usr/local/lib/python3.8/dist-packages (from sklearn_crfsuite) (0.9.8)\n",
            "Requirement already satisfied: click in /usr/local/lib/python3.8/dist-packages (from nltk) (7.1.2)\n",
            "Requirement already satisfied: wcwidth>=0.2.5 in /usr/local/lib/python3.8/dist-packages (from ftfy->flair) (0.2.5)\n",
            "Requirement already satisfied: beautifulsoup4 in /usr/local/lib/python3.8/dist-packages (from gdown->flair) (4.6.3)\n",
            "Requirement already satisfied: dnspython<3.0.0,>=1.16.0 in /usr/local/lib/python3.8/dist-packages (from pymongo->hyperopt>=0.1.1->flair) (2.2.1)\n",
            "Requirement already satisfied: PySocks!=1.5.7,>=1.5.6 in /usr/local/lib/python3.8/dist-packages (from requests->transformers==3.0.1) (1.7.1)\n"
          ]
        }
      ]
    },
    {
      "cell_type": "code",
      "source": [
        "!pip install -U 'scikit-learn<0.24'"
      ],
      "metadata": {
        "colab": {
          "base_uri": "https://localhost:8080/"
        },
        "id": "xxYOZCDuyTeE",
        "outputId": "f1d43b1a-6005-4b29-8fa3-535e3d1f7ea7"
      },
      "id": "xxYOZCDuyTeE",
      "execution_count": null,
      "outputs": [
        {
          "output_type": "stream",
          "name": "stdout",
          "text": [
            "Looking in indexes: https://pypi.org/simple, https://us-python.pkg.dev/colab-wheels/public/simple/\n",
            "Requirement already satisfied: scikit-learn<0.24 in /usr/local/lib/python3.8/dist-packages (0.23.2)\n",
            "Requirement already satisfied: numpy>=1.13.3 in /usr/local/lib/python3.8/dist-packages (from scikit-learn<0.24) (1.21.6)\n",
            "Requirement already satisfied: scipy>=0.19.1 in /usr/local/lib/python3.8/dist-packages (from scikit-learn<0.24) (1.7.3)\n",
            "Requirement already satisfied: threadpoolctl>=2.0.0 in /usr/local/lib/python3.8/dist-packages (from scikit-learn<0.24) (3.1.0)\n",
            "Requirement already satisfied: joblib>=0.11 in /usr/local/lib/python3.8/dist-packages (from scikit-learn<0.24) (1.2.0)\n"
          ]
        }
      ]
    },
    {
      "cell_type": "code",
      "source": [
        "import pandas as pd\n",
        "import numpy as np\n",
        "import nltk\n",
        "nltk.download('averaged_perceptron_tagger')\n",
        "\n",
        "import sklearn_crfsuite\n",
        "from seqeval.metrics import f1_score\n",
        "from seqeval.metrics import classification_report\n",
        "from flair.datasets import ColumnCorpus\n",
        "from collections import Counter\n",
        "import matplotlib.pyplot as plt"
      ],
      "metadata": {
        "colab": {
          "base_uri": "https://localhost:8080/"
        },
        "id": "0FSnj4r1yWS9",
        "outputId": "867f861c-9d33-4107-9b5e-ca4fda2c7343"
      },
      "id": "0FSnj4r1yWS9",
      "execution_count": null,
      "outputs": [
        {
          "output_type": "stream",
          "name": "stderr",
          "text": [
            "[nltk_data] Downloading package averaged_perceptron_tagger to\n",
            "[nltk_data]     /root/nltk_data...\n",
            "[nltk_data]   Package averaged_perceptron_tagger is already up-to-\n",
            "[nltk_data]       date!\n"
          ]
        }
      ]
    },
    {
      "cell_type": "markdown",
      "id": "1b3c19fa-f883-4675-9506-85c4f02f0af9",
      "metadata": {
        "id": "1b3c19fa-f883-4675-9506-85c4f02f0af9"
      },
      "source": [
        "## 3.2 Download the data"
      ]
    },
    {
      "cell_type": "code",
      "source": [
        "!wget https://raw.githubusercontent.com/s-nlp/semantic-role-labelling/main/train.tsv\n",
        "!wget https://raw.githubusercontent.com/s-nlp/semantic-role-labelling/main/test_no_answers.tsv\n",
        "!wget https://raw.githubusercontent.com/s-nlp/semantic-role-labelling/main/dev_no_answers.tsv"
      ],
      "metadata": {
        "colab": {
          "base_uri": "https://localhost:8080/"
        },
        "id": "DuwDRu96xnaX",
        "outputId": "19480e06-402a-495b-994b-270c97e432ca"
      },
      "id": "DuwDRu96xnaX",
      "execution_count": null,
      "outputs": [
        {
          "output_type": "stream",
          "name": "stdout",
          "text": [
            "--2022-12-14 16:06:10--  https://raw.githubusercontent.com/s-nlp/semantic-role-labelling/main/train.tsv\n",
            "Resolving raw.githubusercontent.com (raw.githubusercontent.com)... 185.199.108.133, 185.199.109.133, 185.199.110.133, ...\n",
            "Connecting to raw.githubusercontent.com (raw.githubusercontent.com)|185.199.108.133|:443... connected.\n",
            "HTTP request sent, awaiting response... 200 OK\n",
            "Length: 599430 (585K) [text/plain]\n",
            "Saving to: ‘train.tsv’\n",
            "\n",
            "train.tsv           100%[===================>] 585.38K  --.-KB/s    in 0.003s  \n",
            "\n",
            "2022-12-14 16:06:11 (167 MB/s) - ‘train.tsv’ saved [599430/599430]\n",
            "\n",
            "--2022-12-14 16:06:11--  https://raw.githubusercontent.com/s-nlp/semantic-role-labelling/main/test_no_answers.tsv\n",
            "Resolving raw.githubusercontent.com (raw.githubusercontent.com)... 185.199.108.133, 185.199.109.133, 185.199.110.133, ...\n",
            "Connecting to raw.githubusercontent.com (raw.githubusercontent.com)|185.199.108.133|:443... connected.\n",
            "HTTP request sent, awaiting response... 200 OK\n",
            "Length: 58177 (57K) [text/plain]\n",
            "Saving to: ‘test_no_answers.tsv’\n",
            "\n",
            "test_no_answers.tsv 100%[===================>]  56.81K  --.-KB/s    in 0.001s  \n",
            "\n",
            "2022-12-14 16:06:11 (46.0 MB/s) - ‘test_no_answers.tsv’ saved [58177/58177]\n",
            "\n",
            "--2022-12-14 16:06:11--  https://raw.githubusercontent.com/s-nlp/semantic-role-labelling/main/dev_no_answers.tsv\n",
            "Resolving raw.githubusercontent.com (raw.githubusercontent.com)... 185.199.108.133, 185.199.109.133, 185.199.110.133, ...\n",
            "Connecting to raw.githubusercontent.com (raw.githubusercontent.com)|185.199.108.133|:443... connected.\n",
            "HTTP request sent, awaiting response... 200 OK\n",
            "Length: 43071 (42K) [text/plain]\n",
            "Saving to: ‘dev_no_answers.tsv’\n",
            "\n",
            "dev_no_answers.tsv  100%[===================>]  42.06K  --.-KB/s    in 0.001s  \n",
            "\n",
            "2022-12-14 16:06:11 (50.9 MB/s) - ‘dev_no_answers.tsv’ saved [43071/43071]\n",
            "\n"
          ]
        }
      ]
    },
    {
      "cell_type": "code",
      "execution_count": null,
      "id": "ed8aa6f0-79e0-4c7d-b6bc-2dcd48382af2",
      "metadata": {
        "id": "ed8aa6f0-79e0-4c7d-b6bc-2dcd48382af2",
        "outputId": "c8925f98-e490-4a6b-d991-4788c2dcddbb",
        "colab": {
          "base_uri": "https://localhost:8080/"
        }
      },
      "outputs": [
        {
          "output_type": "stream",
          "name": "stdout",
          "text": [
            "also\tO\r\n",
            ",\tO\r\n",
            "i\tO\r\n",
            "have\tO\r\n",
            "recently\tO\r\n",
            "discovered\tO\r\n",
            "advil\tB-Object\r\n",
            "liquigels\tO\r\n",
            "work\tO\r\n",
            "much\tO\r\n",
            "better\tB-Predicate\r\n",
            "and\tO\r\n",
            "faster\tB-Predicate\r\n",
            "for\tO\r\n",
            "a\tO\r\n",
            "headache\tB-Aspect\r\n",
            "than\tO\r\n",
            "regular\tO\r\n",
            "ibuprofen\tB-Object\r\n",
            ".\tO\r\n"
          ]
        }
      ],
      "source": [
        "!head -n 20 ./train.tsv"
      ]
    },
    {
      "cell_type": "code",
      "source": [
        "data_folder = './'\n",
        "corpora = ColumnCorpus(data_folder, \n",
        "                      {0 : 'text', 1 : 'ner'},\n",
        "                      train_file='train.tsv',\n",
        "                      test_file='test_no_answers.tsv',\n",
        "                      dev_file='dev_no_answers.tsv')\n",
        "# print(corpora.obtain_statistics())"
      ],
      "metadata": {
        "colab": {
          "base_uri": "https://localhost:8080/"
        },
        "id": "revSA1LU0Mc4",
        "outputId": "64bed0fe-a75e-4aca-faa5-8472083f5bd0"
      },
      "id": "revSA1LU0Mc4",
      "execution_count": null,
      "outputs": [
        {
          "output_type": "stream",
          "name": "stdout",
          "text": [
            "2022-12-14 16:06:12,210 Reading data from .\n",
            "2022-12-14 16:06:12,213 Train: train.tsv\n",
            "2022-12-14 16:06:12,214 Dev: dev_no_answers.tsv\n",
            "2022-12-14 16:06:12,215 Test: test_no_answers.tsv\n"
          ]
        }
      ]
    },
    {
      "cell_type": "code",
      "source": [
        "def create_dataset(flair_dataset, preprocess=False):\n",
        "    dataset = []\n",
        "    \n",
        "    for sent in flair_dataset:\n",
        "        tokens = [w.text for w in sent]\n",
        "        labels = [w.get_tag('ner').value for w in sent]\n",
        "        # add pos tagging\n",
        "        if preprocess:\n",
        "            dataset.append((list(zip(tokens, [nltk.pos_tag([tok])[0][1] for tok in tokens])), labels))\n",
        "        else:\n",
        "            dataset.append((tokens, labels))\n",
        "    return dataset"
      ],
      "metadata": {
        "id": "uzuD1EzkX6ux"
      },
      "id": "uzuD1EzkX6ux",
      "execution_count": null,
      "outputs": []
    },
    {
      "cell_type": "code",
      "source": [
        "train_dataset = create_dataset(corpora.train, preprocess=True)\n",
        "dev_dataset = create_dataset(corpora.dev, preprocess=True)\n",
        "test_dataset = create_dataset(corpora.test, preprocess=True)\n",
        "dev_dataset_1 = create_dataset(corpora.dev, preprocess=False)\n",
        "test_dataset_1 = create_dataset(corpora.test, preprocess=False)\n",
        "train_dataset_1 = create_dataset(corpora.train, preprocess=False)"
      ],
      "metadata": {
        "id": "ECQwFFxrX7ZZ"
      },
      "id": "ECQwFFxrX7ZZ",
      "execution_count": null,
      "outputs": []
    },
    {
      "cell_type": "markdown",
      "source": [
        "### Example"
      ],
      "metadata": {
        "id": "wQ7kPksb1Rxl"
      },
      "id": "wQ7kPksb1Rxl"
    },
    {
      "cell_type": "code",
      "source": [
        "for count, sent in enumerate(corpora.train):\n",
        "    if count == 0:\n",
        "        tokens = [w.text for w in sent]\n",
        "        labels = [w.get_tag('ner').value for w in sent]\n",
        "        print(sent)\n",
        "        print('Tokens: ', tokens)\n",
        "        print('Labels: ', labels)\n",
        "        print('Tokens with pos tag: ', (list(zip(tokens, [nltk.pos_tag([tok])[0][1] for tok in tokens]))))"
      ],
      "metadata": {
        "colab": {
          "base_uri": "https://localhost:8080/"
        },
        "id": "fGoBZ4MZ0UaX",
        "outputId": "43cd647f-2e7d-4208-a46f-7182c3e9722b"
      },
      "id": "fGoBZ4MZ0UaX",
      "execution_count": null,
      "outputs": [
        {
          "output_type": "stream",
          "name": "stdout",
          "text": [
            "Sentence: \"also , i have recently discovered advil liquigels work much better and faster for a headache than regular ibuprofen .\"   [− Tokens: 20  − Token-Labels: \"also , i have recently discovered advil <B-Object> liquigels work much better <B-Predicate> and faster <B-Predicate> for a headache <B-Aspect> than regular ibuprofen <B-Object> .\"]\n",
            "Tokens:  ['also', ',', 'i', 'have', 'recently', 'discovered', 'advil', 'liquigels', 'work', 'much', 'better', 'and', 'faster', 'for', 'a', 'headache', 'than', 'regular', 'ibuprofen', '.']\n",
            "Labels:  ['O', 'O', 'O', 'O', 'O', 'O', 'B-Object', 'O', 'O', 'O', 'B-Predicate', 'O', 'B-Predicate', 'O', 'O', 'B-Aspect', 'O', 'O', 'B-Object', 'O']\n",
            "Tokens with pos tag:  [('also', 'RB'), (',', ','), ('i', 'NN'), ('have', 'VB'), ('recently', 'RB'), ('discovered', 'VBN'), ('advil', 'NN'), ('liquigels', 'NNS'), ('work', 'NN'), ('much', 'JJ'), ('better', 'RBR'), ('and', 'CC'), ('faster', 'NN'), ('for', 'IN'), ('a', 'DT'), ('headache', 'NN'), ('than', 'IN'), ('regular', 'JJ'), ('ibuprofen', 'NN'), ('.', '.')]\n"
          ]
        }
      ]
    },
    {
      "cell_type": "markdown",
      "source": [
        "## 3.3 Statistics"
      ],
      "metadata": {
        "id": "qXGDgkAfF6yx"
      },
      "id": "qXGDgkAfF6yx"
    },
    {
      "cell_type": "code",
      "source": [
        "sentences = [' '.join(sent[0]) for sent in train_dataset_1]\n",
        "labels =  [sent[1] for sent in train_dataset_1]\n",
        "df = pd.DataFrame({'sentences': sentences, 'labels': labels})\n",
        "df"
      ],
      "metadata": {
        "colab": {
          "base_uri": "https://localhost:8080/",
          "height": 423
        },
        "id": "R30Ebfew_GkB",
        "outputId": "a60e58b7-fec1-4c3f-dfe1-eea3f44b6b93"
      },
      "id": "R30Ebfew_GkB",
      "execution_count": null,
      "outputs": [
        {
          "output_type": "execute_result",
          "data": {
            "text/plain": [
              "                                              sentences  \\\n",
              "0     also , i have recently discovered advil liquig...   \n",
              "1     i have always heard that motrin is better than...   \n",
              "2     when i was a figure skater i injuried my ankle...   \n",
              "3     in a way , halloween is even better than thank...   \n",
              "4     i think halloween is actually safer than chris...   \n",
              "...                                                 ...   \n",
              "2329                  isn ' t plastic safer than wood .   \n",
              "2330  and plastic pallets are safer than wood , beca...   \n",
              "2331  plastic laminate flooring is one of the most a...   \n",
              "2332  plastic has long been considered superior to w...   \n",
              "2333  in the content of search results , bing is not...   \n",
              "\n",
              "                                                 labels  \n",
              "0     [O, O, O, O, O, O, B-Object, O, O, O, B-Predic...  \n",
              "1     [O, O, O, O, O, B-Object, O, B-Predicate, O, B...  \n",
              "2     [O, O, O, O, O, O, O, O, O, O, O, O, O, O, O, ...  \n",
              "3     [O, O, O, O, B-Object, O, O, B-Predicate, O, B...  \n",
              "4     [O, O, B-Object, O, O, B-Predicate, O, O, O, B...  \n",
              "...                                                 ...  \n",
              "2329   [O, O, O, B-Object, B-Predicate, O, B-Object, O]  \n",
              "2330  [O, B-Object, O, O, B-Predicate, O, B-Object, ...  \n",
              "2331  [B-Object, O, B-Aspect, O, O, O, O, O, O, O, O...  \n",
              "2332  [B-Object, O, O, O, O, B-Predicate, O, B-Objec...  \n",
              "2333  [O, O, O, O, B-Aspect, I-Aspect, O, B-Object, ...  \n",
              "\n",
              "[2334 rows x 2 columns]"
            ],
            "text/html": [
              "\n",
              "  <div id=\"df-c422450f-3131-4e60-b01a-a5a0f8458a6d\">\n",
              "    <div class=\"colab-df-container\">\n",
              "      <div>\n",
              "<style scoped>\n",
              "    .dataframe tbody tr th:only-of-type {\n",
              "        vertical-align: middle;\n",
              "    }\n",
              "\n",
              "    .dataframe tbody tr th {\n",
              "        vertical-align: top;\n",
              "    }\n",
              "\n",
              "    .dataframe thead th {\n",
              "        text-align: right;\n",
              "    }\n",
              "</style>\n",
              "<table border=\"1\" class=\"dataframe\">\n",
              "  <thead>\n",
              "    <tr style=\"text-align: right;\">\n",
              "      <th></th>\n",
              "      <th>sentences</th>\n",
              "      <th>labels</th>\n",
              "    </tr>\n",
              "  </thead>\n",
              "  <tbody>\n",
              "    <tr>\n",
              "      <th>0</th>\n",
              "      <td>also , i have recently discovered advil liquig...</td>\n",
              "      <td>[O, O, O, O, O, O, B-Object, O, O, O, B-Predic...</td>\n",
              "    </tr>\n",
              "    <tr>\n",
              "      <th>1</th>\n",
              "      <td>i have always heard that motrin is better than...</td>\n",
              "      <td>[O, O, O, O, O, B-Object, O, B-Predicate, O, B...</td>\n",
              "    </tr>\n",
              "    <tr>\n",
              "      <th>2</th>\n",
              "      <td>when i was a figure skater i injuried my ankle...</td>\n",
              "      <td>[O, O, O, O, O, O, O, O, O, O, O, O, O, O, O, ...</td>\n",
              "    </tr>\n",
              "    <tr>\n",
              "      <th>3</th>\n",
              "      <td>in a way , halloween is even better than thank...</td>\n",
              "      <td>[O, O, O, O, B-Object, O, O, B-Predicate, O, B...</td>\n",
              "    </tr>\n",
              "    <tr>\n",
              "      <th>4</th>\n",
              "      <td>i think halloween is actually safer than chris...</td>\n",
              "      <td>[O, O, B-Object, O, O, B-Predicate, O, O, O, B...</td>\n",
              "    </tr>\n",
              "    <tr>\n",
              "      <th>...</th>\n",
              "      <td>...</td>\n",
              "      <td>...</td>\n",
              "    </tr>\n",
              "    <tr>\n",
              "      <th>2329</th>\n",
              "      <td>isn ' t plastic safer than wood .</td>\n",
              "      <td>[O, O, O, B-Object, B-Predicate, O, B-Object, O]</td>\n",
              "    </tr>\n",
              "    <tr>\n",
              "      <th>2330</th>\n",
              "      <td>and plastic pallets are safer than wood , beca...</td>\n",
              "      <td>[O, B-Object, O, O, B-Predicate, O, B-Object, ...</td>\n",
              "    </tr>\n",
              "    <tr>\n",
              "      <th>2331</th>\n",
              "      <td>plastic laminate flooring is one of the most a...</td>\n",
              "      <td>[B-Object, O, B-Aspect, O, O, O, O, O, O, O, O...</td>\n",
              "    </tr>\n",
              "    <tr>\n",
              "      <th>2332</th>\n",
              "      <td>plastic has long been considered superior to w...</td>\n",
              "      <td>[B-Object, O, O, O, O, B-Predicate, O, B-Objec...</td>\n",
              "    </tr>\n",
              "    <tr>\n",
              "      <th>2333</th>\n",
              "      <td>in the content of search results , bing is not...</td>\n",
              "      <td>[O, O, O, O, B-Aspect, I-Aspect, O, B-Object, ...</td>\n",
              "    </tr>\n",
              "  </tbody>\n",
              "</table>\n",
              "<p>2334 rows × 2 columns</p>\n",
              "</div>\n",
              "      <button class=\"colab-df-convert\" onclick=\"convertToInteractive('df-c422450f-3131-4e60-b01a-a5a0f8458a6d')\"\n",
              "              title=\"Convert this dataframe to an interactive table.\"\n",
              "              style=\"display:none;\">\n",
              "        \n",
              "  <svg xmlns=\"http://www.w3.org/2000/svg\" height=\"24px\"viewBox=\"0 0 24 24\"\n",
              "       width=\"24px\">\n",
              "    <path d=\"M0 0h24v24H0V0z\" fill=\"none\"/>\n",
              "    <path d=\"M18.56 5.44l.94 2.06.94-2.06 2.06-.94-2.06-.94-.94-2.06-.94 2.06-2.06.94zm-11 1L8.5 8.5l.94-2.06 2.06-.94-2.06-.94L8.5 2.5l-.94 2.06-2.06.94zm10 10l.94 2.06.94-2.06 2.06-.94-2.06-.94-.94-2.06-.94 2.06-2.06.94z\"/><path d=\"M17.41 7.96l-1.37-1.37c-.4-.4-.92-.59-1.43-.59-.52 0-1.04.2-1.43.59L10.3 9.45l-7.72 7.72c-.78.78-.78 2.05 0 2.83L4 21.41c.39.39.9.59 1.41.59.51 0 1.02-.2 1.41-.59l7.78-7.78 2.81-2.81c.8-.78.8-2.07 0-2.86zM5.41 20L4 18.59l7.72-7.72 1.47 1.35L5.41 20z\"/>\n",
              "  </svg>\n",
              "      </button>\n",
              "      \n",
              "  <style>\n",
              "    .colab-df-container {\n",
              "      display:flex;\n",
              "      flex-wrap:wrap;\n",
              "      gap: 12px;\n",
              "    }\n",
              "\n",
              "    .colab-df-convert {\n",
              "      background-color: #E8F0FE;\n",
              "      border: none;\n",
              "      border-radius: 50%;\n",
              "      cursor: pointer;\n",
              "      display: none;\n",
              "      fill: #1967D2;\n",
              "      height: 32px;\n",
              "      padding: 0 0 0 0;\n",
              "      width: 32px;\n",
              "    }\n",
              "\n",
              "    .colab-df-convert:hover {\n",
              "      background-color: #E2EBFA;\n",
              "      box-shadow: 0px 1px 2px rgba(60, 64, 67, 0.3), 0px 1px 3px 1px rgba(60, 64, 67, 0.15);\n",
              "      fill: #174EA6;\n",
              "    }\n",
              "\n",
              "    [theme=dark] .colab-df-convert {\n",
              "      background-color: #3B4455;\n",
              "      fill: #D2E3FC;\n",
              "    }\n",
              "\n",
              "    [theme=dark] .colab-df-convert:hover {\n",
              "      background-color: #434B5C;\n",
              "      box-shadow: 0px 1px 3px 1px rgba(0, 0, 0, 0.15);\n",
              "      filter: drop-shadow(0px 1px 2px rgba(0, 0, 0, 0.3));\n",
              "      fill: #FFFFFF;\n",
              "    }\n",
              "  </style>\n",
              "\n",
              "      <script>\n",
              "        const buttonEl =\n",
              "          document.querySelector('#df-c422450f-3131-4e60-b01a-a5a0f8458a6d button.colab-df-convert');\n",
              "        buttonEl.style.display =\n",
              "          google.colab.kernel.accessAllowed ? 'block' : 'none';\n",
              "\n",
              "        async function convertToInteractive(key) {\n",
              "          const element = document.querySelector('#df-c422450f-3131-4e60-b01a-a5a0f8458a6d');\n",
              "          const dataTable =\n",
              "            await google.colab.kernel.invokeFunction('convertToInteractive',\n",
              "                                                     [key], {});\n",
              "          if (!dataTable) return;\n",
              "\n",
              "          const docLinkHtml = 'Like what you see? Visit the ' +\n",
              "            '<a target=\"_blank\" href=https://colab.research.google.com/notebooks/data_table.ipynb>data table notebook</a>'\n",
              "            + ' to learn more about interactive tables.';\n",
              "          element.innerHTML = '';\n",
              "          dataTable['output_type'] = 'display_data';\n",
              "          await google.colab.output.renderOutput(dataTable, element);\n",
              "          const docLink = document.createElement('div');\n",
              "          docLink.innerHTML = docLinkHtml;\n",
              "          element.appendChild(docLink);\n",
              "        }\n",
              "      </script>\n",
              "    </div>\n",
              "  </div>\n",
              "  "
            ]
          },
          "metadata": {},
          "execution_count": 10
        }
      ]
    },
    {
      "cell_type": "code",
      "source": [
        "def visualize_distr(data: Counter):\n",
        "    data = sorted(data.items())\n",
        "    labels = list([elem[0] for elem in data])\n",
        "    p = plt.bar(x=labels, height=[elem[1] for elem in data])\n",
        "    \n",
        "    sum_values = sum([elem[1] for elem in data])\n",
        "    for rect1 in p:\n",
        "        height = rect1.get_height()\n",
        "        plt.annotate(\n",
        "            f'{height}\\n{height*100/sum_values:.1f}%', \n",
        "            (rect1.get_x() + rect1.get_width()/2, height+.05),\n",
        "            ha=\"center\", va=\"bottom\", fontsize=12\n",
        "        )\n",
        "    plt.show()\n",
        "\n",
        "\n",
        "def show_statistic(df: pd.DataFrame):\n",
        "    \n",
        "    NE_distribution = Counter()\n",
        "\n",
        "    count_tokens = 0\n",
        "    count_named_entities = 0\n",
        "    for labels in df['labels']:\n",
        "        count_tokens += len(labels)\n",
        "        NE_labels = [label[2:] for label in labels if label != 'O']\n",
        "        count_named_entities += len(NE_labels)\n",
        "        NE_distribution.update(NE_labels)\n",
        "\n",
        "    \n",
        "    print(f'Count sentences: {df.shape[0]}')\n",
        "    print(f'Count tokens: {count_tokens}')\n",
        "    print(f'Count unnamed tokens: {count_tokens - count_named_entities} | {(count_tokens - count_named_entities) * 100 / count_tokens:.1f}%')\n",
        "    print(f'Count named tokens (NE): {count_named_entities} | {count_named_entities * 100 / count_tokens:.1f}%')\n",
        "    print('\\nNamed tokens distribution')\n",
        "    visualize_distr(NE_distribution)"
      ],
      "metadata": {
        "id": "VB_pzwzIEu_z"
      },
      "id": "VB_pzwzIEu_z",
      "execution_count": null,
      "outputs": []
    },
    {
      "cell_type": "code",
      "source": [
        "show_statistic(df)"
      ],
      "metadata": {
        "colab": {
          "base_uri": "https://localhost:8080/",
          "height": 393
        },
        "id": "ZkbvMLBnE381",
        "outputId": "6ac65872-cf8d-4a14-9739-44aefbe867ce"
      },
      "id": "ZkbvMLBnE381",
      "execution_count": null,
      "outputs": [
        {
          "output_type": "stream",
          "name": "stdout",
          "text": [
            "Count sentences: 2334\n",
            "Count tokens: 61074\n",
            "Count unnamed tokens: 48512 | 79.4%\n",
            "Count named tokens (NE): 12562 | 20.6%\n",
            "\n",
            "Named tokens distribution\n"
          ]
        },
        {
          "output_type": "display_data",
          "data": {
            "text/plain": [
              "<Figure size 432x288 with 1 Axes>"
            ],
            "image/png": "[encoded data removed]"
          },
          "metadata": {
            "needs_background": "light"
          }
        }
      ]
    },
    {
      "cell_type": "markdown",
      "source": [
        "## 3.4 Preprocessing"
      ],
      "metadata": {
        "id": "M9ELOcmK4nvq"
      },
      "id": "M9ELOcmK4nvq"
    },
    {
      "cell_type": "code",
      "source": [
        "def word_features(sentence, i):\n",
        "    # Get the current word and POS\n",
        "    word = sentence[i][0]\n",
        "    pos = sentence[i][1]\n",
        "\n",
        "    features = { \"bias\": 1.0,\n",
        "                 \"word.lower()\": word.lower(),\n",
        "                 \"word[-3:]\": word[-3:],\n",
        "                 \"word[-2:]\": word[-2:],\n",
        "                 \"word.isupper()\": word.isupper(),\n",
        "                 \"word.istitle()\": word.istitle(),\n",
        "                 \"word.isdigit()\": word.isdigit(),\n",
        "                 \"pos\": pos,\n",
        "                 \"pos[:2]\": pos[:2], # Generalized POS\n",
        "               }\n",
        "   \n",
        "    # If this is not the first word in the sentence\n",
        "    if i > 0:\n",
        "        # Get the sentence's previous word and POS\n",
        "        prev_word = sentence[i-1][0] if len(sentence) > 1 else ''\n",
        "        prev_pos = sentence[i-1][1] if len(sentence) > 1 else ''\n",
        "        # Add characteristics of the sentence's previous word and POS to the feature dictionary\n",
        "        features.update({ \"-1:word.lower()\": prev_word.lower(),\n",
        "                          \"-1:word.istitle()\": prev_word.istitle(),\n",
        "                          \"-1:word.isupper()\": prev_word.isupper(),\n",
        "                          \"-1:pos\": prev_pos,\n",
        "                          \"-1:pos[:2]\": prev_pos[:2],\n",
        "                        })\n",
        "        \n",
        "    # Otherwise, add 'BOS' (beginning of sentence) to the feature dictionary\n",
        "    else:\n",
        "        features[\"BOS\"] = True\n",
        "\n",
        "    # If this is not the last word in the sentence...\n",
        "    if i < len(sentence)-1:\n",
        "        # Get the sentence's next word and POS\n",
        "        next_word = sentence[i+1][0] if len(sentence) > 1 else ''\n",
        "        next_pos = sentence[i+1][1] if len(sentence) > 1 else ''\n",
        "        # Add characteristics of the sentence's previous next and POS to the feature dictionary\n",
        "        features.update({ \"+1:word.lower()\": next_word.lower(),\n",
        "                          \"+1:word.istitle()\": next_word.istitle(),\n",
        "                          \"+1:word.isupper()\": next_word.isupper(),\n",
        "                          \"+1:pos\": next_pos,\n",
        "                          \"+1:pos[:2]\": next_pos[:2],\n",
        "                        })\n",
        "        \n",
        "    # Otherwise, add 'EOS' (end of sentence) to the feature dictionary\n",
        "    else:\n",
        "        features[\"EOS\"] = True\n",
        "    \n",
        "    return features\n",
        "\n",
        "\n",
        "def sentence_features(sentence):\n",
        "    return [word_features(sentence, i) for i in range(len(sentence))]"
      ],
      "metadata": {
        "id": "qeJSVE_p011G"
      },
      "id": "qeJSVE_p011G",
      "execution_count": null,
      "outputs": []
    },
    {
      "cell_type": "markdown",
      "source": [
        "## 3.5 Creating a model"
      ],
      "metadata": {
        "id": "4Hm5FX3g6sww"
      },
      "id": "4Hm5FX3g6sww"
    },
    {
      "cell_type": "code",
      "source": [
        "X = [sentence_features(sentence[0]) for sentence in train_dataset] # list of features for each token of sentences\n",
        "y = [sentence[1] for sentence in train_dataset] # list of labels for each token"
      ],
      "metadata": {
        "id": "ju1B1SLC01tE"
      },
      "id": "ju1B1SLC01tE",
      "execution_count": null,
      "outputs": []
    },
    {
      "cell_type": "code",
      "source": [
        "X[0]"
      ],
      "metadata": {
        "colab": {
          "base_uri": "https://localhost:8080/"
        },
        "id": "OvgdS-192-7R",
        "outputId": "14753483-205d-4648-8508-bfef413a77d1"
      },
      "id": "OvgdS-192-7R",
      "execution_count": null,
      "outputs": [
        {
          "output_type": "execute_result",
          "data": {
            "text/plain": [
              "[{'bias': 1.0,\n",
              "  'word.lower()': 'also',\n",
              "  'word[-3:]': 'lso',\n",
              "  'word[-2:]': 'so',\n",
              "  'word.isupper()': False,\n",
              "  'word.istitle()': False,\n",
              "  'word.isdigit()': False,\n",
              "  'pos': 'RB',\n",
              "  'pos[:2]': 'RB',\n",
              "  'BOS': True,\n",
              "  '+1:word.lower()': ',',\n",
              "  '+1:word.istitle()': False,\n",
              "  '+1:word.isupper()': False,\n",
              "  '+1:pos': ',',\n",
              "  '+1:pos[:2]': ','},\n",
              " {'bias': 1.0,\n",
              "  'word.lower()': ',',\n",
              "  'word[-3:]': ',',\n",
              "  'word[-2:]': ',',\n",
              "  'word.isupper()': False,\n",
              "  'word.istitle()': False,\n",
              "  'word.isdigit()': False,\n",
              "  'pos': ',',\n",
              "  'pos[:2]': ',',\n",
              "  '-1:word.lower()': 'also',\n",
              "  '-1:word.istitle()': False,\n",
              "  '-1:word.isupper()': False,\n",
              "  '-1:pos': 'RB',\n",
              "  '-1:pos[:2]': 'RB',\n",
              "  '+1:word.lower()': 'i',\n",
              "  '+1:word.istitle()': False,\n",
              "  '+1:word.isupper()': False,\n",
              "  '+1:pos': 'NN',\n",
              "  '+1:pos[:2]': 'NN'},\n",
              " {'bias': 1.0,\n",
              "  'word.lower()': 'i',\n",
              "  'word[-3:]': 'i',\n",
              "  'word[-2:]': 'i',\n",
              "  'word.isupper()': False,\n",
              "  'word.istitle()': False,\n",
              "  'word.isdigit()': False,\n",
              "  'pos': 'NN',\n",
              "  'pos[:2]': 'NN',\n",
              "  '-1:word.lower()': ',',\n",
              "  '-1:word.istitle()': False,\n",
              "  '-1:word.isupper()': False,\n",
              "  '-1:pos': ',',\n",
              "  '-1:pos[:2]': ',',\n",
              "  '+1:word.lower()': 'have',\n",
              "  '+1:word.istitle()': False,\n",
              "  '+1:word.isupper()': False,\n",
              "  '+1:pos': 'VB',\n",
              "  '+1:pos[:2]': 'VB'},\n",
              " {'bias': 1.0,\n",
              "  'word.lower()': 'have',\n",
              "  'word[-3:]': 'ave',\n",
              "  'word[-2:]': 've',\n",
              "  'word.isupper()': False,\n",
              "  'word.istitle()': False,\n",
              "  'word.isdigit()': False,\n",
              "  'pos': 'VB',\n",
              "  'pos[:2]': 'VB',\n",
              "  '-1:word.lower()': 'i',\n",
              "  '-1:word.istitle()': False,\n",
              "  '-1:word.isupper()': False,\n",
              "  '-1:pos': 'NN',\n",
              "  '-1:pos[:2]': 'NN',\n",
              "  '+1:word.lower()': 'recently',\n",
              "  '+1:word.istitle()': False,\n",
              "  '+1:word.isupper()': False,\n",
              "  '+1:pos': 'RB',\n",
              "  '+1:pos[:2]': 'RB'},\n",
              " {'bias': 1.0,\n",
              "  'word.lower()': 'recently',\n",
              "  'word[-3:]': 'tly',\n",
              "  'word[-2:]': 'ly',\n",
              "  'word.isupper()': False,\n",
              "  'word.istitle()': False,\n",
              "  'word.isdigit()': False,\n",
              "  'pos': 'RB',\n",
              "  'pos[:2]': 'RB',\n",
              "  '-1:word.lower()': 'have',\n",
              "  '-1:word.istitle()': False,\n",
              "  '-1:word.isupper()': False,\n",
              "  '-1:pos': 'VB',\n",
              "  '-1:pos[:2]': 'VB',\n",
              "  '+1:word.lower()': 'discovered',\n",
              "  '+1:word.istitle()': False,\n",
              "  '+1:word.isupper()': False,\n",
              "  '+1:pos': 'VBN',\n",
              "  '+1:pos[:2]': 'VB'},\n",
              " {'bias': 1.0,\n",
              "  'word.lower()': 'discovered',\n",
              "  'word[-3:]': 'red',\n",
              "  'word[-2:]': 'ed',\n",
              "  'word.isupper()': False,\n",
              "  'word.istitle()': False,\n",
              "  'word.isdigit()': False,\n",
              "  'pos': 'VBN',\n",
              "  'pos[:2]': 'VB',\n",
              "  '-1:word.lower()': 'recently',\n",
              "  '-1:word.istitle()': False,\n",
              "  '-1:word.isupper()': False,\n",
              "  '-1:pos': 'RB',\n",
              "  '-1:pos[:2]': 'RB',\n",
              "  '+1:word.lower()': 'advil',\n",
              "  '+1:word.istitle()': False,\n",
              "  '+1:word.isupper()': False,\n",
              "  '+1:pos': 'NN',\n",
              "  '+1:pos[:2]': 'NN'},\n",
              " {'bias': 1.0,\n",
              "  'word.lower()': 'advil',\n",
              "  'word[-3:]': 'vil',\n",
              "  'word[-2:]': 'il',\n",
              "  'word.isupper()': False,\n",
              "  'word.istitle()': False,\n",
              "  'word.isdigit()': False,\n",
              "  'pos': 'NN',\n",
              "  'pos[:2]': 'NN',\n",
              "  '-1:word.lower()': 'discovered',\n",
              "  '-1:word.istitle()': False,\n",
              "  '-1:word.isupper()': False,\n",
              "  '-1:pos': 'VBN',\n",
              "  '-1:pos[:2]': 'VB',\n",
              "  '+1:word.lower()': 'liquigels',\n",
              "  '+1:word.istitle()': False,\n",
              "  '+1:word.isupper()': False,\n",
              "  '+1:pos': 'NNS',\n",
              "  '+1:pos[:2]': 'NN'},\n",
              " {'bias': 1.0,\n",
              "  'word.lower()': 'liquigels',\n",
              "  'word[-3:]': 'els',\n",
              "  'word[-2:]': 'ls',\n",
              "  'word.isupper()': False,\n",
              "  'word.istitle()': False,\n",
              "  'word.isdigit()': False,\n",
              "  'pos': 'NNS',\n",
              "  'pos[:2]': 'NN',\n",
              "  '-1:word.lower()': 'advil',\n",
              "  '-1:word.istitle()': False,\n",
              "  '-1:word.isupper()': False,\n",
              "  '-1:pos': 'NN',\n",
              "  '-1:pos[:2]': 'NN',\n",
              "  '+1:word.lower()': 'work',\n",
              "  '+1:word.istitle()': False,\n",
              "  '+1:word.isupper()': False,\n",
              "  '+1:pos': 'NN',\n",
              "  '+1:pos[:2]': 'NN'},\n",
              " {'bias': 1.0,\n",
              "  'word.lower()': 'work',\n",
              "  'word[-3:]': 'ork',\n",
              "  'word[-2:]': 'rk',\n",
              "  'word.isupper()': False,\n",
              "  'word.istitle()': False,\n",
              "  'word.isdigit()': False,\n",
              "  'pos': 'NN',\n",
              "  'pos[:2]': 'NN',\n",
              "  '-1:word.lower()': 'liquigels',\n",
              "  '-1:word.istitle()': False,\n",
              "  '-1:word.isupper()': False,\n",
              "  '-1:pos': 'NNS',\n",
              "  '-1:pos[:2]': 'NN',\n",
              "  '+1:word.lower()': 'much',\n",
              "  '+1:word.istitle()': False,\n",
              "  '+1:word.isupper()': False,\n",
              "  '+1:pos': 'JJ',\n",
              "  '+1:pos[:2]': 'JJ'},\n",
              " {'bias': 1.0,\n",
              "  'word.lower()': 'much',\n",
              "  'word[-3:]': 'uch',\n",
              "  'word[-2:]': 'ch',\n",
              "  'word.isupper()': False,\n",
              "  'word.istitle()': False,\n",
              "  'word.isdigit()': False,\n",
              "  'pos': 'JJ',\n",
              "  'pos[:2]': 'JJ',\n",
              "  '-1:word.lower()': 'work',\n",
              "  '-1:word.istitle()': False,\n",
              "  '-1:word.isupper()': False,\n",
              "  '-1:pos': 'NN',\n",
              "  '-1:pos[:2]': 'NN',\n",
              "  '+1:word.lower()': 'better',\n",
              "  '+1:word.istitle()': False,\n",
              "  '+1:word.isupper()': False,\n",
              "  '+1:pos': 'RBR',\n",
              "  '+1:pos[:2]': 'RB'},\n",
              " {'bias': 1.0,\n",
              "  'word.lower()': 'better',\n",
              "  'word[-3:]': 'ter',\n",
              "  'word[-2:]': 'er',\n",
              "  'word.isupper()': False,\n",
              "  'word.istitle()': False,\n",
              "  'word.isdigit()': False,\n",
              "  'pos': 'RBR',\n",
              "  'pos[:2]': 'RB',\n",
              "  '-1:word.lower()': 'much',\n",
              "  '-1:word.istitle()': False,\n",
              "  '-1:word.isupper()': False,\n",
              "  '-1:pos': 'JJ',\n",
              "  '-1:pos[:2]': 'JJ',\n",
              "  '+1:word.lower()': 'and',\n",
              "  '+1:word.istitle()': False,\n",
              "  '+1:word.isupper()': False,\n",
              "  '+1:pos': 'CC',\n",
              "  '+1:pos[:2]': 'CC'},\n",
              " {'bias': 1.0,\n",
              "  'word.lower()': 'and',\n",
              "  'word[-3:]': 'and',\n",
              "  'word[-2:]': 'nd',\n",
              "  'word.isupper()': False,\n",
              "  'word.istitle()': False,\n",
              "  'word.isdigit()': False,\n",
              "  'pos': 'CC',\n",
              "  'pos[:2]': 'CC',\n",
              "  '-1:word.lower()': 'better',\n",
              "  '-1:word.istitle()': False,\n",
              "  '-1:word.isupper()': False,\n",
              "  '-1:pos': 'RBR',\n",
              "  '-1:pos[:2]': 'RB',\n",
              "  '+1:word.lower()': 'faster',\n",
              "  '+1:word.istitle()': False,\n",
              "  '+1:word.isupper()': False,\n",
              "  '+1:pos': 'NN',\n",
              "  '+1:pos[:2]': 'NN'},\n",
              " {'bias': 1.0,\n",
              "  'word.lower()': 'faster',\n",
              "  'word[-3:]': 'ter',\n",
              "  'word[-2:]': 'er',\n",
              "  'word.isupper()': False,\n",
              "  'word.istitle()': False,\n",
              "  'word.isdigit()': False,\n",
              "  'pos': 'NN',\n",
              "  'pos[:2]': 'NN',\n",
              "  '-1:word.lower()': 'and',\n",
              "  '-1:word.istitle()': False,\n",
              "  '-1:word.isupper()': False,\n",
              "  '-1:pos': 'CC',\n",
              "  '-1:pos[:2]': 'CC',\n",
              "  '+1:word.lower()': 'for',\n",
              "  '+1:word.istitle()': False,\n",
              "  '+1:word.isupper()': False,\n",
              "  '+1:pos': 'IN',\n",
              "  '+1:pos[:2]': 'IN'},\n",
              " {'bias': 1.0,\n",
              "  'word.lower()': 'for',\n",
              "  'word[-3:]': 'for',\n",
              "  'word[-2:]': 'or',\n",
              "  'word.isupper()': False,\n",
              "  'word.istitle()': False,\n",
              "  'word.isdigit()': False,\n",
              "  'pos': 'IN',\n",
              "  'pos[:2]': 'IN',\n",
              "  '-1:word.lower()': 'faster',\n",
              "  '-1:word.istitle()': False,\n",
              "  '-1:word.isupper()': False,\n",
              "  '-1:pos': 'NN',\n",
              "  '-1:pos[:2]': 'NN',\n",
              "  '+1:word.lower()': 'a',\n",
              "  '+1:word.istitle()': False,\n",
              "  '+1:word.isupper()': False,\n",
              "  '+1:pos': 'DT',\n",
              "  '+1:pos[:2]': 'DT'},\n",
              " {'bias': 1.0,\n",
              "  'word.lower()': 'a',\n",
              "  'word[-3:]': 'a',\n",
              "  'word[-2:]': 'a',\n",
              "  'word.isupper()': False,\n",
              "  'word.istitle()': False,\n",
              "  'word.isdigit()': False,\n",
              "  'pos': 'DT',\n",
              "  'pos[:2]': 'DT',\n",
              "  '-1:word.lower()': 'for',\n",
              "  '-1:word.istitle()': False,\n",
              "  '-1:word.isupper()': False,\n",
              "  '-1:pos': 'IN',\n",
              "  '-1:pos[:2]': 'IN',\n",
              "  '+1:word.lower()': 'headache',\n",
              "  '+1:word.istitle()': False,\n",
              "  '+1:word.isupper()': False,\n",
              "  '+1:pos': 'NN',\n",
              "  '+1:pos[:2]': 'NN'},\n",
              " {'bias': 1.0,\n",
              "  'word.lower()': 'headache',\n",
              "  'word[-3:]': 'che',\n",
              "  'word[-2:]': 'he',\n",
              "  'word.isupper()': False,\n",
              "  'word.istitle()': False,\n",
              "  'word.isdigit()': False,\n",
              "  'pos': 'NN',\n",
              "  'pos[:2]': 'NN',\n",
              "  '-1:word.lower()': 'a',\n",
              "  '-1:word.istitle()': False,\n",
              "  '-1:word.isupper()': False,\n",
              "  '-1:pos': 'DT',\n",
              "  '-1:pos[:2]': 'DT',\n",
              "  '+1:word.lower()': 'than',\n",
              "  '+1:word.istitle()': False,\n",
              "  '+1:word.isupper()': False,\n",
              "  '+1:pos': 'IN',\n",
              "  '+1:pos[:2]': 'IN'},\n",
              " {'bias': 1.0,\n",
              "  'word.lower()': 'than',\n",
              "  'word[-3:]': 'han',\n",
              "  'word[-2:]': 'an',\n",
              "  'word.isupper()': False,\n",
              "  'word.istitle()': False,\n",
              "  'word.isdigit()': False,\n",
              "  'pos': 'IN',\n",
              "  'pos[:2]': 'IN',\n",
              "  '-1:word.lower()': 'headache',\n",
              "  '-1:word.istitle()': False,\n",
              "  '-1:word.isupper()': False,\n",
              "  '-1:pos': 'NN',\n",
              "  '-1:pos[:2]': 'NN',\n",
              "  '+1:word.lower()': 'regular',\n",
              "  '+1:word.istitle()': False,\n",
              "  '+1:word.isupper()': False,\n",
              "  '+1:pos': 'JJ',\n",
              "  '+1:pos[:2]': 'JJ'},\n",
              " {'bias': 1.0,\n",
              "  'word.lower()': 'regular',\n",
              "  'word[-3:]': 'lar',\n",
              "  'word[-2:]': 'ar',\n",
              "  'word.isupper()': False,\n",
              "  'word.istitle()': False,\n",
              "  'word.isdigit()': False,\n",
              "  'pos': 'JJ',\n",
              "  'pos[:2]': 'JJ',\n",
              "  '-1:word.lower()': 'than',\n",
              "  '-1:word.istitle()': False,\n",
              "  '-1:word.isupper()': False,\n",
              "  '-1:pos': 'IN',\n",
              "  '-1:pos[:2]': 'IN',\n",
              "  '+1:word.lower()': 'ibuprofen',\n",
              "  '+1:word.istitle()': False,\n",
              "  '+1:word.isupper()': False,\n",
              "  '+1:pos': 'NN',\n",
              "  '+1:pos[:2]': 'NN'},\n",
              " {'bias': 1.0,\n",
              "  'word.lower()': 'ibuprofen',\n",
              "  'word[-3:]': 'fen',\n",
              "  'word[-2:]': 'en',\n",
              "  'word.isupper()': False,\n",
              "  'word.istitle()': False,\n",
              "  'word.isdigit()': False,\n",
              "  'pos': 'NN',\n",
              "  'pos[:2]': 'NN',\n",
              "  '-1:word.lower()': 'regular',\n",
              "  '-1:word.istitle()': False,\n",
              "  '-1:word.isupper()': False,\n",
              "  '-1:pos': 'JJ',\n",
              "  '-1:pos[:2]': 'JJ',\n",
              "  '+1:word.lower()': '.',\n",
              "  '+1:word.istitle()': False,\n",
              "  '+1:word.isupper()': False,\n",
              "  '+1:pos': '.',\n",
              "  '+1:pos[:2]': '.'},\n",
              " {'bias': 1.0,\n",
              "  'word.lower()': '.',\n",
              "  'word[-3:]': '.',\n",
              "  'word[-2:]': '.',\n",
              "  'word.isupper()': False,\n",
              "  'word.istitle()': False,\n",
              "  'word.isdigit()': False,\n",
              "  'pos': '.',\n",
              "  'pos[:2]': '.',\n",
              "  '-1:word.lower()': 'ibuprofen',\n",
              "  '-1:word.istitle()': False,\n",
              "  '-1:word.isupper()': False,\n",
              "  '-1:pos': 'NN',\n",
              "  '-1:pos[:2]': 'NN',\n",
              "  'EOS': True}]"
            ]
          },
          "metadata": {},
          "execution_count": 15
        }
      ]
    },
    {
      "cell_type": "code",
      "source": [
        "y[0]"
      ],
      "metadata": {
        "colab": {
          "base_uri": "https://localhost:8080/"
        },
        "id": "NuIyjX7P4FOU",
        "outputId": "48047012-f398-41ad-d0fa-c6033a34ab19"
      },
      "id": "NuIyjX7P4FOU",
      "execution_count": null,
      "outputs": [
        {
          "output_type": "execute_result",
          "data": {
            "text/plain": [
              "['O',\n",
              " 'O',\n",
              " 'O',\n",
              " 'O',\n",
              " 'O',\n",
              " 'O',\n",
              " 'B-Object',\n",
              " 'O',\n",
              " 'O',\n",
              " 'O',\n",
              " 'B-Predicate',\n",
              " 'O',\n",
              " 'B-Predicate',\n",
              " 'O',\n",
              " 'O',\n",
              " 'B-Aspect',\n",
              " 'O',\n",
              " 'O',\n",
              " 'B-Object',\n",
              " 'O']"
            ]
          },
          "metadata": {},
          "execution_count": 16
        }
      ]
    },
    {
      "cell_type": "code",
      "source": [
        "model = sklearn_crfsuite.CRF()\n",
        "model.fit(X, y)"
      ],
      "metadata": {
        "colab": {
          "base_uri": "https://localhost:8080/"
        },
        "id": "9MKPxNW101i1",
        "outputId": "9118db5a-4e28-4a7e-fc56-860907c6c3ce"
      },
      "id": "9MKPxNW101i1",
      "execution_count": null,
      "outputs": [
        {
          "output_type": "stream",
          "name": "stderr",
          "text": [
            "/usr/local/lib/python3.8/dist-packages/sklearn/base.py:209: FutureWarning: From version 0.24, get_params will raise an AttributeError if a parameter cannot be retrieved as an instance attribute. Previously it would return None.\n",
            "  warnings.warn('From version 0.24, get_params will raise an '\n"
          ]
        },
        {
          "output_type": "execute_result",
          "data": {
            "text/plain": [
              "CRF(keep_tempfiles=None)"
            ]
          },
          "metadata": {},
          "execution_count": 17
        }
      ]
    },
    {
      "cell_type": "code",
      "source": [
        "X_train = [sentence_features(sentence[0]) for sentence in train_dataset]\n",
        "preds = model.predict(X_train)\n",
        "f1_score = f1_score([e[1] for e in train_dataset], preds)"
      ],
      "metadata": {
        "id": "p8dbaH6M5BYM"
      },
      "id": "p8dbaH6M5BYM",
      "execution_count": null,
      "outputs": []
    },
    {
      "cell_type": "code",
      "source": [
        "print(f'F1 score: {f1_score}')"
      ],
      "metadata": {
        "colab": {
          "base_uri": "https://localhost:8080/"
        },
        "id": "H4_I8YUM5KB2",
        "outputId": "2a86a184-9956-4843-88ce-ae6a8a071c97"
      },
      "id": "H4_I8YUM5KB2",
      "execution_count": null,
      "outputs": [
        {
          "output_type": "stream",
          "name": "stdout",
          "text": [
            "F1 score: 0.8733081668354664\n"
          ]
        }
      ]
    },
    {
      "cell_type": "code",
      "source": [
        "print(classification_report([e[1] for e in train_dataset], preds))"
      ],
      "metadata": {
        "colab": {
          "base_uri": "https://localhost:8080/"
        },
        "id": "qkpnB0pG5QD_",
        "outputId": "424bb5b0-5d6f-4224-eb03-d1d59067e9c2"
      },
      "id": "qkpnB0pG5QD_",
      "execution_count": null,
      "outputs": [
        {
          "output_type": "stream",
          "name": "stdout",
          "text": [
            "              precision    recall  f1-score   support\n",
            "\n",
            "      Aspect       0.79      0.43      0.56      2069\n",
            "      Object       0.94      0.94      0.94      6174\n",
            "   Predicate       0.91      0.91      0.91      3109\n",
            "\n",
            "   micro avg       0.91      0.84      0.87     11352\n",
            "   macro avg       0.88      0.76      0.80     11352\n",
            "weighted avg       0.90      0.84      0.86     11352\n",
            "\n"
          ]
        }
      ]
    },
    {
      "cell_type": "markdown",
      "id": "23773d4e-e8d7-4e56-9610-4ee61b38c65a",
      "metadata": {
        "id": "23773d4e-e8d7-4e56-9610-4ee61b38c65a"
      },
      "source": [
        "## Preds for Dev Dataset"
      ]
    },
    {
      "cell_type": "code",
      "source": [
        "pred_data = dev_dataset[0]\n",
        "X_pred = [sentence_features(sentence[0]) for sentence in [pred_data]]\n",
        "preds = model.predict(X_pred)\n",
        "\n",
        "list(zip([e[0] for e in pred_data[0]], preds[0]))"
      ],
      "metadata": {
        "colab": {
          "base_uri": "https://localhost:8080/"
        },
        "id": "XDPgrkej5lXF",
        "outputId": "13ebed7c-2570-467e-b62d-139e60bb687c"
      },
      "id": "XDPgrkej5lXF",
      "execution_count": null,
      "outputs": [
        {
          "output_type": "execute_result",
          "data": {
            "text/plain": [
              "[('meanwhile', 'O'),\n",
              " (',', 'O'),\n",
              " ('though', 'O'),\n",
              " ('windows', 'O'),\n",
              " ('8', 'O'),\n",
              " ('is', 'O'),\n",
              " ('significantly', 'O'),\n",
              " ('at', 'O'),\n",
              " ('greater', 'O'),\n",
              " ('risk', 'O'),\n",
              " ('(', 'O'),\n",
              " ('1', 'O'),\n",
              " ('.', 'O'),\n",
              " ('73', 'O'),\n",
              " ('percent', 'O'),\n",
              " (')', 'O'),\n",
              " ('compared', 'O'),\n",
              " ('to', 'O'),\n",
              " ('windows', 'O'),\n",
              " ('8', 'O'),\n",
              " ('.', 'O'),\n",
              " ('1', 'O'),\n",
              " (',', 'O'),\n",
              " ('according', 'O'),\n",
              " ('to', 'O'),\n",
              " ('redmond', 'O'),\n",
              " (\"'\", 'O'),\n",
              " ('s', 'O'),\n",
              " ('report', 'O'),\n",
              " (',', 'O'),\n",
              " ('it', 'O'),\n",
              " (\"'\", 'O'),\n",
              " ('s', 'O'),\n",
              " ('still', 'O'),\n",
              " ('significantly', 'O'),\n",
              " ('safer', 'B-Predicate'),\n",
              " ('than', 'O'),\n",
              " ('windows', 'B-Object'),\n",
              " ('7', 'O'),\n",
              " (',', 'O'),\n",
              " ('windows', 'O'),\n",
              " ('xp', 'O'),\n",
              " (',', 'O'),\n",
              " ('or', 'O'),\n",
              " ('windows', 'O'),\n",
              " ('vista', 'O'),\n",
              " ('.', 'O')]"
            ]
          },
          "metadata": {},
          "execution_count": 21
        }
      ]
    },
    {
      "cell_type": "code",
      "source": [
        "X_test = [sentence_features(sentence[0]) for sentence in dev_dataset]\n",
        "preds = model.predict(X_test)"
      ],
      "metadata": {
        "id": "ELVKepD45nCr"
      },
      "id": "ELVKepD45nCr",
      "execution_count": null,
      "outputs": []
    },
    {
      "cell_type": "code",
      "source": [
        "sentences = [sent[0] for sent in dev_dataset_1]\n",
        "with open(\"out_dev.tsv\", \"w\") as w:\n",
        "    for words, labels in zip(sentences, preds):\n",
        "      for i, y in zip(words, labels):\n",
        "\n",
        "          # print(f\"{i}\\t{y}\\n\")\n",
        "          w.write(f\"{i}\\t{y}\\n\")\n",
        "\n",
        "      w.write(\"\\n\")"
      ],
      "metadata": {
        "id": "2hQ0MrO257cH"
      },
      "id": "2hQ0MrO257cH",
      "execution_count": null,
      "outputs": []
    },
    {
      "cell_type": "code",
      "source": [
        "!zip out_dev.zip out_dev.tsv"
      ],
      "metadata": {
        "colab": {
          "base_uri": "https://localhost:8080/"
        },
        "id": "wt2DLdRT5_lo",
        "outputId": "a6562c3e-8f05-4d9f-f4ac-780581f16dd4"
      },
      "id": "wt2DLdRT5_lo",
      "execution_count": null,
      "outputs": [
        {
          "output_type": "stream",
          "name": "stdout",
          "text": [
            "  adding: out_dev.tsv (deflated 73%)\n"
          ]
        }
      ]
    },
    {
      "cell_type": "markdown",
      "source": [
        "## Preds for Test Dataset"
      ],
      "metadata": {
        "id": "F9lwBBtb6IHx"
      },
      "id": "F9lwBBtb6IHx"
    },
    {
      "cell_type": "code",
      "source": [
        "X_test = [sentence_features(sentence[0]) for sentence in test_dataset]\n",
        "preds = model.predict(X_test)"
      ],
      "metadata": {
        "id": "Fd0hmezX6Fh0"
      },
      "id": "Fd0hmezX6Fh0",
      "execution_count": null,
      "outputs": []
    },
    {
      "cell_type": "code",
      "source": [
        "sentences = [sent[0] for sent in test_dataset_1]\n",
        "with open(\"out_test.tsv\", \"w\") as w:\n",
        "    for words, labels in zip(sentences, preds):\n",
        "      for i, y in zip(words, labels):\n",
        "\n",
        "          w.write(f\"{i}\\t{y}\\n\")\n",
        "\n",
        "      w.write(\"\\n\")"
      ],
      "metadata": {
        "id": "TOIWYxaC6NH6"
      },
      "id": "TOIWYxaC6NH6",
      "execution_count": null,
      "outputs": []
    },
    {
      "cell_type": "code",
      "source": [
        "!zip out_test.zip out_test.tsv"
      ],
      "metadata": {
        "colab": {
          "base_uri": "https://localhost:8080/"
        },
        "id": "yLEDeWy96V07",
        "outputId": "18f396a4-ecb3-4c27-da85-adbf6ce032b4"
      },
      "id": "yLEDeWy96V07",
      "execution_count": null,
      "outputs": [
        {
          "output_type": "stream",
          "name": "stdout",
          "text": [
            "  adding: out_test.tsv (deflated 74%)\n"
          ]
        }
      ]
    }
  ],
  "metadata": {
    "kernelspec": {
      "display_name": "Python 3",
      "language": "python",
      "name": "python3"
    },
    "language_info": {
      "codemirror_mode": {
        "name": "ipython",
        "version": 3
      },
      "file_extension": ".py",
      "mimetype": "text/x-python",
      "name": "python",
      "nbconvert_exporter": "python",
      "pygments_lexer": "ipython3",
      "version": "3.7.10"
    },
    "colab": {
      "provenance": []
    },
    "accelerator": "GPU",
    "gpuClass": "standard"
  },
  "nbformat": 4,
  "nbformat_minor": 5
}
