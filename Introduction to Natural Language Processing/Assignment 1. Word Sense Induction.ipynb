{
 "cells": [
  {
   "cell_type": "markdown",
   "id": "b09d7a19-5848-43f4-9d91-f35d4e8614b0",
   "metadata": {
    "id": "b09d7a19-5848-43f4-9d91-f35d4e8614b0"
   },
   "source": [
    "# 1. Information about the submission"
   ]
  },
  {
   "cell_type": "markdown",
   "id": "e37cb5bb-f3d0-4c11-a1dc-2490a208fcd3",
   "metadata": {
    "id": "e37cb5bb-f3d0-4c11-a1dc-2490a208fcd3"
   },
   "source": [
    "## 1.1 Name and number of the assignment "
   ]
  },
  {
   "cell_type": "markdown",
   "id": "4e9d00b8-f3e5-4a44-bcc6-35cdd60767a9",
   "metadata": {
    "id": "4e9d00b8-f3e5-4a44-bcc6-35cdd60767a9"
   },
   "source": [
    "**Word Sense Induction**. Assignment 1"
   ]
  },
  {
   "cell_type": "markdown",
   "id": "64ba7f63-66ec-4691-a5d2-17f4679e298d",
   "metadata": {
    "id": "64ba7f63-66ec-4691-a5d2-17f4679e298d"
   },
   "source": [
    "## 1.2 Student name"
   ]
  },
  {
   "cell_type": "markdown",
   "id": "cc8a4e09-62cc-43fd-a7a7-3e9d55ec13b2",
   "metadata": {
    "id": "cc8a4e09-62cc-43fd-a7a7-3e9d55ec13b2"
   },
   "source": [
    " **Nikolay Kalmykov**"
   ]
  },
  {
   "cell_type": "markdown",
   "id": "8a46ab45-d215-41af-b910-63ff4a215a07",
   "metadata": {
    "id": "8a46ab45-d215-41af-b910-63ff4a215a07"
   },
   "source": [
    "## 1.3 Codalab user ID"
   ]
  },
  {
   "cell_type": "markdown",
   "id": "b15cd6b5-8e20-4287-b6ea-a7b0904b355a",
   "metadata": {
    "id": "b15cd6b5-8e20-4287-b6ea-a7b0904b355a"
   },
   "source": [
    "**Niсk**"
   ]
  },
  {
   "cell_type": "markdown",
   "id": "1af498ab-3c00-4d36-a962-c947862fede8",
   "metadata": {
    "id": "1af498ab-3c00-4d36-a962-c947862fede8"
   },
   "source": [
    "# 2. Technical Report"
   ]
  },
  {
   "cell_type": "markdown",
   "id": "061f71b9-114a-4cb0-b531-5711970317bf",
   "metadata": {
    "id": "061f71b9-114a-4cb0-b531-5711970317bf"
   },
   "source": [
    "## 2.1 Methodology "
   ]
  },
  {
   "cell_type": "markdown",
   "id": "c327f43e-ed30-4279-bba2-a97b2f8ef9e3",
   "metadata": {
    "id": "c327f43e-ed30-4279-bba2-a97b2f8ef9e3"
   },
   "source": [
    "I used `RuBert-based model of DeepPavlov` (12-layer, 768-hidden, 12-heads, 180M parameters), that was trained on the Russian part of Wikipedia and news data.\n",
    "\n",
    "The main advantage of BERT over models like Word2Vec is the producing of word representations that are dynamically informed by the words around them.\n",
    "\n",
    "1) Use the column `positions` and find the indexes of tokens that correspond to `target words` from column `word`.\n",
    "\n",
    "2) Convert tokens to PyTorch tensors, run the data through BERT model and collect all of the hidden states.\n",
    "\n",
    "3) Find the sum of the vectors from the `last of 4 layers`.\n",
    "\n",
    "4) Calculate the final context embedding (`sum of weighted token embeddings`).\n",
    "\n",
    "5) Select the number of clusters with `silhouette` analysis.\n",
    "\n",
    "6) Use `KMeans` for clustering."
   ]
  },
  {
   "cell_type": "markdown",
   "id": "afe27e49-10c7-4c12-adea-48b0a05a5681",
   "metadata": {
    "id": "afe27e49-10c7-4c12-adea-48b0a05a5681"
   },
   "source": [
    "## 2.2 Discussion of results"
   ]
  },
  {
   "cell_type": "markdown",
   "id": "b5b1c84c-c261-46b5-a009-0f2bc4002752",
   "metadata": {
    "id": "b5b1c84c-c261-46b5-a009-0f2bc4002752"
   },
   "source": [
    "The BERT model with weighted sum works quite well for `wiki-wiki` and `bts-rnc` dataset.\n",
    "\n",
    "Method | ARI of wiki-wiki | ARI of bts-rnc | ARI of active-dict\n",
    "--- | --- | --- | --- |\n",
    "Baseline | 0.5275 | 0.2133 | 0.1181\n",
    "BERT | 0.9428 | 0.2949 | 0.1538\n",
    "\n",
    "But, the ARI score for `active-dict` is slightly below Baseline. This dataset is a bit weird, because in some contexts the `target word` began to disappear, contexts from one word began to appear, and so on. It doesn't quite fit the task. However, in order to improve the speed on the `active-dict` dataset, you can try to take other models like ELMO, etc (which will be under this domain of phrases, words, etc.)."
   ]
  },
  {
   "cell_type": "markdown",
   "id": "194fecf1-e044-4210-a54b-aefbf4b4eebe",
   "metadata": {
    "id": "194fecf1-e044-4210-a54b-aefbf4b4eebe"
   },
   "source": [
    "# 3. Code"
   ]
  },
  {
   "cell_type": "markdown",
   "id": "dff93e37-3a24-40ab-87db-16b537aad3f6",
   "metadata": {
    "id": "dff93e37-3a24-40ab-87db-16b537aad3f6"
   },
   "source": [
    "## 3.1 Requirements"
   ]
  },
  {
   "cell_type": "code",
   "execution_count": 1,
   "id": "73daa932-114b-4e28-9141-13b57c729435",
   "metadata": {
    "colab": {
     "base_uri": "https://localhost:8080/"
    },
    "id": "73daa932-114b-4e28-9141-13b57c729435",
    "outputId": "775d9a49-0e93-4078-f490-4b78f1abe076"
   },
   "outputs": [
    {
     "name": "stdout",
     "output_type": "stream",
     "text": [
      "Defaulting to user installation because normal site-packages is not writeable\n",
      "Requirement already satisfied: transformers in c:\\users\\nikolay\\appdata\\roaming\\python\\python38\\site-packages (4.24.0)\n",
      "Requirement already satisfied: regex!=2019.12.17 in c:\\users\\nikolay\\appdata\\roaming\\python\\python38\\site-packages (from transformers) (2022.10.31)\n",
      "Requirement already satisfied: packaging>=20.0 in c:\\users\\nikolay\\appdata\\roaming\\python\\python38\\site-packages (from transformers) (21.3)\n",
      "Requirement already satisfied: pyyaml>=5.1 in c:\\users\\nikolay\\appdata\\roaming\\python\\python38\\site-packages (from transformers) (6.0)\n",
      "Requirement already satisfied: huggingface-hub<1.0,>=0.10.0 in c:\\users\\nikolay\\appdata\\roaming\\python\\python38\\site-packages (from transformers) (0.10.1)\n",
      "Requirement already satisfied: tokenizers!=0.11.3,<0.14,>=0.11.1 in c:\\users\\nikolay\\appdata\\roaming\\python\\python38\\site-packages (from transformers) (0.13.2)\n",
      "Requirement already satisfied: tqdm>=4.27 in c:\\users\\nikolay\\appdata\\roaming\\python\\python38\\site-packages (from transformers) (4.64.1)\n",
      "Requirement already satisfied: filelock in c:\\users\\nikolay\\appdata\\roaming\\python\\python38\\site-packages (from transformers) (3.8.0)\n",
      "Requirement already satisfied: requests in c:\\users\\nikolay\\appdata\\roaming\\python\\python38\\site-packages (from transformers) (2.28.1)\n",
      "Requirement already satisfied: numpy>=1.17 in c:\\users\\nikolay\\appdata\\roaming\\python\\python38\\site-packages (from transformers) (1.22.4)\n",
      "Requirement already satisfied: typing-extensions>=3.7.4.3 in c:\\users\\nikolay\\appdata\\roaming\\python\\python38\\site-packages (from huggingface-hub<1.0,>=0.10.0->transformers) (4.4.0)\n",
      "Requirement already satisfied: pyparsing!=3.0.5,>=2.0.2 in c:\\users\\nikolay\\appdata\\roaming\\python\\python38\\site-packages (from packaging>=20.0->transformers) (3.0.9)\n",
      "Requirement already satisfied: colorama in c:\\users\\nikolay\\appdata\\roaming\\python\\python38\\site-packages (from tqdm>=4.27->transformers) (0.4.5)\n",
      "Requirement already satisfied: urllib3<1.27,>=1.21.1 in c:\\users\\nikolay\\appdata\\roaming\\python\\python38\\site-packages (from requests->transformers) (1.26.12)\n",
      "Requirement already satisfied: certifi>=2017.4.17 in c:\\users\\nikolay\\appdata\\roaming\\python\\python38\\site-packages (from requests->transformers) (2022.9.24)\n",
      "Requirement already satisfied: idna<4,>=2.5 in c:\\users\\nikolay\\appdata\\roaming\\python\\python38\\site-packages (from requests->transformers) (3.4)\n",
      "Requirement already satisfied: charset-normalizer<3,>=2 in c:\\users\\nikolay\\appdata\\roaming\\python\\python38\\site-packages (from requests->transformers) (2.1.1)\n"
     ]
    }
   ],
   "source": [
    "!pip install transformers"
   ]
  },
  {
   "cell_type": "code",
   "execution_count": 2,
   "id": "hoKSeCoPxZ_x",
   "metadata": {
    "colab": {
     "base_uri": "https://localhost:8080/"
    },
    "id": "hoKSeCoPxZ_x",
    "outputId": "0f6f4ed2-a315-4d7d-fa4c-7acffcbb8b3b"
   },
   "outputs": [
    {
     "name": "stdout",
     "output_type": "stream",
     "text": [
      "Looking in indexes: https://pypi.org/simple, https://us-python.pkg.dev/colab-wheels/public/simple/\n",
      "Requirement already satisfied: pymystem3==0.1.10 in /usr/local/lib/python3.7/dist-packages (0.1.10)\n",
      "Requirement already satisfied: requests in /usr/local/lib/python3.7/dist-packages (from pymystem3==0.1.10) (2.23.0)\n",
      "Requirement already satisfied: idna<3,>=2.5 in /usr/local/lib/python3.7/dist-packages (from requests->pymystem3==0.1.10) (2.10)\n",
      "Requirement already satisfied: chardet<4,>=3.0.2 in /usr/local/lib/python3.7/dist-packages (from requests->pymystem3==0.1.10) (3.0.4)\n",
      "Requirement already satisfied: certifi>=2017.4.17 in /usr/local/lib/python3.7/dist-packages (from requests->pymystem3==0.1.10) (2022.9.24)\n",
      "Requirement already satisfied: urllib3!=1.25.0,!=1.25.1,<1.26,>=1.21.1 in /usr/local/lib/python3.7/dist-packages (from requests->pymystem3==0.1.10) (1.24.3)\n"
     ]
    }
   ],
   "source": [
    "!pip install pymystem3==0.1.10"
   ]
  },
  {
   "cell_type": "code",
   "execution_count": 3,
   "id": "lsqq407DxfCj",
   "metadata": {
    "colab": {
     "base_uri": "https://localhost:8080/"
    },
    "id": "lsqq407DxfCj",
    "outputId": "165db9fc-ec02-4250-8951-c295885675b6"
   },
   "outputs": [
    {
     "name": "stdout",
     "output_type": "stream",
     "text": [
      "--2022-11-30 20:46:11--  http://download.cdn.yandex.net/mystem/mystem-3.0-linux3.1-64bit.tar.gz\n",
      "Resolving download.cdn.yandex.net (download.cdn.yandex.net)... 5.45.205.241, 5.45.205.242, 5.45.205.243, ...\n",
      "Connecting to download.cdn.yandex.net (download.cdn.yandex.net)|5.45.205.241|:80... connected.\n",
      "HTTP request sent, awaiting response... 302 Found\n",
      "Location: http://cachev2-mskm902.cdn.yandex.net/download.cdn.yandex.net/mystem/mystem-3.0-linux3.1-64bit.tar.gz?lid=235 [following]\n",
      "--2022-11-30 20:46:11--  http://cachev2-mskm902.cdn.yandex.net/download.cdn.yandex.net/mystem/mystem-3.0-linux3.1-64bit.tar.gz?lid=235\n",
      "Resolving cachev2-mskm902.cdn.yandex.net (cachev2-mskm902.cdn.yandex.net)... 5.45.220.91, 2a02:6b8:0:2002::991\n",
      "Connecting to cachev2-mskm902.cdn.yandex.net (cachev2-mskm902.cdn.yandex.net)|5.45.220.91|:80... connected.\n",
      "HTTP request sent, awaiting response... 200 OK\n",
      "Length: 16457938 (16M) [application/octet-stream]\n",
      "Saving to: ‘mystem-3.0-linux3.1-64bit.tar.gz.1’\n",
      "\n",
      "mystem-3.0-linux3.1 100%[===================>]  15.70M  9.39MB/s    in 1.7s    \n",
      "\n",
      "2022-11-30 20:46:13 (9.39 MB/s) - ‘mystem-3.0-linux3.1-64bit.tar.gz.1’ saved [16457938/16457938]\n",
      "\n",
      "mystem\n"
     ]
    }
   ],
   "source": [
    "!wget http://download.cdn.yandex.net/mystem/mystem-3.0-linux3.1-64bit.tar.gz\n",
    "!tar -xvf mystem-3.0-linux3.1-64bit.tar.gz\n",
    "!cp mystem /root/.local/bin/mystem"
   ]
  },
  {
   "cell_type": "code",
   "execution_count": 4,
   "id": "wf41S6i-f1ra",
   "metadata": {
    "id": "wf41S6i-f1ra"
   },
   "outputs": [],
   "source": [
    "from transformers import BertTokenizer, BertModel\n",
    "import torch\n",
    "\n",
    "import matplotlib.pyplot as plt\n",
    "import pandas as pd\n",
    "import numpy as np\n",
    "import statistics\n",
    "\n",
    "from typing import Tuple\n",
    "from pymystem3 import Mystem\n",
    "mystem = Mystem() \n",
    "import re\n",
    "\n",
    "from scipy.cluster.hierarchy import dendrogram\n",
    "from sklearn.cluster import AgglomerativeClustering\n",
    "from sklearn.metrics import classification_report\n",
    "from sklearn.metrics.cluster import adjusted_rand_score\n",
    "from sklearn.cluster import KMeans\n",
    "from sklearn.metrics import silhouette_score"
   ]
  },
  {
   "cell_type": "markdown",
   "id": "1b3c19fa-f883-4675-9506-85c4f02f0af9",
   "metadata": {
    "id": "1b3c19fa-f883-4675-9506-85c4f02f0af9"
   },
   "source": [
    "## 3.2 Download the data"
   ]
  },
  {
   "cell_type": "markdown",
   "id": "uBdcQaFygJw4",
   "metadata": {
    "id": "uBdcQaFygJw4"
   },
   "source": [
    "### wiki-wiki"
   ]
  },
  {
   "cell_type": "code",
   "execution_count": 5,
   "id": "UamvHIAYgCTH",
   "metadata": {
    "colab": {
     "base_uri": "https://localhost:8080/"
    },
    "id": "UamvHIAYgCTH",
    "outputId": "48b1d5c3-9272-4902-ee8c-2e9f15efa57b"
   },
   "outputs": [
    {
     "name": "stdout",
     "output_type": "stream",
     "text": [
      "--2022-11-30 20:46:25--  https://raw.githubusercontent.com/nlpub/russe-wsi-kit/master/data/main/wiki-wiki/test.csv\n",
      "Resolving raw.githubusercontent.com (raw.githubusercontent.com)... 185.199.108.133, 185.199.111.133, 185.199.109.133, ...\n",
      "Connecting to raw.githubusercontent.com (raw.githubusercontent.com)|185.199.108.133|:443... connected.\n",
      "HTTP request sent, awaiting response... 200 OK\n",
      "Length: 526626 (514K) [text/plain]\n",
      "Saving to: ‘test.csv’\n",
      "\n",
      "test.csv            100%[===================>] 514.28K  --.-KB/s    in 0.04s   \n",
      "\n",
      "2022-11-30 20:46:25 (12.2 MB/s) - ‘test.csv’ saved [526626/526626]\n",
      "\n",
      "--2022-11-30 20:46:25--  https://raw.githubusercontent.com/nlpub/russe-wsi-kit/master/data/main/wiki-wiki/train.csv\n",
      "Resolving raw.githubusercontent.com (raw.githubusercontent.com)... 185.199.109.133, 185.199.108.133, 185.199.111.133, ...\n",
      "Connecting to raw.githubusercontent.com (raw.githubusercontent.com)|185.199.109.133|:443... connected.\n",
      "HTTP request sent, awaiting response... 200 OK\n",
      "Length: 365614 (357K) [text/plain]\n",
      "Saving to: ‘train.csv’\n",
      "\n",
      "train.csv           100%[===================>] 357.04K  --.-KB/s    in 0.03s   \n",
      "\n",
      "2022-11-30 20:46:26 (10.4 MB/s) - ‘train.csv’ saved [365614/365614]\n",
      "\n"
     ]
    }
   ],
   "source": [
    "!wget https://raw.githubusercontent.com/nlpub/russe-wsi-kit/master/data/main/wiki-wiki/test.csv\n",
    "!wget https://raw.githubusercontent.com/nlpub/russe-wsi-kit/master/data/main/wiki-wiki/train.csv"
   ]
  },
  {
   "cell_type": "markdown",
   "id": "W9nJISoagd6l",
   "metadata": {
    "id": "W9nJISoagd6l"
   },
   "source": [
    "### bts-rnc"
   ]
  },
  {
   "cell_type": "code",
   "execution_count": 6,
   "id": "SuNAntHcgGts",
   "metadata": {
    "colab": {
     "base_uri": "https://localhost:8080/"
    },
    "id": "SuNAntHcgGts",
    "outputId": "75de57e6-e07b-41df-db69-bc3fb6a37e0e"
   },
   "outputs": [
    {
     "name": "stdout",
     "output_type": "stream",
     "text": [
      "--2022-11-30 20:46:26--  https://raw.githubusercontent.com/nlpub/russe-wsi-kit/fixed_datasets/data/main/bts-rnc/test.csv\n",
      "Resolving raw.githubusercontent.com (raw.githubusercontent.com)... 185.199.108.133, 185.199.109.133, 185.199.110.133, ...\n",
      "Connecting to raw.githubusercontent.com (raw.githubusercontent.com)|185.199.108.133|:443... connected.\n",
      "HTTP request sent, awaiting response... 200 OK\n",
      "Length: 2161510 (2.1M) [text/plain]\n",
      "Saving to: ‘test.csv.1’\n",
      "\n",
      "test.csv.1          100%[===================>]   2.06M  --.-KB/s    in 0.07s   \n",
      "\n",
      "2022-11-30 20:46:26 (30.0 MB/s) - ‘test.csv.1’ saved [2161510/2161510]\n",
      "\n",
      "--2022-11-30 20:46:26--  https://raw.githubusercontent.com/nlpub/russe-wsi-kit/fixed_datasets/data/main/bts-rnc/train.csv\n",
      "Resolving raw.githubusercontent.com (raw.githubusercontent.com)... 185.199.108.133, 185.199.109.133, 185.199.110.133, ...\n",
      "Connecting to raw.githubusercontent.com (raw.githubusercontent.com)|185.199.108.133|:443... connected.\n",
      "HTTP request sent, awaiting response... 200 OK\n",
      "Length: 1162226 (1.1M) [text/plain]\n",
      "Saving to: ‘train.csv.1’\n",
      "\n",
      "train.csv.1         100%[===================>]   1.11M  --.-KB/s    in 0.05s   \n",
      "\n",
      "2022-11-30 20:46:27 (20.7 MB/s) - ‘train.csv.1’ saved [1162226/1162226]\n",
      "\n"
     ]
    }
   ],
   "source": [
    "!wget https://raw.githubusercontent.com/nlpub/russe-wsi-kit/fixed_datasets/data/main/bts-rnc/test.csv\n",
    "!wget https://raw.githubusercontent.com/nlpub/russe-wsi-kit/fixed_datasets/data/main/bts-rnc/train.csv"
   ]
  },
  {
   "cell_type": "markdown",
   "id": "hTHx_9K2gvgy",
   "metadata": {
    "id": "hTHx_9K2gvgy"
   },
   "source": [
    "### active-dict"
   ]
  },
  {
   "cell_type": "code",
   "execution_count": 7,
   "id": "8f366b0f-7d0b-44e0-bb82-0d82c3ea1bb1",
   "metadata": {
    "colab": {
     "base_uri": "https://localhost:8080/"
    },
    "id": "8f366b0f-7d0b-44e0-bb82-0d82c3ea1bb1",
    "outputId": "4b0b2413-19aa-4586-b212-3533d5a3ae29"
   },
   "outputs": [
    {
     "name": "stdout",
     "output_type": "stream",
     "text": [
      "--2022-11-30 20:46:27--  https://raw.githubusercontent.com/nlpub/russe-wsi-kit/fixed_datasets/data/main/active-dict/test.csv\n",
      "Resolving raw.githubusercontent.com (raw.githubusercontent.com)... 185.199.108.133, 185.199.109.133, 185.199.110.133, ...\n",
      "Connecting to raw.githubusercontent.com (raw.githubusercontent.com)|185.199.108.133|:443... connected.\n",
      "HTTP request sent, awaiting response... 200 OK\n",
      "Length: 635305 (620K) [text/plain]\n",
      "Saving to: ‘test.csv.2’\n",
      "\n",
      "test.csv.2          100%[===================>] 620.42K  --.-KB/s    in 0.04s   \n",
      "\n",
      "2022-11-30 20:46:27 (13.7 MB/s) - ‘test.csv.2’ saved [635305/635305]\n",
      "\n",
      "--2022-11-30 20:46:27--  https://raw.githubusercontent.com/nlpub/russe-wsi-kit/fixed_datasets/data/main/active-dict/train.csv\n",
      "Resolving raw.githubusercontent.com (raw.githubusercontent.com)... 185.199.108.133, 185.199.109.133, 185.199.110.133, ...\n",
      "Connecting to raw.githubusercontent.com (raw.githubusercontent.com)|185.199.108.133|:443... connected.\n",
      "HTTP request sent, awaiting response... 200 OK\n",
      "Length: 350987 (343K) [text/plain]\n",
      "Saving to: ‘train.csv.2’\n",
      "\n",
      "train.csv.2         100%[===================>] 342.76K  --.-KB/s    in 0.03s   \n",
      "\n",
      "2022-11-30 20:46:27 (9.99 MB/s) - ‘train.csv.2’ saved [350987/350987]\n",
      "\n"
     ]
    }
   ],
   "source": [
    "!wget https://raw.githubusercontent.com/nlpub/russe-wsi-kit/fixed_datasets/data/main/active-dict/test.csv\n",
    "!wget https://raw.githubusercontent.com/nlpub/russe-wsi-kit/fixed_datasets/data/main/active-dict/train.csv"
   ]
  },
  {
   "cell_type": "markdown",
   "id": "oaezKnXXpKZv",
   "metadata": {
    "id": "oaezKnXXpKZv"
   },
   "source": [
    "## Switching between datasets\n",
    "If you want to swith dataset, just change the next variables:"
   ]
  },
  {
   "cell_type": "code",
   "execution_count": 8,
   "id": "m9bfffXunx3a",
   "metadata": {
    "id": "m9bfffXunx3a"
   },
   "outputs": [],
   "source": [
    "path_to_train_df = 'train.csv' # 'train.csv' - wiki-wiki, 'train.csv.1' - bts-rnc, 'train.csv.2' - active-dict\n",
    "path_to_test_df = 'test.csv' #  'test.csv' - wiki-wiki, 'test.csv.1' - bts-rnc, 'test.csv.2' - active-dict\n",
    "path_to_output = '/content/wiki_test.csv' # '/content/wiki_test.csv', '/content/bts_rnc_test.csv', '/content/active_dict_test.csv' \n",
    "delimeter_for_positions = ',' # ', ' - wiki-wiki, ',' - bts-rnc, ',' - active-dict"
   ]
  },
  {
   "cell_type": "markdown",
   "id": "UMLuQaz3acPh",
   "metadata": {
    "id": "UMLuQaz3acPh"
   },
   "source": [
    "## Train"
   ]
  },
  {
   "cell_type": "code",
   "execution_count": 9,
   "id": "A7zIGaPiaNa4",
   "metadata": {
    "colab": {
     "base_uri": "https://localhost:8080/",
     "height": 0
    },
    "id": "A7zIGaPiaNa4",
    "outputId": "f20bbef5-0072-4cb9-fc18-2526a4dc9d2b"
   },
   "outputs": [
    {
     "data": {
      "text/html": [
       "\n",
       "  <div id=\"df-f507b3f6-b031-4500-bf27-7e380a358918\">\n",
       "    <div class=\"colab-df-container\">\n",
       "      <div>\n",
       "<style scoped>\n",
       "    .dataframe tbody tr th:only-of-type {\n",
       "        vertical-align: middle;\n",
       "    }\n",
       "\n",
       "    .dataframe tbody tr th {\n",
       "        vertical-align: top;\n",
       "    }\n",
       "\n",
       "    .dataframe thead th {\n",
       "        text-align: right;\n",
       "    }\n",
       "</style>\n",
       "<table border=\"1\" class=\"dataframe\">\n",
       "  <thead>\n",
       "    <tr style=\"text-align: right;\">\n",
       "      <th></th>\n",
       "      <th>word</th>\n",
       "      <th>gold_sense_id</th>\n",
       "      <th>predict_sense_id</th>\n",
       "      <th>positions</th>\n",
       "      <th>context</th>\n",
       "    </tr>\n",
       "    <tr>\n",
       "      <th>context_id</th>\n",
       "      <th></th>\n",
       "      <th></th>\n",
       "      <th></th>\n",
       "      <th></th>\n",
       "      <th></th>\n",
       "    </tr>\n",
       "  </thead>\n",
       "  <tbody>\n",
       "    <tr>\n",
       "      <th>1</th>\n",
       "      <td>замок</td>\n",
       "      <td>1</td>\n",
       "      <td>NaN</td>\n",
       "      <td>0-5, 339-344</td>\n",
       "      <td>замок владимира мономаха в любече . многочисле...</td>\n",
       "    </tr>\n",
       "    <tr>\n",
       "      <th>2</th>\n",
       "      <td>замок</td>\n",
       "      <td>1</td>\n",
       "      <td>NaN</td>\n",
       "      <td>11-16, 17-22, 188-193</td>\n",
       "      <td>шильонский замок замок шильйон ( ) , известный...</td>\n",
       "    </tr>\n",
       "    <tr>\n",
       "      <th>3</th>\n",
       "      <td>замок</td>\n",
       "      <td>1</td>\n",
       "      <td>NaN</td>\n",
       "      <td>299-304</td>\n",
       "      <td>проведения архитектурно - археологических рабо...</td>\n",
       "    </tr>\n",
       "    <tr>\n",
       "      <th>4</th>\n",
       "      <td>замок</td>\n",
       "      <td>1</td>\n",
       "      <td>NaN</td>\n",
       "      <td>111-116</td>\n",
       "      <td>топи с . , л . белокуров легенда о завещании м...</td>\n",
       "    </tr>\n",
       "    <tr>\n",
       "      <th>5</th>\n",
       "      <td>замок</td>\n",
       "      <td>1</td>\n",
       "      <td>NaN</td>\n",
       "      <td>134-139, 262-267</td>\n",
       "      <td>великий князь литовский гедимин после успешной...</td>\n",
       "    </tr>\n",
       "  </tbody>\n",
       "</table>\n",
       "</div>\n",
       "      <button class=\"colab-df-convert\" onclick=\"convertToInteractive('df-f507b3f6-b031-4500-bf27-7e380a358918')\"\n",
       "              title=\"Convert this dataframe to an interactive table.\"\n",
       "              style=\"display:none;\">\n",
       "        \n",
       "  <svg xmlns=\"http://www.w3.org/2000/svg\" height=\"24px\"viewBox=\"0 0 24 24\"\n",
       "       width=\"24px\">\n",
       "    <path d=\"M0 0h24v24H0V0z\" fill=\"none\"/>\n",
       "    <path d=\"M18.56 5.44l.94 2.06.94-2.06 2.06-.94-2.06-.94-.94-2.06-.94 2.06-2.06.94zm-11 1L8.5 8.5l.94-2.06 2.06-.94-2.06-.94L8.5 2.5l-.94 2.06-2.06.94zm10 10l.94 2.06.94-2.06 2.06-.94-2.06-.94-.94-2.06-.94 2.06-2.06.94z\"/><path d=\"M17.41 7.96l-1.37-1.37c-.4-.4-.92-.59-1.43-.59-.52 0-1.04.2-1.43.59L10.3 9.45l-7.72 7.72c-.78.78-.78 2.05 0 2.83L4 21.41c.39.39.9.59 1.41.59.51 0 1.02-.2 1.41-.59l7.78-7.78 2.81-2.81c.8-.78.8-2.07 0-2.86zM5.41 20L4 18.59l7.72-7.72 1.47 1.35L5.41 20z\"/>\n",
       "  </svg>\n",
       "      </button>\n",
       "      \n",
       "  <style>\n",
       "    .colab-df-container {\n",
       "      display:flex;\n",
       "      flex-wrap:wrap;\n",
       "      gap: 12px;\n",
       "    }\n",
       "\n",
       "    .colab-df-convert {\n",
       "      background-color: #E8F0FE;\n",
       "      border: none;\n",
       "      border-radius: 50%;\n",
       "      cursor: pointer;\n",
       "      display: none;\n",
       "      fill: #1967D2;\n",
       "      height: 32px;\n",
       "      padding: 0 0 0 0;\n",
       "      width: 32px;\n",
       "    }\n",
       "\n",
       "    .colab-df-convert:hover {\n",
       "      background-color: #E2EBFA;\n",
       "      box-shadow: 0px 1px 2px rgba(60, 64, 67, 0.3), 0px 1px 3px 1px rgba(60, 64, 67, 0.15);\n",
       "      fill: #174EA6;\n",
       "    }\n",
       "\n",
       "    [theme=dark] .colab-df-convert {\n",
       "      background-color: #3B4455;\n",
       "      fill: #D2E3FC;\n",
       "    }\n",
       "\n",
       "    [theme=dark] .colab-df-convert:hover {\n",
       "      background-color: #434B5C;\n",
       "      box-shadow: 0px 1px 3px 1px rgba(0, 0, 0, 0.15);\n",
       "      filter: drop-shadow(0px 1px 2px rgba(0, 0, 0, 0.3));\n",
       "      fill: #FFFFFF;\n",
       "    }\n",
       "  </style>\n",
       "\n",
       "      <script>\n",
       "        const buttonEl =\n",
       "          document.querySelector('#df-f507b3f6-b031-4500-bf27-7e380a358918 button.colab-df-convert');\n",
       "        buttonEl.style.display =\n",
       "          google.colab.kernel.accessAllowed ? 'block' : 'none';\n",
       "\n",
       "        async function convertToInteractive(key) {\n",
       "          const element = document.querySelector('#df-f507b3f6-b031-4500-bf27-7e380a358918');\n",
       "          const dataTable =\n",
       "            await google.colab.kernel.invokeFunction('convertToInteractive',\n",
       "                                                     [key], {});\n",
       "          if (!dataTable) return;\n",
       "\n",
       "          const docLinkHtml = 'Like what you see? Visit the ' +\n",
       "            '<a target=\"_blank\" href=https://colab.research.google.com/notebooks/data_table.ipynb>data table notebook</a>'\n",
       "            + ' to learn more about interactive tables.';\n",
       "          element.innerHTML = '';\n",
       "          dataTable['output_type'] = 'display_data';\n",
       "          await google.colab.output.renderOutput(dataTable, element);\n",
       "          const docLink = document.createElement('div');\n",
       "          docLink.innerHTML = docLinkHtml;\n",
       "          element.appendChild(docLink);\n",
       "        }\n",
       "      </script>\n",
       "    </div>\n",
       "  </div>\n",
       "  "
      ],
      "text/plain": [
       "             word  gold_sense_id  predict_sense_id              positions  \\\n",
       "context_id                                                                  \n",
       "1           замок              1               NaN           0-5, 339-344   \n",
       "2           замок              1               NaN  11-16, 17-22, 188-193   \n",
       "3           замок              1               NaN                299-304   \n",
       "4           замок              1               NaN                111-116   \n",
       "5           замок              1               NaN       134-139, 262-267   \n",
       "\n",
       "                                                      context  \n",
       "context_id                                                     \n",
       "1           замок владимира мономаха в любече . многочисле...  \n",
       "2           шильонский замок замок шильйон ( ) , известный...  \n",
       "3           проведения архитектурно - археологических рабо...  \n",
       "4           топи с . , л . белокуров легенда о завещании м...  \n",
       "5           великий князь литовский гедимин после успешной...  "
      ]
     },
     "execution_count": 9,
     "metadata": {},
     "output_type": "execute_result"
    }
   ],
   "source": [
    "train_df = pd.read_csv(path_to_train_df, delimiter='\\t', index_col=0)\n",
    "train_df.head()"
   ]
  },
  {
   "cell_type": "code",
   "execution_count": 10,
   "id": "M4Y-mVp9bJ0t",
   "metadata": {
    "colab": {
     "base_uri": "https://localhost:8080/"
    },
    "id": "M4Y-mVp9bJ0t",
    "outputId": "abd839a0-b8c2-4443-ae80-ac9705dd0eb9"
   },
   "outputs": [
    {
     "data": {
      "text/plain": [
       "(439, 5)"
      ]
     },
     "execution_count": 10,
     "metadata": {},
     "output_type": "execute_result"
    }
   ],
   "source": [
    "train_df.shape"
   ]
  },
  {
   "cell_type": "markdown",
   "id": "ev-RGBsQbFLv",
   "metadata": {
    "id": "ev-RGBsQbFLv"
   },
   "source": [
    "### Number of unique words"
   ]
  },
  {
   "cell_type": "code",
   "execution_count": 11,
   "id": "o_DcSDVaawkZ",
   "metadata": {
    "colab": {
     "base_uri": "https://localhost:8080/"
    },
    "id": "o_DcSDVaawkZ",
    "outputId": "2cb37a00-25d3-4594-9b9f-bd15bf67a44c"
   },
   "outputs": [
    {
     "data": {
      "text/plain": [
       "4"
      ]
     },
     "execution_count": 11,
     "metadata": {},
     "output_type": "execute_result"
    }
   ],
   "source": [
    "train_df.word.nunique()"
   ]
  },
  {
   "cell_type": "code",
   "execution_count": 12,
   "id": "x-V6CvyMawuB",
   "metadata": {
    "colab": {
     "base_uri": "https://localhost:8080/"
    },
    "id": "x-V6CvyMawuB",
    "outputId": "39fed72e-716a-4c35-da6b-34fab1ec0eb3"
   },
   "outputs": [
    {
     "data": {
      "text/plain": [
       "замок    138\n",
       "суда     135\n",
       "лук      110\n",
       "бор       56\n",
       "Name: word, dtype: int64"
      ]
     },
     "execution_count": 12,
     "metadata": {},
     "output_type": "execute_result"
    }
   ],
   "source": [
    "train_df.word.value_counts()"
   ]
  },
  {
   "cell_type": "markdown",
   "id": "pYEF1P9Kbx8d",
   "metadata": {
    "id": "pYEF1P9Kbx8d"
   },
   "source": [
    "### Number of unique meanings"
   ]
  },
  {
   "cell_type": "code",
   "execution_count": 13,
   "id": "MCgt3DPGbw4b",
   "metadata": {
    "colab": {
     "base_uri": "https://localhost:8080/"
    },
    "id": "MCgt3DPGbw4b",
    "outputId": "bcd6b25a-82c0-41db-9600-e44adabc8b33"
   },
   "outputs": [
    {
     "data": {
      "text/plain": [
       "8"
      ]
     },
     "execution_count": 13,
     "metadata": {},
     "output_type": "execute_result"
    }
   ],
   "source": [
    "train_df.groupby('word')['gold_sense_id'].nunique().sum()"
   ]
  },
  {
   "cell_type": "markdown",
   "id": "fNgTJ9Jxb5Rp",
   "metadata": {
    "id": "fNgTJ9Jxb5Rp"
   },
   "source": [
    "### Data Statistics (only for wiki-wiki)"
   ]
  },
  {
   "cell_type": "code",
   "execution_count": 14,
   "id": "UtGUgQQwaw2p",
   "metadata": {
    "colab": {
     "base_uri": "https://localhost:8080/",
     "height": 0
    },
    "id": "UtGUgQQwaw2p",
    "outputId": "d6f631f7-9818-42a8-92b9-8823bc0e2b54"
   },
   "outputs": [
    {
     "data": {
      "image/png": "[encoded data removed]",
      "text/plain": [
       "<Figure size 1008x864 with 4 Axes>"
      ]
     },
     "metadata": {
      "needs_background": "light"
     },
     "output_type": "display_data"
    }
   ],
   "source": [
    "if path_to_train_df == 'train.csv':\n",
    "    help_dict = {\n",
    "        1: (0, 0),\n",
    "        2: (0, 1),\n",
    "        3: (1, 0),\n",
    "        4: (1, 1)\n",
    "    }\n",
    "\n",
    "    fig, axs = plt.subplots(2, 2)\n",
    "    counter = 1\n",
    "\n",
    "    for w, temp_df in train_df.groupby('word'):\n",
    "\n",
    "        distrib = {'1': 0, '2': 0}\n",
    "\n",
    "        for i, temp2_df in temp_df.groupby('gold_sense_id'):\n",
    "            for positions in temp2_df['positions']:\n",
    "                distrib[str(i)] += len(positions.split(','))\n",
    "        \n",
    "        axs[help_dict[counter]].bar(x=list(distrib.keys()), height=list(distrib.values()))\n",
    "        \n",
    "        for bar in axs[help_dict[counter]].patches:\n",
    "            axs[help_dict[counter]].annotate(\n",
    "                format(bar.get_height(), '.2f'),\n",
    "                (bar.get_x() + bar.get_width() / 2,\n",
    "                bar.get_height()), ha='center', va='center',\n",
    "                size=14, xytext=(0, 6),\n",
    "                textcoords='offset points'\n",
    "            )\n",
    "\n",
    "        axs[help_dict[counter]].set_title(f'\"{w.capitalize()}\" sence distribution:', fontsize=14)\n",
    "\n",
    "        counter += 1\n",
    "\n",
    "    fig.set_size_inches(14, 12)\n",
    "    fig\n",
    "    fig.show()\n",
    "\n",
    "else:\n",
    "    print('None')"
   ]
  },
  {
   "cell_type": "markdown",
   "id": "_ilbY9Z-r1O0",
   "metadata": {
    "id": "_ilbY9Z-r1O0"
   },
   "source": [
    "### Replacing NaN with 'None' (only for active-dict)"
   ]
  },
  {
   "cell_type": "code",
   "execution_count": 15,
   "id": "N5cSgGlIrxIY",
   "metadata": {
    "colab": {
     "base_uri": "https://localhost:8080/"
    },
    "id": "N5cSgGlIrxIY",
    "outputId": "091f9015-aec0-4235-9c1c-e832d32673d8"
   },
   "outputs": [
    {
     "name": "stdout",
     "output_type": "stream",
     "text": [
      "Count samples without positions: 0\n"
     ]
    }
   ],
   "source": [
    "print(f'Count samples without positions: {train_df.positions.isnull().sum()}')"
   ]
  },
  {
   "cell_type": "code",
   "execution_count": 16,
   "id": "6Cr8frEYsA3f",
   "metadata": {
    "id": "6Cr8frEYsA3f"
   },
   "outputs": [],
   "source": [
    "train_df.positions.fillna('None', inplace=True) "
   ]
  },
  {
   "cell_type": "code",
   "execution_count": 17,
   "id": "bp8Q34lhxXCW",
   "metadata": {
    "colab": {
     "base_uri": "https://localhost:8080/"
    },
    "id": "bp8Q34lhxXCW",
    "outputId": "24ec1669-91ac-43c1-dbe1-a416c8bf1f37"
   },
   "outputs": [
    {
     "name": "stdout",
     "output_type": "stream",
     "text": [
      "Count samples without positions: 0\n"
     ]
    }
   ],
   "source": [
    "print(f'Count samples without positions: {train_df.positions.isnull().sum()}')"
   ]
  },
  {
   "cell_type": "markdown",
   "id": "jmrEB2Zzc17y",
   "metadata": {
    "id": "jmrEB2Zzc17y"
   },
   "source": [
    "## Test"
   ]
  },
  {
   "cell_type": "code",
   "execution_count": 18,
   "id": "YJ1Q8PXeaw_N",
   "metadata": {
    "colab": {
     "base_uri": "https://localhost:8080/",
     "height": 0
    },
    "id": "YJ1Q8PXeaw_N",
    "outputId": "a026ec6d-e64b-4098-9f56-d275ef463895"
   },
   "outputs": [
    {
     "data": {
      "text/html": [
       "\n",
       "  <div id=\"df-de794384-c3a3-4c14-98fe-23c9fe10ccb8\">\n",
       "    <div class=\"colab-df-container\">\n",
       "      <div>\n",
       "<style scoped>\n",
       "    .dataframe tbody tr th:only-of-type {\n",
       "        vertical-align: middle;\n",
       "    }\n",
       "\n",
       "    .dataframe tbody tr th {\n",
       "        vertical-align: top;\n",
       "    }\n",
       "\n",
       "    .dataframe thead th {\n",
       "        text-align: right;\n",
       "    }\n",
       "</style>\n",
       "<table border=\"1\" class=\"dataframe\">\n",
       "  <thead>\n",
       "    <tr style=\"text-align: right;\">\n",
       "      <th></th>\n",
       "      <th>word</th>\n",
       "      <th>gold_sense_id</th>\n",
       "      <th>predict_sense_id</th>\n",
       "      <th>positions</th>\n",
       "      <th>context</th>\n",
       "    </tr>\n",
       "    <tr>\n",
       "      <th>context_id</th>\n",
       "      <th></th>\n",
       "      <th></th>\n",
       "      <th></th>\n",
       "      <th></th>\n",
       "      <th></th>\n",
       "    </tr>\n",
       "  </thead>\n",
       "  <tbody>\n",
       "    <tr>\n",
       "      <th>440</th>\n",
       "      <td>банка</td>\n",
       "      <td>NaN</td>\n",
       "      <td>NaN</td>\n",
       "      <td>7-12, 36-41</td>\n",
       "      <td>здание банка китая ( макао ) здание банка кита...</td>\n",
       "    </tr>\n",
       "    <tr>\n",
       "      <th>441</th>\n",
       "      <td>банка</td>\n",
       "      <td>NaN</td>\n",
       "      <td>NaN</td>\n",
       "      <td>13-18, 201-206</td>\n",
       "      <td>трехлитровая банка во времена ссср такие банки...</td>\n",
       "    </tr>\n",
       "    <tr>\n",
       "      <th>442</th>\n",
       "      <td>банка</td>\n",
       "      <td>NaN</td>\n",
       "      <td>NaN</td>\n",
       "      <td>21-26, 58-63, 101-106, 263-268, 538-543</td>\n",
       "      <td>здание национального банка украины в здании на...</td>\n",
       "    </tr>\n",
       "    <tr>\n",
       "      <th>443</th>\n",
       "      <td>банка</td>\n",
       "      <td>NaN</td>\n",
       "      <td>NaN</td>\n",
       "      <td>134-139, 262-267, 345-350</td>\n",
       "      <td>зюдфиртель города эссен ( федеральная земля се...</td>\n",
       "    </tr>\n",
       "    <tr>\n",
       "      <th>444</th>\n",
       "      <td>банка</td>\n",
       "      <td>NaN</td>\n",
       "      <td>NaN</td>\n",
       "      <td>43-48, 300-305, 381-386, 521-526</td>\n",
       "      <td>ведения боевых действий полевые учреждения бан...</td>\n",
       "    </tr>\n",
       "  </tbody>\n",
       "</table>\n",
       "</div>\n",
       "      <button class=\"colab-df-convert\" onclick=\"convertToInteractive('df-de794384-c3a3-4c14-98fe-23c9fe10ccb8')\"\n",
       "              title=\"Convert this dataframe to an interactive table.\"\n",
       "              style=\"display:none;\">\n",
       "        \n",
       "  <svg xmlns=\"http://www.w3.org/2000/svg\" height=\"24px\"viewBox=\"0 0 24 24\"\n",
       "       width=\"24px\">\n",
       "    <path d=\"M0 0h24v24H0V0z\" fill=\"none\"/>\n",
       "    <path d=\"M18.56 5.44l.94 2.06.94-2.06 2.06-.94-2.06-.94-.94-2.06-.94 2.06-2.06.94zm-11 1L8.5 8.5l.94-2.06 2.06-.94-2.06-.94L8.5 2.5l-.94 2.06-2.06.94zm10 10l.94 2.06.94-2.06 2.06-.94-2.06-.94-.94-2.06-.94 2.06-2.06.94z\"/><path d=\"M17.41 7.96l-1.37-1.37c-.4-.4-.92-.59-1.43-.59-.52 0-1.04.2-1.43.59L10.3 9.45l-7.72 7.72c-.78.78-.78 2.05 0 2.83L4 21.41c.39.39.9.59 1.41.59.51 0 1.02-.2 1.41-.59l7.78-7.78 2.81-2.81c.8-.78.8-2.07 0-2.86zM5.41 20L4 18.59l7.72-7.72 1.47 1.35L5.41 20z\"/>\n",
       "  </svg>\n",
       "      </button>\n",
       "      \n",
       "  <style>\n",
       "    .colab-df-container {\n",
       "      display:flex;\n",
       "      flex-wrap:wrap;\n",
       "      gap: 12px;\n",
       "    }\n",
       "\n",
       "    .colab-df-convert {\n",
       "      background-color: #E8F0FE;\n",
       "      border: none;\n",
       "      border-radius: 50%;\n",
       "      cursor: pointer;\n",
       "      display: none;\n",
       "      fill: #1967D2;\n",
       "      height: 32px;\n",
       "      padding: 0 0 0 0;\n",
       "      width: 32px;\n",
       "    }\n",
       "\n",
       "    .colab-df-convert:hover {\n",
       "      background-color: #E2EBFA;\n",
       "      box-shadow: 0px 1px 2px rgba(60, 64, 67, 0.3), 0px 1px 3px 1px rgba(60, 64, 67, 0.15);\n",
       "      fill: #174EA6;\n",
       "    }\n",
       "\n",
       "    [theme=dark] .colab-df-convert {\n",
       "      background-color: #3B4455;\n",
       "      fill: #D2E3FC;\n",
       "    }\n",
       "\n",
       "    [theme=dark] .colab-df-convert:hover {\n",
       "      background-color: #434B5C;\n",
       "      box-shadow: 0px 1px 3px 1px rgba(0, 0, 0, 0.15);\n",
       "      filter: drop-shadow(0px 1px 2px rgba(0, 0, 0, 0.3));\n",
       "      fill: #FFFFFF;\n",
       "    }\n",
       "  </style>\n",
       "\n",
       "      <script>\n",
       "        const buttonEl =\n",
       "          document.querySelector('#df-de794384-c3a3-4c14-98fe-23c9fe10ccb8 button.colab-df-convert');\n",
       "        buttonEl.style.display =\n",
       "          google.colab.kernel.accessAllowed ? 'block' : 'none';\n",
       "\n",
       "        async function convertToInteractive(key) {\n",
       "          const element = document.querySelector('#df-de794384-c3a3-4c14-98fe-23c9fe10ccb8');\n",
       "          const dataTable =\n",
       "            await google.colab.kernel.invokeFunction('convertToInteractive',\n",
       "                                                     [key], {});\n",
       "          if (!dataTable) return;\n",
       "\n",
       "          const docLinkHtml = 'Like what you see? Visit the ' +\n",
       "            '<a target=\"_blank\" href=https://colab.research.google.com/notebooks/data_table.ipynb>data table notebook</a>'\n",
       "            + ' to learn more about interactive tables.';\n",
       "          element.innerHTML = '';\n",
       "          dataTable['output_type'] = 'display_data';\n",
       "          await google.colab.output.renderOutput(dataTable, element);\n",
       "          const docLink = document.createElement('div');\n",
       "          docLink.innerHTML = docLinkHtml;\n",
       "          element.appendChild(docLink);\n",
       "        }\n",
       "      </script>\n",
       "    </div>\n",
       "  </div>\n",
       "  "
      ],
      "text/plain": [
       "             word  gold_sense_id  predict_sense_id  \\\n",
       "context_id                                           \n",
       "440         банка            NaN               NaN   \n",
       "441         банка            NaN               NaN   \n",
       "442         банка            NaN               NaN   \n",
       "443         банка            NaN               NaN   \n",
       "444         банка            NaN               NaN   \n",
       "\n",
       "                                          positions  \\\n",
       "context_id                                            \n",
       "440                                     7-12, 36-41   \n",
       "441                                  13-18, 201-206   \n",
       "442         21-26, 58-63, 101-106, 263-268, 538-543   \n",
       "443                       134-139, 262-267, 345-350   \n",
       "444                43-48, 300-305, 381-386, 521-526   \n",
       "\n",
       "                                                      context  \n",
       "context_id                                                     \n",
       "440         здание банка китая ( макао ) здание банка кита...  \n",
       "441         трехлитровая банка во времена ссср такие банки...  \n",
       "442         здание национального банка украины в здании на...  \n",
       "443         зюдфиртель города эссен ( федеральная земля се...  \n",
       "444         ведения боевых действий полевые учреждения бан...  "
      ]
     },
     "execution_count": 18,
     "metadata": {},
     "output_type": "execute_result"
    }
   ],
   "source": [
    "test_df = pd.read_csv(path_to_test_df, delimiter='\\t', index_col=0)\n",
    "test_df.head()"
   ]
  },
  {
   "cell_type": "code",
   "execution_count": 19,
   "id": "AmsCo1QeaxHB",
   "metadata": {
    "colab": {
     "base_uri": "https://localhost:8080/"
    },
    "id": "AmsCo1QeaxHB",
    "outputId": "e8f5c5c1-da40-4845-b7c9-5e50ae6de528"
   },
   "outputs": [
    {
     "data": {
      "text/plain": [
       "(638, 5)"
      ]
     },
     "execution_count": 19,
     "metadata": {},
     "output_type": "execute_result"
    }
   ],
   "source": [
    "test_df.shape"
   ]
  },
  {
   "cell_type": "markdown",
   "id": "0FCORuxVdgs9",
   "metadata": {
    "id": "0FCORuxVdgs9"
   },
   "source": [
    "###### Deleting a 'гранат' from dataset (only for wiki-wiki)"
   ]
  },
  {
   "cell_type": "code",
   "execution_count": 20,
   "id": "YRPgnJLpaxPF",
   "metadata": {
    "colab": {
     "base_uri": "https://localhost:8080/"
    },
    "id": "YRPgnJLpaxPF",
    "outputId": "3a76df8f-e031-4167-d692-fcddd70b092b"
   },
   "outputs": [
    {
     "name": "stdout",
     "output_type": "stream",
     "text": [
      "(618, 5)\n"
     ]
    }
   ],
   "source": [
    "if path_to_test_df == 'test.csv':\n",
    "    test_df = test_df[test_df.word != \"гранат\"]\n",
    "    print(test_df.shape)\n",
    "else:\n",
    "    print(\"None\")"
   ]
  },
  {
   "cell_type": "markdown",
   "id": "dWZqSVnweEzu",
   "metadata": {
    "id": "dWZqSVnweEzu"
   },
   "source": [
    "### Number of unique words"
   ]
  },
  {
   "cell_type": "code",
   "execution_count": 21,
   "id": "z9tmGBr8axfI",
   "metadata": {
    "colab": {
     "base_uri": "https://localhost:8080/"
    },
    "id": "z9tmGBr8axfI",
    "outputId": "185d0c41-8f90-4add-8b31-cf8ae6cf1c07"
   },
   "outputs": [
    {
     "data": {
      "text/plain": [
       "6"
      ]
     },
     "execution_count": 21,
     "metadata": {},
     "output_type": "execute_result"
    }
   ],
   "source": [
    "test_df.word.nunique()"
   ]
  },
  {
   "cell_type": "code",
   "execution_count": 22,
   "id": "spPM56zJcuFt",
   "metadata": {
    "colab": {
     "base_uri": "https://localhost:8080/"
    },
    "id": "spPM56zJcuFt",
    "outputId": "4368b715-af95-43a6-b78d-885194787fe6"
   },
   "outputs": [
    {
     "data": {
      "text/plain": [
       "граф     148\n",
       "белка    135\n",
       "банка    112\n",
       "бит       84\n",
       "душ       79\n",
       "горе      60\n",
       "Name: word, dtype: int64"
      ]
     },
     "execution_count": 22,
     "metadata": {},
     "output_type": "execute_result"
    }
   ],
   "source": [
    "test_df.word.value_counts()"
   ]
  },
  {
   "cell_type": "markdown",
   "id": "7sj7hwvEfYFK",
   "metadata": {
    "id": "7sj7hwvEfYFK"
   },
   "source": [
    "### Replacing NaN with 'None' (only  for active-dict)"
   ]
  },
  {
   "cell_type": "code",
   "execution_count": 23,
   "id": "fZJVff1GfWgm",
   "metadata": {
    "colab": {
     "base_uri": "https://localhost:8080/"
    },
    "id": "fZJVff1GfWgm",
    "outputId": "7e366f95-154b-4470-cb8c-7f9a7d377551"
   },
   "outputs": [
    {
     "name": "stdout",
     "output_type": "stream",
     "text": [
      "Count samples without positions: 0\n"
     ]
    }
   ],
   "source": [
    "print(f'Count samples without positions: {test_df.positions.isnull().sum()}')"
   ]
  },
  {
   "cell_type": "code",
   "execution_count": 24,
   "id": "2LNftLTZfXFf",
   "metadata": {
    "id": "2LNftLTZfXFf"
   },
   "outputs": [],
   "source": [
    "test_df.positions.fillna('None', inplace=True) "
   ]
  },
  {
   "cell_type": "code",
   "execution_count": 25,
   "id": "nT8R-UR0f8od",
   "metadata": {
    "id": "nT8R-UR0f8od"
   },
   "outputs": [],
   "source": [
    "# test_df.iloc[2255:2260]"
   ]
  },
  {
   "cell_type": "markdown",
   "id": "791dc0e7-337d-46ad-96a3-543a732f19e2",
   "metadata": {
    "id": "791dc0e7-337d-46ad-96a3-543a732f19e2"
   },
   "source": [
    "## 3.3 Getting contextual embeddings with BERT"
   ]
  },
  {
   "cell_type": "code",
   "execution_count": 26,
   "id": "kLai_2WKg7WC",
   "metadata": {
    "id": "kLai_2WKg7WC"
   },
   "outputs": [],
   "source": [
    "tokenizer = BertTokenizer.from_pretrained('DeepPavlov/rubert-base-cased')"
   ]
  },
  {
   "cell_type": "markdown",
   "id": "9CEeIMhYhC60",
   "metadata": {
    "id": "9CEeIMhYhC60"
   },
   "source": [
    "#### Example"
   ]
  },
  {
   "cell_type": "code",
   "execution_count": 27,
   "id": "OKEOWfpAg-uV",
   "metadata": {
    "colab": {
     "base_uri": "https://localhost:8080/"
    },
    "id": "OKEOWfpAg-uV",
    "outputId": "b4b0747b-34bd-4979-f3e8-2873b47f9fe0"
   },
   "outputs": [
    {
     "name": "stdout",
     "output_type": "stream",
     "text": [
      "Input sentece: Привет, расскажи, что такое встраиваемые конструкции? \n",
      "\n",
      "After tokenized and added spec tokens: ['[CLS]', 'Привет', ',', 'расскаж', '##и', ',', 'что', 'такое', 'встра', '##иваемые', 'конструкции', '?', '[SEP]'] \n",
      "\n",
      "After converted str tokens to IDs: [101, 77527, 128, 61557, 852, 128, 1997, 16570, 64261, 63110, 19253, 166, 102]\n"
     ]
    }
   ],
   "source": [
    "text = \"Привет, расскажи, что такое встраиваемые конструкции?\"\n",
    "\n",
    "marked_text = \"[CLS] \" + text + \" [SEP]\" # Add special tokens\n",
    "tokenized_text = tokenizer.tokenize(marked_text) # Tokenize our sentence with the BERT tokenizer\n",
    "indexed_tokens = tokenizer.convert_tokens_to_ids(tokenized_text) # Convert tokens to their IDs from vocab\n",
    "\n",
    "print('Input sentece:', text,'\\n')\n",
    "print('After tokenized and added spec tokens:', tokenized_text, '\\n')\n",
    "print('After converted str tokens to IDs:', indexed_tokens)"
   ]
  },
  {
   "cell_type": "markdown",
   "id": "Oj4BNg6chQPD",
   "metadata": {
    "id": "Oj4BNg6chQPD"
   },
   "source": [
    "#### Loading the pretrained model (weights)"
   ]
  },
  {
   "cell_type": "code",
   "execution_count": 28,
   "id": "2eOqmOrKhMe-",
   "metadata": {
    "colab": {
     "base_uri": "https://localhost:8080/"
    },
    "id": "2eOqmOrKhMe-",
    "outputId": "47a366f1-3558-450b-cdcf-505f23b8927b"
   },
   "outputs": [
    {
     "name": "stderr",
     "output_type": "stream",
     "text": [
      "Some weights of the model checkpoint at DeepPavlov/rubert-base-cased were not used when initializing BertModel: ['cls.predictions.transform.dense.weight', 'cls.predictions.transform.dense.bias', 'cls.predictions.decoder.weight', 'cls.seq_relationship.weight', 'cls.predictions.bias', 'cls.predictions.decoder.bias', 'cls.predictions.transform.LayerNorm.bias', 'cls.seq_relationship.bias', 'cls.predictions.transform.LayerNorm.weight']\n",
      "- This IS expected if you are initializing BertModel from the checkpoint of a model trained on another task or with another architecture (e.g. initializing a BertForSequenceClassification model from a BertForPreTraining model).\n",
      "- This IS NOT expected if you are initializing BertModel from the checkpoint of a model that you expect to be exactly identical (initializing a BertForSequenceClassification model from a BertForSequenceClassification model).\n"
     ]
    }
   ],
   "source": [
    "# Load pre-trained model (weights)\n",
    "model = BertModel.from_pretrained(\n",
    "    'DeepPavlov/rubert-base-cased',\n",
    "    output_hidden_states = True # Whether the model returns all hidden-states.\n",
    ")"
   ]
  },
  {
   "cell_type": "markdown",
   "id": "_7vWgveDhqYB",
   "metadata": {
    "id": "_7vWgveDhqYB"
   },
   "source": [
    "#### Search of the index of \"our\" target token in the context according to the position coulm"
   ]
  },
  {
   "cell_type": "code",
   "execution_count": 29,
   "id": "rqoGjzv1hpZM",
   "metadata": {
    "id": "rqoGjzv1hpZM"
   },
   "outputs": [],
   "source": [
    "def pos_to_token_id(text: str, pos: Tuple[int, int]) -> int:\n",
    "    text_before = \"[CLS] \" + text[:pos[0]]\n",
    "    tokenized_text = tokenizer.tokenize(text_before) # tokens till target token\n",
    "\n",
    "    return len(tokenizer.convert_tokens_to_ids(tokenized_text))"
   ]
  },
  {
   "cell_type": "markdown",
   "id": "vZ3pvZPCiLNm",
   "metadata": {
    "id": "vZ3pvZPCiLNm"
   },
   "source": [
    "#### Search the embeddings for context of the certain word"
   ]
  },
  {
   "cell_type": "code",
   "execution_count": 30,
   "id": "LMP-_Fl3h6BU",
   "metadata": {
    "id": "LMP-_Fl3h6BU"
   },
   "outputs": [],
   "source": [
    "def get_embedding(df): # df is dataframe for each word\n",
    "\n",
    "    embeddings = []\n",
    "    gold_sense_ids = []\n",
    "\n",
    "    # run through each context for the specified word\n",
    "    for _, row in df.iterrows(): \n",
    "        gold_sense_id = row['gold_sense_id'] # label (only for train)\n",
    "        text = row['context'] # one context\n",
    "        \n",
    "        positions = row['positions'].split(delimeter_for_positions)\n",
    "        positions = [tuple(map(int, pos.split('-'))) for pos in positions]\n",
    "        target_token_ids = [pos_to_token_id(text, pos) for pos in positions] # positions of 'our' target tokens in the context\n",
    "\n",
    "        marked_text = \"[CLS] \" + text + \" [SEP]\"\n",
    "\n",
    "        tokenized_text = tokenizer.tokenize(marked_text)\n",
    "        indexed_tokens = tokenizer.convert_tokens_to_ids(tokenized_text)\n",
    "        segments_ids = [1] * len(tokenized_text)\n",
    "\n",
    "        tokens_tensor = torch.tensor([indexed_tokens])\n",
    "        segments_tensors = torch.tensor([segments_ids])\n",
    "\n",
    "        with torch.no_grad():\n",
    "            outputs = model(tokens_tensor, segments_tensors)\n",
    "            hidden_states = outputs[2]\n",
    "\n",
    "        token_embeddings = torch.stack(hidden_states, dim=0) # Concatenate the tensors for all layers\n",
    "        token_embeddings = torch.squeeze(token_embeddings, dim=1) # Remove dimension 1, the \"batches\"\n",
    "        token_embeddings = token_embeddings.permute(1,0,2) # Swap dimensions 0 and 1\n",
    "\n",
    "        # Implement a weighted sum of all tokens in the context\n",
    "        p_for_target = 0.6 #0.9\n",
    "        p_for_other = 0.4 #0.1\n",
    "        \n",
    "        weight_for_target = p_for_target / len(target_token_ids)\n",
    "        weight_for_other = p_for_other / (len(token_embeddings) - len(target_token_ids) -2)\n",
    "\n",
    "        weighted_token_embeds = []\n",
    "\n",
    "        for token_id in range(1, len(token_embeddings) - 1):\n",
    "            \n",
    "            sum_vec = torch.sum(token_embeddings[token_id][-4:], dim=0) # Sum of the vectors from the last four layers.\n",
    "            \n",
    "            if token_id in target_token_ids:\n",
    "                weighted_token_embeds.append(sum_vec.numpy() * weight_for_target)\n",
    "            else:\n",
    "                weighted_token_embeds.append(sum_vec.numpy() * weight_for_other)\n",
    "\n",
    "        embeddings.append(sum(weighted_token_embeds)) # Final embedding of one context. Size: 768.\n",
    "        gold_sense_ids.append(gold_sense_id)\n",
    "\n",
    "    return embeddings, gold_sense_ids"
   ]
  },
  {
   "cell_type": "markdown",
   "id": "4eex8I2olVV9",
   "metadata": {
    "id": "4eex8I2olVV9"
   },
   "source": [
    "## 3.4 Calculation of predict_sense_id"
   ]
  },
  {
   "cell_type": "markdown",
   "id": "Rg-iGHiezsyt",
   "metadata": {
    "id": "Rg-iGHiezsyt"
   },
   "source": [
    "### Search for positions of non-lemmatized words in the context"
   ]
  },
  {
   "cell_type": "code",
   "execution_count": 31,
   "id": "k3pjT_kax83j",
   "metadata": {
    "id": "k3pjT_kax83j"
   },
   "outputs": [],
   "source": [
    "def find_positions(source_text: str, target_word: str): # This function to restore the position of some words. (active-dict)\n",
    "\n",
    "    target = mystem.lemmatize(target_word)[0]\n",
    "    words = re.findall('[А-Яа-яЁё]+', source_text)\n",
    "\n",
    "    similar_with_target = []\n",
    "    for word in words:\n",
    "        if target == mystem.lemmatize(word.lower())[0]:\n",
    "            similar_with_target.append(word)\n",
    "    \n",
    "    similar_with_target = list(set(similar_with_target))\n",
    "    \n",
    "    if similar_with_target:\n",
    "        res_positions = []\n",
    "\n",
    "        for sim_target in similar_with_target:\n",
    "\n",
    "            count_target_word = source_text.count(sim_target)\n",
    "            len_target = len(sim_target)\n",
    "\n",
    "            end = 0\n",
    "            for _ in range(count_target_word):\n",
    "                start = end + source_text[end:].index(sim_target)\n",
    "                res_positions.append(f'{start}-{start + len_target}')\n",
    "                end = start + len_target\n",
    "\n",
    "        return ', '.join(res_positions)\n",
    "    else:\n",
    "        return 'None'"
   ]
  },
  {
   "cell_type": "markdown",
   "id": "uROt0INZmnkx",
   "metadata": {
    "id": "uROt0INZmnkx"
   },
   "source": [
    "### Train"
   ]
  },
  {
   "cell_type": "code",
   "execution_count": 32,
   "id": "2bHxHqr20Ppr",
   "metadata": {
    "colab": {
     "base_uri": "https://localhost:8080/"
    },
    "id": "2bHxHqr20Ppr",
    "outputId": "011d8da3-770b-4b59-8eaa-53feb601cc6e"
   },
   "outputs": [
    {
     "data": {
      "text/plain": [
       "0"
      ]
     },
     "execution_count": 32,
     "metadata": {},
     "output_type": "execute_result"
    }
   ],
   "source": [
    "train_df[train_df['positions'] == 'None'].shape[0]"
   ]
  },
  {
   "cell_type": "code",
   "execution_count": 33,
   "id": "N54LYvcx0P1X",
   "metadata": {
    "id": "N54LYvcx0P1X"
   },
   "outputs": [],
   "source": [
    "train_df['positions'] = train_df.apply(lambda x: find_positions(x.context, x.word) if x.positions == 'None' else x.positions, axis=1)"
   ]
  },
  {
   "cell_type": "code",
   "execution_count": 34,
   "id": "3X4ot-yi0P-5",
   "metadata": {
    "colab": {
     "base_uri": "https://localhost:8080/"
    },
    "id": "3X4ot-yi0P-5",
    "outputId": "01797747-40e4-4191-d06d-b965df7d7d30"
   },
   "outputs": [
    {
     "data": {
      "text/plain": [
       "0"
      ]
     },
     "execution_count": 34,
     "metadata": {},
     "output_type": "execute_result"
    }
   ],
   "source": [
    "train_df[train_df['positions'] == 'None'].shape[0]"
   ]
  },
  {
   "cell_type": "code",
   "execution_count": 35,
   "id": "-Gh_hLo5nFcG",
   "metadata": {
    "colab": {
     "base_uri": "https://localhost:8080/"
    },
    "id": "-Gh_hLo5nFcG",
    "outputId": "82e33cda-9e34-40bd-a1f5-8538cdfaeb9b"
   },
   "outputs": [
    {
     "data": {
      "text/plain": [
       "4"
      ]
     },
     "execution_count": 35,
     "metadata": {},
     "output_type": "execute_result"
    }
   ],
   "source": [
    "words_train = train_df['word'].unique().tolist()\n",
    "len(words_train)"
   ]
  },
  {
   "cell_type": "code",
   "execution_count": 36,
   "id": "abl7mU6Dh55W",
   "metadata": {
    "colab": {
     "base_uri": "https://localhost:8080/"
    },
    "id": "abl7mU6Dh55W",
    "outputId": "e73a6273-267c-419b-e21c-9504d66e6e64"
   },
   "outputs": [
    {
     "name": "stdout",
     "output_type": "stream",
     "text": [
      "Length of embedding:  138\n",
      "Number of predicted clusters:  2\n",
      "Current word:  замок\n",
      "Silhouette Score:  0.1204688\n",
      "Adjusted Rand Score:  0.8826724735997273\n",
      "\n",
      "Length of embedding:  110\n",
      "Number of predicted clusters:  2\n",
      "Current word:  лук\n",
      "Silhouette Score:  0.19694819\n",
      "Adjusted Rand Score:  0.7271202910466993\n",
      "\n",
      "Length of embedding:  135\n",
      "Number of predicted clusters:  2\n",
      "Current word:  суда\n",
      "Silhouette Score:  0.2480749\n",
      "Adjusted Rand Score:  1.0\n",
      "\n",
      "Length of embedding:  56\n",
      "Number of predicted clusters:  2\n",
      "Current word:  бор\n",
      "Silhouette Score:  0.2605024\n",
      "Adjusted Rand Score:  1.0\n",
      "\n",
      "0.9024481911616067\n"
     ]
    }
   ],
   "source": [
    "all_predicts_train = []\n",
    "ARI = []\n",
    "for word in words_train:\n",
    "\n",
    "    temp_df = train_df[train_df['word'] == word] # Create the df for the certain word\n",
    "    \n",
    "    embeddings, gold_sense_ids = get_embedding(temp_df[temp_df['positions'] != 'None'])\n",
    "\n",
    "    count_samples = len(embeddings) # Number of contexts\n",
    "    print('Length of embedding: ', count_samples)\n",
    "\n",
    "    # Search the number of clusters for each word\n",
    "    dict_silh = {}\n",
    "    for k in range(2, min(count_samples, 6)):\n",
    "        model_ = KMeans(n_clusters=k, random_state=19)\n",
    "        model_.fit(embeddings)\n",
    "        pred = model_.predict(embeddings)\n",
    "        dict_silh[k] = silhouette_score(embeddings, pred)\n",
    "\n",
    "    n_calc = max(dict_silh, key=dict_silh.get)\n",
    "    print(\"Number of predicted clusters: \", n_calc)\n",
    "\n",
    "    # Clustering with the selected number of clusters\n",
    "    kmeans = KMeans(n_clusters=n_calc, random_state=19).fit(embeddings)\n",
    "    predicts = kmeans.labels_\n",
    "\n",
    "    pred_labels = iter(predicts.tolist())\n",
    "    label_for_none = max(predicts) + 1 # Let's combine the contexts with df.position == 'None' into one cluster\n",
    "    res_labels = []\n",
    "    for _, row in temp_df.iterrows():\n",
    "        if row['positions'] != 'None':\n",
    "            res_labels.append(next(pred_labels))\n",
    "        else:\n",
    "            res_labels.append(label_for_none)\n",
    "\n",
    "    \n",
    "    all_predicts_train.extend(res_labels)\n",
    "    ARI.append(adjusted_rand_score(gold_sense_ids, predicts))\n",
    "    \n",
    "    print(\"Current word: \", word)\n",
    "    print(\"Silhouette Score: \", dict_silh[n_calc])\n",
    "    print(\"Adjusted Rand Score: \", adjusted_rand_score(gold_sense_ids, predicts))\n",
    "    print()\n",
    "\n",
    "print(statistics.mean(ARI))"
   ]
  },
  {
   "cell_type": "code",
   "execution_count": 37,
   "id": "y3FhbUTm38l_",
   "metadata": {
    "colab": {
     "base_uri": "https://localhost:8080/"
    },
    "id": "y3FhbUTm38l_",
    "outputId": "e31415dd-8c0f-442f-c347-745a09e00a67"
   },
   "outputs": [
    {
     "name": "stdout",
     "output_type": "stream",
     "text": [
      "0.9024481911616067\n"
     ]
    }
   ],
   "source": [
    "print(statistics.mean(ARI))"
   ]
  },
  {
   "cell_type": "code",
   "execution_count": 38,
   "id": "hPJ86zTWJ_9r",
   "metadata": {
    "colab": {
     "base_uri": "https://localhost:8080/"
    },
    "id": "hPJ86zTWJ_9r",
    "outputId": "c69331a0-9ce4-4c54-8a0e-542250da2f08"
   },
   "outputs": [
    {
     "data": {
      "text/plain": [
       "439"
      ]
     },
     "execution_count": 38,
     "metadata": {},
     "output_type": "execute_result"
    }
   ],
   "source": [
    "len(all_predicts_train)"
   ]
  },
  {
   "cell_type": "code",
   "execution_count": 39,
   "id": "4tUkAcePKmOB",
   "metadata": {
    "colab": {
     "base_uri": "https://localhost:8080/",
     "height": 175
    },
    "id": "4tUkAcePKmOB",
    "outputId": "e5cc4f1d-a8c2-47b2-b622-5ce3333a4f72"
   },
   "outputs": [
    {
     "data": {
      "text/html": [
       "\n",
       "  <div id=\"df-cf16b4ed-b499-42fc-ab16-e81da827a38c\">\n",
       "    <div class=\"colab-df-container\">\n",
       "      <div>\n",
       "<style scoped>\n",
       "    .dataframe tbody tr th:only-of-type {\n",
       "        vertical-align: middle;\n",
       "    }\n",
       "\n",
       "    .dataframe tbody tr th {\n",
       "        vertical-align: top;\n",
       "    }\n",
       "\n",
       "    .dataframe thead th {\n",
       "        text-align: right;\n",
       "    }\n",
       "</style>\n",
       "<table border=\"1\" class=\"dataframe\">\n",
       "  <thead>\n",
       "    <tr style=\"text-align: right;\">\n",
       "      <th></th>\n",
       "      <th>word</th>\n",
       "      <th>gold_sense_id</th>\n",
       "      <th>predict_sense_id</th>\n",
       "      <th>positions</th>\n",
       "      <th>context</th>\n",
       "    </tr>\n",
       "    <tr>\n",
       "      <th>context_id</th>\n",
       "      <th></th>\n",
       "      <th></th>\n",
       "      <th></th>\n",
       "      <th></th>\n",
       "      <th></th>\n",
       "    </tr>\n",
       "  </thead>\n",
       "  <tbody>\n",
       "    <tr>\n",
       "      <th>1</th>\n",
       "      <td>замок</td>\n",
       "      <td>1</td>\n",
       "      <td>NaN</td>\n",
       "      <td>0-5, 339-344</td>\n",
       "      <td>замок владимира мономаха в любече . многочисле...</td>\n",
       "    </tr>\n",
       "    <tr>\n",
       "      <th>2</th>\n",
       "      <td>замок</td>\n",
       "      <td>1</td>\n",
       "      <td>NaN</td>\n",
       "      <td>11-16, 17-22, 188-193</td>\n",
       "      <td>шильонский замок замок шильйон ( ) , известный...</td>\n",
       "    </tr>\n",
       "    <tr>\n",
       "      <th>3</th>\n",
       "      <td>замок</td>\n",
       "      <td>1</td>\n",
       "      <td>NaN</td>\n",
       "      <td>299-304</td>\n",
       "      <td>проведения архитектурно - археологических рабо...</td>\n",
       "    </tr>\n",
       "  </tbody>\n",
       "</table>\n",
       "</div>\n",
       "      <button class=\"colab-df-convert\" onclick=\"convertToInteractive('df-cf16b4ed-b499-42fc-ab16-e81da827a38c')\"\n",
       "              title=\"Convert this dataframe to an interactive table.\"\n",
       "              style=\"display:none;\">\n",
       "        \n",
       "  <svg xmlns=\"http://www.w3.org/2000/svg\" height=\"24px\"viewBox=\"0 0 24 24\"\n",
       "       width=\"24px\">\n",
       "    <path d=\"M0 0h24v24H0V0z\" fill=\"none\"/>\n",
       "    <path d=\"M18.56 5.44l.94 2.06.94-2.06 2.06-.94-2.06-.94-.94-2.06-.94 2.06-2.06.94zm-11 1L8.5 8.5l.94-2.06 2.06-.94-2.06-.94L8.5 2.5l-.94 2.06-2.06.94zm10 10l.94 2.06.94-2.06 2.06-.94-2.06-.94-.94-2.06-.94 2.06-2.06.94z\"/><path d=\"M17.41 7.96l-1.37-1.37c-.4-.4-.92-.59-1.43-.59-.52 0-1.04.2-1.43.59L10.3 9.45l-7.72 7.72c-.78.78-.78 2.05 0 2.83L4 21.41c.39.39.9.59 1.41.59.51 0 1.02-.2 1.41-.59l7.78-7.78 2.81-2.81c.8-.78.8-2.07 0-2.86zM5.41 20L4 18.59l7.72-7.72 1.47 1.35L5.41 20z\"/>\n",
       "  </svg>\n",
       "      </button>\n",
       "      \n",
       "  <style>\n",
       "    .colab-df-container {\n",
       "      display:flex;\n",
       "      flex-wrap:wrap;\n",
       "      gap: 12px;\n",
       "    }\n",
       "\n",
       "    .colab-df-convert {\n",
       "      background-color: #E8F0FE;\n",
       "      border: none;\n",
       "      border-radius: 50%;\n",
       "      cursor: pointer;\n",
       "      display: none;\n",
       "      fill: #1967D2;\n",
       "      height: 32px;\n",
       "      padding: 0 0 0 0;\n",
       "      width: 32px;\n",
       "    }\n",
       "\n",
       "    .colab-df-convert:hover {\n",
       "      background-color: #E2EBFA;\n",
       "      box-shadow: 0px 1px 2px rgba(60, 64, 67, 0.3), 0px 1px 3px 1px rgba(60, 64, 67, 0.15);\n",
       "      fill: #174EA6;\n",
       "    }\n",
       "\n",
       "    [theme=dark] .colab-df-convert {\n",
       "      background-color: #3B4455;\n",
       "      fill: #D2E3FC;\n",
       "    }\n",
       "\n",
       "    [theme=dark] .colab-df-convert:hover {\n",
       "      background-color: #434B5C;\n",
       "      box-shadow: 0px 1px 3px 1px rgba(0, 0, 0, 0.15);\n",
       "      filter: drop-shadow(0px 1px 2px rgba(0, 0, 0, 0.3));\n",
       "      fill: #FFFFFF;\n",
       "    }\n",
       "  </style>\n",
       "\n",
       "      <script>\n",
       "        const buttonEl =\n",
       "          document.querySelector('#df-cf16b4ed-b499-42fc-ab16-e81da827a38c button.colab-df-convert');\n",
       "        buttonEl.style.display =\n",
       "          google.colab.kernel.accessAllowed ? 'block' : 'none';\n",
       "\n",
       "        async function convertToInteractive(key) {\n",
       "          const element = document.querySelector('#df-cf16b4ed-b499-42fc-ab16-e81da827a38c');\n",
       "          const dataTable =\n",
       "            await google.colab.kernel.invokeFunction('convertToInteractive',\n",
       "                                                     [key], {});\n",
       "          if (!dataTable) return;\n",
       "\n",
       "          const docLinkHtml = 'Like what you see? Visit the ' +\n",
       "            '<a target=\"_blank\" href=https://colab.research.google.com/notebooks/data_table.ipynb>data table notebook</a>'\n",
       "            + ' to learn more about interactive tables.';\n",
       "          element.innerHTML = '';\n",
       "          dataTable['output_type'] = 'display_data';\n",
       "          await google.colab.output.renderOutput(dataTable, element);\n",
       "          const docLink = document.createElement('div');\n",
       "          docLink.innerHTML = docLinkHtml;\n",
       "          element.appendChild(docLink);\n",
       "        }\n",
       "      </script>\n",
       "    </div>\n",
       "  </div>\n",
       "  "
      ],
      "text/plain": [
       "             word  gold_sense_id  predict_sense_id              positions  \\\n",
       "context_id                                                                  \n",
       "1           замок              1               NaN           0-5, 339-344   \n",
       "2           замок              1               NaN  11-16, 17-22, 188-193   \n",
       "3           замок              1               NaN                299-304   \n",
       "\n",
       "                                                      context  \n",
       "context_id                                                     \n",
       "1           замок владимира мономаха в любече . многочисле...  \n",
       "2           шильонский замок замок шильйон ( ) , известный...  \n",
       "3           проведения архитектурно - археологических рабо...  "
      ]
     },
     "execution_count": 39,
     "metadata": {},
     "output_type": "execute_result"
    }
   ],
   "source": [
    "train_df.head(3)"
   ]
  },
  {
   "cell_type": "code",
   "execution_count": 40,
   "id": "oc6k7PlOh5wF",
   "metadata": {
    "id": "oc6k7PlOh5wF"
   },
   "outputs": [],
   "source": [
    "train_df['predict_sense_id'] = all_predicts_train"
   ]
  },
  {
   "cell_type": "code",
   "execution_count": 41,
   "id": "fFMvyw6kh5nA",
   "metadata": {
    "colab": {
     "base_uri": "https://localhost:8080/",
     "height": 175
    },
    "id": "fFMvyw6kh5nA",
    "outputId": "b34ae636-6565-4e63-c234-61f120cdd8fe"
   },
   "outputs": [
    {
     "data": {
      "text/html": [
       "\n",
       "  <div id=\"df-783aeea8-b675-494c-b5fa-5395bac20096\">\n",
       "    <div class=\"colab-df-container\">\n",
       "      <div>\n",
       "<style scoped>\n",
       "    .dataframe tbody tr th:only-of-type {\n",
       "        vertical-align: middle;\n",
       "    }\n",
       "\n",
       "    .dataframe tbody tr th {\n",
       "        vertical-align: top;\n",
       "    }\n",
       "\n",
       "    .dataframe thead th {\n",
       "        text-align: right;\n",
       "    }\n",
       "</style>\n",
       "<table border=\"1\" class=\"dataframe\">\n",
       "  <thead>\n",
       "    <tr style=\"text-align: right;\">\n",
       "      <th></th>\n",
       "      <th>word</th>\n",
       "      <th>gold_sense_id</th>\n",
       "      <th>predict_sense_id</th>\n",
       "      <th>positions</th>\n",
       "      <th>context</th>\n",
       "    </tr>\n",
       "    <tr>\n",
       "      <th>context_id</th>\n",
       "      <th></th>\n",
       "      <th></th>\n",
       "      <th></th>\n",
       "      <th></th>\n",
       "      <th></th>\n",
       "    </tr>\n",
       "  </thead>\n",
       "  <tbody>\n",
       "    <tr>\n",
       "      <th>1</th>\n",
       "      <td>замок</td>\n",
       "      <td>1</td>\n",
       "      <td>0</td>\n",
       "      <td>0-5, 339-344</td>\n",
       "      <td>замок владимира мономаха в любече . многочисле...</td>\n",
       "    </tr>\n",
       "    <tr>\n",
       "      <th>2</th>\n",
       "      <td>замок</td>\n",
       "      <td>1</td>\n",
       "      <td>0</td>\n",
       "      <td>11-16, 17-22, 188-193</td>\n",
       "      <td>шильонский замок замок шильйон ( ) , известный...</td>\n",
       "    </tr>\n",
       "    <tr>\n",
       "      <th>3</th>\n",
       "      <td>замок</td>\n",
       "      <td>1</td>\n",
       "      <td>0</td>\n",
       "      <td>299-304</td>\n",
       "      <td>проведения архитектурно - археологических рабо...</td>\n",
       "    </tr>\n",
       "  </tbody>\n",
       "</table>\n",
       "</div>\n",
       "      <button class=\"colab-df-convert\" onclick=\"convertToInteractive('df-783aeea8-b675-494c-b5fa-5395bac20096')\"\n",
       "              title=\"Convert this dataframe to an interactive table.\"\n",
       "              style=\"display:none;\">\n",
       "        \n",
       "  <svg xmlns=\"http://www.w3.org/2000/svg\" height=\"24px\"viewBox=\"0 0 24 24\"\n",
       "       width=\"24px\">\n",
       "    <path d=\"M0 0h24v24H0V0z\" fill=\"none\"/>\n",
       "    <path d=\"M18.56 5.44l.94 2.06.94-2.06 2.06-.94-2.06-.94-.94-2.06-.94 2.06-2.06.94zm-11 1L8.5 8.5l.94-2.06 2.06-.94-2.06-.94L8.5 2.5l-.94 2.06-2.06.94zm10 10l.94 2.06.94-2.06 2.06-.94-2.06-.94-.94-2.06-.94 2.06-2.06.94z\"/><path d=\"M17.41 7.96l-1.37-1.37c-.4-.4-.92-.59-1.43-.59-.52 0-1.04.2-1.43.59L10.3 9.45l-7.72 7.72c-.78.78-.78 2.05 0 2.83L4 21.41c.39.39.9.59 1.41.59.51 0 1.02-.2 1.41-.59l7.78-7.78 2.81-2.81c.8-.78.8-2.07 0-2.86zM5.41 20L4 18.59l7.72-7.72 1.47 1.35L5.41 20z\"/>\n",
       "  </svg>\n",
       "      </button>\n",
       "      \n",
       "  <style>\n",
       "    .colab-df-container {\n",
       "      display:flex;\n",
       "      flex-wrap:wrap;\n",
       "      gap: 12px;\n",
       "    }\n",
       "\n",
       "    .colab-df-convert {\n",
       "      background-color: #E8F0FE;\n",
       "      border: none;\n",
       "      border-radius: 50%;\n",
       "      cursor: pointer;\n",
       "      display: none;\n",
       "      fill: #1967D2;\n",
       "      height: 32px;\n",
       "      padding: 0 0 0 0;\n",
       "      width: 32px;\n",
       "    }\n",
       "\n",
       "    .colab-df-convert:hover {\n",
       "      background-color: #E2EBFA;\n",
       "      box-shadow: 0px 1px 2px rgba(60, 64, 67, 0.3), 0px 1px 3px 1px rgba(60, 64, 67, 0.15);\n",
       "      fill: #174EA6;\n",
       "    }\n",
       "\n",
       "    [theme=dark] .colab-df-convert {\n",
       "      background-color: #3B4455;\n",
       "      fill: #D2E3FC;\n",
       "    }\n",
       "\n",
       "    [theme=dark] .colab-df-convert:hover {\n",
       "      background-color: #434B5C;\n",
       "      box-shadow: 0px 1px 3px 1px rgba(0, 0, 0, 0.15);\n",
       "      filter: drop-shadow(0px 1px 2px rgba(0, 0, 0, 0.3));\n",
       "      fill: #FFFFFF;\n",
       "    }\n",
       "  </style>\n",
       "\n",
       "      <script>\n",
       "        const buttonEl =\n",
       "          document.querySelector('#df-783aeea8-b675-494c-b5fa-5395bac20096 button.colab-df-convert');\n",
       "        buttonEl.style.display =\n",
       "          google.colab.kernel.accessAllowed ? 'block' : 'none';\n",
       "\n",
       "        async function convertToInteractive(key) {\n",
       "          const element = document.querySelector('#df-783aeea8-b675-494c-b5fa-5395bac20096');\n",
       "          const dataTable =\n",
       "            await google.colab.kernel.invokeFunction('convertToInteractive',\n",
       "                                                     [key], {});\n",
       "          if (!dataTable) return;\n",
       "\n",
       "          const docLinkHtml = 'Like what you see? Visit the ' +\n",
       "            '<a target=\"_blank\" href=https://colab.research.google.com/notebooks/data_table.ipynb>data table notebook</a>'\n",
       "            + ' to learn more about interactive tables.';\n",
       "          element.innerHTML = '';\n",
       "          dataTable['output_type'] = 'display_data';\n",
       "          await google.colab.output.renderOutput(dataTable, element);\n",
       "          const docLink = document.createElement('div');\n",
       "          docLink.innerHTML = docLinkHtml;\n",
       "          element.appendChild(docLink);\n",
       "        }\n",
       "      </script>\n",
       "    </div>\n",
       "  </div>\n",
       "  "
      ],
      "text/plain": [
       "             word  gold_sense_id  predict_sense_id              positions  \\\n",
       "context_id                                                                  \n",
       "1           замок              1                 0           0-5, 339-344   \n",
       "2           замок              1                 0  11-16, 17-22, 188-193   \n",
       "3           замок              1                 0                299-304   \n",
       "\n",
       "                                                      context  \n",
       "context_id                                                     \n",
       "1           замок владимира мономаха в любече . многочисле...  \n",
       "2           шильонский замок замок шильйон ( ) , известный...  \n",
       "3           проведения архитектурно - археологических рабо...  "
      ]
     },
     "execution_count": 41,
     "metadata": {},
     "output_type": "execute_result"
    }
   ],
   "source": [
    "train_df.head(3)"
   ]
  },
  {
   "cell_type": "code",
   "execution_count": 42,
   "id": "b71a4653-86f2-448a-a2c4-17c02c1ba940",
   "metadata": {
    "colab": {
     "base_uri": "https://localhost:8080/",
     "height": 81
    },
    "id": "b71a4653-86f2-448a-a2c4-17c02c1ba940",
    "outputId": "e10c211c-de9d-48d1-b042-d12b599366ae",
    "tags": []
   },
   "outputs": [
    {
     "data": {
      "text/html": [
       "\n",
       "  <div id=\"df-1d00af2b-9e6f-419d-bfb8-807d5fc8495c\">\n",
       "    <div class=\"colab-df-container\">\n",
       "      <div>\n",
       "<style scoped>\n",
       "    .dataframe tbody tr th:only-of-type {\n",
       "        vertical-align: middle;\n",
       "    }\n",
       "\n",
       "    .dataframe tbody tr th {\n",
       "        vertical-align: top;\n",
       "    }\n",
       "\n",
       "    .dataframe thead th {\n",
       "        text-align: right;\n",
       "    }\n",
       "</style>\n",
       "<table border=\"1\" class=\"dataframe\">\n",
       "  <thead>\n",
       "    <tr style=\"text-align: right;\">\n",
       "      <th></th>\n",
       "      <th>word</th>\n",
       "      <th>gold_sense_id</th>\n",
       "      <th>predict_sense_id</th>\n",
       "      <th>positions</th>\n",
       "      <th>context</th>\n",
       "    </tr>\n",
       "    <tr>\n",
       "      <th>context_id</th>\n",
       "      <th></th>\n",
       "      <th></th>\n",
       "      <th></th>\n",
       "      <th></th>\n",
       "      <th></th>\n",
       "    </tr>\n",
       "  </thead>\n",
       "  <tbody>\n",
       "  </tbody>\n",
       "</table>\n",
       "</div>\n",
       "      <button class=\"colab-df-convert\" onclick=\"convertToInteractive('df-1d00af2b-9e6f-419d-bfb8-807d5fc8495c')\"\n",
       "              title=\"Convert this dataframe to an interactive table.\"\n",
       "              style=\"display:none;\">\n",
       "        \n",
       "  <svg xmlns=\"http://www.w3.org/2000/svg\" height=\"24px\"viewBox=\"0 0 24 24\"\n",
       "       width=\"24px\">\n",
       "    <path d=\"M0 0h24v24H0V0z\" fill=\"none\"/>\n",
       "    <path d=\"M18.56 5.44l.94 2.06.94-2.06 2.06-.94-2.06-.94-.94-2.06-.94 2.06-2.06.94zm-11 1L8.5 8.5l.94-2.06 2.06-.94-2.06-.94L8.5 2.5l-.94 2.06-2.06.94zm10 10l.94 2.06.94-2.06 2.06-.94-2.06-.94-.94-2.06-.94 2.06-2.06.94z\"/><path d=\"M17.41 7.96l-1.37-1.37c-.4-.4-.92-.59-1.43-.59-.52 0-1.04.2-1.43.59L10.3 9.45l-7.72 7.72c-.78.78-.78 2.05 0 2.83L4 21.41c.39.39.9.59 1.41.59.51 0 1.02-.2 1.41-.59l7.78-7.78 2.81-2.81c.8-.78.8-2.07 0-2.86zM5.41 20L4 18.59l7.72-7.72 1.47 1.35L5.41 20z\"/>\n",
       "  </svg>\n",
       "      </button>\n",
       "      \n",
       "  <style>\n",
       "    .colab-df-container {\n",
       "      display:flex;\n",
       "      flex-wrap:wrap;\n",
       "      gap: 12px;\n",
       "    }\n",
       "\n",
       "    .colab-df-convert {\n",
       "      background-color: #E8F0FE;\n",
       "      border: none;\n",
       "      border-radius: 50%;\n",
       "      cursor: pointer;\n",
       "      display: none;\n",
       "      fill: #1967D2;\n",
       "      height: 32px;\n",
       "      padding: 0 0 0 0;\n",
       "      width: 32px;\n",
       "    }\n",
       "\n",
       "    .colab-df-convert:hover {\n",
       "      background-color: #E2EBFA;\n",
       "      box-shadow: 0px 1px 2px rgba(60, 64, 67, 0.3), 0px 1px 3px 1px rgba(60, 64, 67, 0.15);\n",
       "      fill: #174EA6;\n",
       "    }\n",
       "\n",
       "    [theme=dark] .colab-df-convert {\n",
       "      background-color: #3B4455;\n",
       "      fill: #D2E3FC;\n",
       "    }\n",
       "\n",
       "    [theme=dark] .colab-df-convert:hover {\n",
       "      background-color: #434B5C;\n",
       "      box-shadow: 0px 1px 3px 1px rgba(0, 0, 0, 0.15);\n",
       "      filter: drop-shadow(0px 1px 2px rgba(0, 0, 0, 0.3));\n",
       "      fill: #FFFFFF;\n",
       "    }\n",
       "  </style>\n",
       "\n",
       "      <script>\n",
       "        const buttonEl =\n",
       "          document.querySelector('#df-1d00af2b-9e6f-419d-bfb8-807d5fc8495c button.colab-df-convert');\n",
       "        buttonEl.style.display =\n",
       "          google.colab.kernel.accessAllowed ? 'block' : 'none';\n",
       "\n",
       "        async function convertToInteractive(key) {\n",
       "          const element = document.querySelector('#df-1d00af2b-9e6f-419d-bfb8-807d5fc8495c');\n",
       "          const dataTable =\n",
       "            await google.colab.kernel.invokeFunction('convertToInteractive',\n",
       "                                                     [key], {});\n",
       "          if (!dataTable) return;\n",
       "\n",
       "          const docLinkHtml = 'Like what you see? Visit the ' +\n",
       "            '<a target=\"_blank\" href=https://colab.research.google.com/notebooks/data_table.ipynb>data table notebook</a>'\n",
       "            + ' to learn more about interactive tables.';\n",
       "          element.innerHTML = '';\n",
       "          dataTable['output_type'] = 'display_data';\n",
       "          await google.colab.output.renderOutput(dataTable, element);\n",
       "          const docLink = document.createElement('div');\n",
       "          docLink.innerHTML = docLinkHtml;\n",
       "          element.appendChild(docLink);\n",
       "        }\n",
       "      </script>\n",
       "    </div>\n",
       "  </div>\n",
       "  "
      ],
      "text/plain": [
       "Empty DataFrame\n",
       "Columns: [word, gold_sense_id, predict_sense_id, positions, context]\n",
       "Index: []"
      ]
     },
     "execution_count": 42,
     "metadata": {},
     "output_type": "execute_result"
    }
   ],
   "source": [
    "mask = train_df.positions == 'None'\n",
    "train_df[mask]"
   ]
  },
  {
   "cell_type": "code",
   "execution_count": 43,
   "id": "f4aa2274-477a-46e6-95ff-ec98e633ab35",
   "metadata": {
    "colab": {
     "base_uri": "https://localhost:8080/"
    },
    "id": "f4aa2274-477a-46e6-95ff-ec98e633ab35",
    "outputId": "b2b6df31-4210-4ea2-9cfb-3859b988a927"
   },
   "outputs": [
    {
     "data": {
      "text/plain": [
       "Series([], Name: predict_sense_id, dtype: int64)"
      ]
     },
     "execution_count": 43,
     "metadata": {},
     "output_type": "execute_result"
    }
   ],
   "source": [
    "train_df[mask].predict_sense_id.value_counts()"
   ]
  },
  {
   "cell_type": "markdown",
   "id": "OaMjFW0fSuxg",
   "metadata": {
    "id": "OaMjFW0fSuxg"
   },
   "source": [
    "## Test"
   ]
  },
  {
   "cell_type": "code",
   "execution_count": 44,
   "id": "XTa6uevVStjL",
   "metadata": {
    "colab": {
     "base_uri": "https://localhost:8080/"
    },
    "id": "XTa6uevVStjL",
    "outputId": "5a1273af-a0d5-4e8f-d999-c18fd00de0af"
   },
   "outputs": [
    {
     "data": {
      "text/plain": [
       "0"
      ]
     },
     "execution_count": 44,
     "metadata": {},
     "output_type": "execute_result"
    }
   ],
   "source": [
    "test_df[test_df['positions'] == 'None'].shape[0]"
   ]
  },
  {
   "cell_type": "code",
   "execution_count": 45,
   "id": "MWHl0G8iStt6",
   "metadata": {
    "id": "MWHl0G8iStt6"
   },
   "outputs": [],
   "source": [
    "test_df['positions'] = test_df.apply(lambda x: find_positions(x.context, x.word) if x.positions == 'None' else x.positions, axis=1)"
   ]
  },
  {
   "cell_type": "code",
   "execution_count": 46,
   "id": "O9USuugUVhqX",
   "metadata": {
    "colab": {
     "base_uri": "https://localhost:8080/"
    },
    "id": "O9USuugUVhqX",
    "outputId": "cbb8460b-053b-4bf6-8735-530ac28b5fcb"
   },
   "outputs": [
    {
     "data": {
      "text/plain": [
       "0"
      ]
     },
     "execution_count": 46,
     "metadata": {},
     "output_type": "execute_result"
    }
   ],
   "source": [
    "test_df[test_df['positions'] == 'None'].shape[0]"
   ]
  },
  {
   "cell_type": "code",
   "execution_count": 47,
   "id": "nWFW1OSSVmcX",
   "metadata": {
    "colab": {
     "base_uri": "https://localhost:8080/"
    },
    "id": "nWFW1OSSVmcX",
    "outputId": "8fe5721e-ba16-4f84-f54d-54a1aaed39dd"
   },
   "outputs": [
    {
     "data": {
      "text/plain": [
       "6"
      ]
     },
     "execution_count": 47,
     "metadata": {},
     "output_type": "execute_result"
    }
   ],
   "source": [
    "words_test = test_df['word'].unique().tolist()\n",
    "len(words_test)"
   ]
  },
  {
   "cell_type": "code",
   "execution_count": 48,
   "id": "0XnKG_n0VpxD",
   "metadata": {
    "colab": {
     "base_uri": "https://localhost:8080/"
    },
    "id": "0XnKG_n0VpxD",
    "outputId": "702f3598-ce73-4cf6-e77a-ba0f43f44d24"
   },
   "outputs": [
    {
     "name": "stdout",
     "output_type": "stream",
     "text": [
      "Length of embedding:  112\n",
      "Number of predicted clusters:  2\n",
      "Current word:  банка\n",
      "\n",
      "Length of embedding:  135\n",
      "Number of predicted clusters:  4\n",
      "Current word:  белка\n",
      "\n",
      "Length of embedding:  84\n",
      "Number of predicted clusters:  2\n",
      "Current word:  бит\n",
      "\n",
      "Length of embedding:  60\n",
      "Number of predicted clusters:  2\n",
      "Current word:  горе\n",
      "\n",
      "Length of embedding:  148\n",
      "Number of predicted clusters:  2\n",
      "Current word:  граф\n",
      "\n",
      "Length of embedding:  79\n",
      "Number of predicted clusters:  3\n",
      "Current word:  душ\n",
      "\n"
     ]
    }
   ],
   "source": [
    "all_predicts_test = []\n",
    "\n",
    "for word in words_test:\n",
    "\n",
    "    temp_df = test_df[test_df['word'] == word]\n",
    "\n",
    "    embeddings, _ = get_embedding(temp_df[temp_df['positions'] != 'None'])\n",
    "\n",
    "    count_samples = len(embeddings)\n",
    "    print('Length of embedding: ', count_samples)\n",
    "\n",
    "    dict_silh = {}\n",
    "    for k in range(2, min(count_samples, 6)):\n",
    "        model_ = KMeans(n_clusters=k, random_state=19)\n",
    "        model_.fit(embeddings)\n",
    "        pred = model_.predict(embeddings)\n",
    "        dict_silh[k] = silhouette_score(embeddings, pred)\n",
    "\n",
    "    n_calc = max(dict_silh, key=dict_silh.get)\n",
    "    \n",
    "\n",
    "    print(\"Number of predicted clusters: \", n_calc)\n",
    "\n",
    "    kmeans = KMeans(n_clusters=n_calc, random_state=19).fit(embeddings)\n",
    "    predicts = kmeans.labels_\n",
    "\n",
    "    pred_labels = iter(predicts.tolist())\n",
    "    label_for_none = max(predicts) + 1\n",
    "    res_labels = []\n",
    "    for _, row in temp_df.iterrows():\n",
    "        if row['positions'] != 'None':\n",
    "            res_labels.append(next(pred_labels))\n",
    "        else:\n",
    "            res_labels.append(label_for_none)\n",
    "    \n",
    "    all_predicts_test.extend(res_labels)\n",
    "\n",
    "    print(\"Current word: \", word)\n",
    "    print()"
   ]
  },
  {
   "cell_type": "code",
   "execution_count": 49,
   "id": "guBgOBn4YNxw",
   "metadata": {
    "colab": {
     "base_uri": "https://localhost:8080/"
    },
    "id": "guBgOBn4YNxw",
    "outputId": "16d775b2-7819-4a8b-fbb4-6e32ce915717"
   },
   "outputs": [
    {
     "data": {
      "text/plain": [
       "618"
      ]
     },
     "execution_count": 49,
     "metadata": {},
     "output_type": "execute_result"
    }
   ],
   "source": [
    "len(all_predicts_test)"
   ]
  },
  {
   "cell_type": "code",
   "execution_count": 50,
   "id": "4kgD0MOxYUkS",
   "metadata": {
    "colab": {
     "base_uri": "https://localhost:8080/",
     "height": 237
    },
    "id": "4kgD0MOxYUkS",
    "outputId": "d4f20328-3747-4733-eec9-fd385631de23"
   },
   "outputs": [
    {
     "data": {
      "text/html": [
       "\n",
       "  <div id=\"df-3cb55239-1912-4f1c-9c52-82b8671d58c0\">\n",
       "    <div class=\"colab-df-container\">\n",
       "      <div>\n",
       "<style scoped>\n",
       "    .dataframe tbody tr th:only-of-type {\n",
       "        vertical-align: middle;\n",
       "    }\n",
       "\n",
       "    .dataframe tbody tr th {\n",
       "        vertical-align: top;\n",
       "    }\n",
       "\n",
       "    .dataframe thead th {\n",
       "        text-align: right;\n",
       "    }\n",
       "</style>\n",
       "<table border=\"1\" class=\"dataframe\">\n",
       "  <thead>\n",
       "    <tr style=\"text-align: right;\">\n",
       "      <th></th>\n",
       "      <th>word</th>\n",
       "      <th>gold_sense_id</th>\n",
       "      <th>predict_sense_id</th>\n",
       "      <th>positions</th>\n",
       "      <th>context</th>\n",
       "    </tr>\n",
       "    <tr>\n",
       "      <th>context_id</th>\n",
       "      <th></th>\n",
       "      <th></th>\n",
       "      <th></th>\n",
       "      <th></th>\n",
       "      <th></th>\n",
       "    </tr>\n",
       "  </thead>\n",
       "  <tbody>\n",
       "    <tr>\n",
       "      <th>440</th>\n",
       "      <td>банка</td>\n",
       "      <td>NaN</td>\n",
       "      <td>NaN</td>\n",
       "      <td>7-12, 36-41</td>\n",
       "      <td>здание банка китая ( макао ) здание банка кита...</td>\n",
       "    </tr>\n",
       "    <tr>\n",
       "      <th>441</th>\n",
       "      <td>банка</td>\n",
       "      <td>NaN</td>\n",
       "      <td>NaN</td>\n",
       "      <td>13-18, 201-206</td>\n",
       "      <td>трехлитровая банка во времена ссср такие банки...</td>\n",
       "    </tr>\n",
       "    <tr>\n",
       "      <th>442</th>\n",
       "      <td>банка</td>\n",
       "      <td>NaN</td>\n",
       "      <td>NaN</td>\n",
       "      <td>21-26, 58-63, 101-106, 263-268, 538-543</td>\n",
       "      <td>здание национального банка украины в здании на...</td>\n",
       "    </tr>\n",
       "    <tr>\n",
       "      <th>443</th>\n",
       "      <td>банка</td>\n",
       "      <td>NaN</td>\n",
       "      <td>NaN</td>\n",
       "      <td>134-139, 262-267, 345-350</td>\n",
       "      <td>зюдфиртель города эссен ( федеральная земля се...</td>\n",
       "    </tr>\n",
       "    <tr>\n",
       "      <th>444</th>\n",
       "      <td>банка</td>\n",
       "      <td>NaN</td>\n",
       "      <td>NaN</td>\n",
       "      <td>43-48, 300-305, 381-386, 521-526</td>\n",
       "      <td>ведения боевых действий полевые учреждения бан...</td>\n",
       "    </tr>\n",
       "  </tbody>\n",
       "</table>\n",
       "</div>\n",
       "      <button class=\"colab-df-convert\" onclick=\"convertToInteractive('df-3cb55239-1912-4f1c-9c52-82b8671d58c0')\"\n",
       "              title=\"Convert this dataframe to an interactive table.\"\n",
       "              style=\"display:none;\">\n",
       "        \n",
       "  <svg xmlns=\"http://www.w3.org/2000/svg\" height=\"24px\"viewBox=\"0 0 24 24\"\n",
       "       width=\"24px\">\n",
       "    <path d=\"M0 0h24v24H0V0z\" fill=\"none\"/>\n",
       "    <path d=\"M18.56 5.44l.94 2.06.94-2.06 2.06-.94-2.06-.94-.94-2.06-.94 2.06-2.06.94zm-11 1L8.5 8.5l.94-2.06 2.06-.94-2.06-.94L8.5 2.5l-.94 2.06-2.06.94zm10 10l.94 2.06.94-2.06 2.06-.94-2.06-.94-.94-2.06-.94 2.06-2.06.94z\"/><path d=\"M17.41 7.96l-1.37-1.37c-.4-.4-.92-.59-1.43-.59-.52 0-1.04.2-1.43.59L10.3 9.45l-7.72 7.72c-.78.78-.78 2.05 0 2.83L4 21.41c.39.39.9.59 1.41.59.51 0 1.02-.2 1.41-.59l7.78-7.78 2.81-2.81c.8-.78.8-2.07 0-2.86zM5.41 20L4 18.59l7.72-7.72 1.47 1.35L5.41 20z\"/>\n",
       "  </svg>\n",
       "      </button>\n",
       "      \n",
       "  <style>\n",
       "    .colab-df-container {\n",
       "      display:flex;\n",
       "      flex-wrap:wrap;\n",
       "      gap: 12px;\n",
       "    }\n",
       "\n",
       "    .colab-df-convert {\n",
       "      background-color: #E8F0FE;\n",
       "      border: none;\n",
       "      border-radius: 50%;\n",
       "      cursor: pointer;\n",
       "      display: none;\n",
       "      fill: #1967D2;\n",
       "      height: 32px;\n",
       "      padding: 0 0 0 0;\n",
       "      width: 32px;\n",
       "    }\n",
       "\n",
       "    .colab-df-convert:hover {\n",
       "      background-color: #E2EBFA;\n",
       "      box-shadow: 0px 1px 2px rgba(60, 64, 67, 0.3), 0px 1px 3px 1px rgba(60, 64, 67, 0.15);\n",
       "      fill: #174EA6;\n",
       "    }\n",
       "\n",
       "    [theme=dark] .colab-df-convert {\n",
       "      background-color: #3B4455;\n",
       "      fill: #D2E3FC;\n",
       "    }\n",
       "\n",
       "    [theme=dark] .colab-df-convert:hover {\n",
       "      background-color: #434B5C;\n",
       "      box-shadow: 0px 1px 3px 1px rgba(0, 0, 0, 0.15);\n",
       "      filter: drop-shadow(0px 1px 2px rgba(0, 0, 0, 0.3));\n",
       "      fill: #FFFFFF;\n",
       "    }\n",
       "  </style>\n",
       "\n",
       "      <script>\n",
       "        const buttonEl =\n",
       "          document.querySelector('#df-3cb55239-1912-4f1c-9c52-82b8671d58c0 button.colab-df-convert');\n",
       "        buttonEl.style.display =\n",
       "          google.colab.kernel.accessAllowed ? 'block' : 'none';\n",
       "\n",
       "        async function convertToInteractive(key) {\n",
       "          const element = document.querySelector('#df-3cb55239-1912-4f1c-9c52-82b8671d58c0');\n",
       "          const dataTable =\n",
       "            await google.colab.kernel.invokeFunction('convertToInteractive',\n",
       "                                                     [key], {});\n",
       "          if (!dataTable) return;\n",
       "\n",
       "          const docLinkHtml = 'Like what you see? Visit the ' +\n",
       "            '<a target=\"_blank\" href=https://colab.research.google.com/notebooks/data_table.ipynb>data table notebook</a>'\n",
       "            + ' to learn more about interactive tables.';\n",
       "          element.innerHTML = '';\n",
       "          dataTable['output_type'] = 'display_data';\n",
       "          await google.colab.output.renderOutput(dataTable, element);\n",
       "          const docLink = document.createElement('div');\n",
       "          docLink.innerHTML = docLinkHtml;\n",
       "          element.appendChild(docLink);\n",
       "        }\n",
       "      </script>\n",
       "    </div>\n",
       "  </div>\n",
       "  "
      ],
      "text/plain": [
       "             word  gold_sense_id  predict_sense_id  \\\n",
       "context_id                                           \n",
       "440         банка            NaN               NaN   \n",
       "441         банка            NaN               NaN   \n",
       "442         банка            NaN               NaN   \n",
       "443         банка            NaN               NaN   \n",
       "444         банка            NaN               NaN   \n",
       "\n",
       "                                          positions  \\\n",
       "context_id                                            \n",
       "440                                     7-12, 36-41   \n",
       "441                                  13-18, 201-206   \n",
       "442         21-26, 58-63, 101-106, 263-268, 538-543   \n",
       "443                       134-139, 262-267, 345-350   \n",
       "444                43-48, 300-305, 381-386, 521-526   \n",
       "\n",
       "                                                      context  \n",
       "context_id                                                     \n",
       "440         здание банка китая ( макао ) здание банка кита...  \n",
       "441         трехлитровая банка во времена ссср такие банки...  \n",
       "442         здание национального банка украины в здании на...  \n",
       "443         зюдфиртель города эссен ( федеральная земля се...  \n",
       "444         ведения боевых действий полевые учреждения бан...  "
      ]
     },
     "execution_count": 50,
     "metadata": {},
     "output_type": "execute_result"
    }
   ],
   "source": [
    "test_df.head()"
   ]
  },
  {
   "cell_type": "code",
   "execution_count": 51,
   "id": "shi9cREPYPxW",
   "metadata": {
    "id": "shi9cREPYPxW"
   },
   "outputs": [],
   "source": [
    "test_df['predict_sense_id'] = all_predicts_test"
   ]
  },
  {
   "cell_type": "code",
   "execution_count": 52,
   "id": "TWYIDNrSYZQX",
   "metadata": {
    "colab": {
     "base_uri": "https://localhost:8080/",
     "height": 237
    },
    "id": "TWYIDNrSYZQX",
    "outputId": "349d8f86-1a67-4eb5-ebbf-6622b1301c69"
   },
   "outputs": [
    {
     "data": {
      "text/html": [
       "\n",
       "  <div id=\"df-4b0ce47c-4d15-4a02-8f16-57011c027f50\">\n",
       "    <div class=\"colab-df-container\">\n",
       "      <div>\n",
       "<style scoped>\n",
       "    .dataframe tbody tr th:only-of-type {\n",
       "        vertical-align: middle;\n",
       "    }\n",
       "\n",
       "    .dataframe tbody tr th {\n",
       "        vertical-align: top;\n",
       "    }\n",
       "\n",
       "    .dataframe thead th {\n",
       "        text-align: right;\n",
       "    }\n",
       "</style>\n",
       "<table border=\"1\" class=\"dataframe\">\n",
       "  <thead>\n",
       "    <tr style=\"text-align: right;\">\n",
       "      <th></th>\n",
       "      <th>word</th>\n",
       "      <th>gold_sense_id</th>\n",
       "      <th>predict_sense_id</th>\n",
       "      <th>positions</th>\n",
       "      <th>context</th>\n",
       "    </tr>\n",
       "    <tr>\n",
       "      <th>context_id</th>\n",
       "      <th></th>\n",
       "      <th></th>\n",
       "      <th></th>\n",
       "      <th></th>\n",
       "      <th></th>\n",
       "    </tr>\n",
       "  </thead>\n",
       "  <tbody>\n",
       "    <tr>\n",
       "      <th>440</th>\n",
       "      <td>банка</td>\n",
       "      <td>NaN</td>\n",
       "      <td>1</td>\n",
       "      <td>7-12, 36-41</td>\n",
       "      <td>здание банка китая ( макао ) здание банка кита...</td>\n",
       "    </tr>\n",
       "    <tr>\n",
       "      <th>441</th>\n",
       "      <td>банка</td>\n",
       "      <td>NaN</td>\n",
       "      <td>0</td>\n",
       "      <td>13-18, 201-206</td>\n",
       "      <td>трехлитровая банка во времена ссср такие банки...</td>\n",
       "    </tr>\n",
       "    <tr>\n",
       "      <th>442</th>\n",
       "      <td>банка</td>\n",
       "      <td>NaN</td>\n",
       "      <td>1</td>\n",
       "      <td>21-26, 58-63, 101-106, 263-268, 538-543</td>\n",
       "      <td>здание национального банка украины в здании на...</td>\n",
       "    </tr>\n",
       "    <tr>\n",
       "      <th>443</th>\n",
       "      <td>банка</td>\n",
       "      <td>NaN</td>\n",
       "      <td>1</td>\n",
       "      <td>134-139, 262-267, 345-350</td>\n",
       "      <td>зюдфиртель города эссен ( федеральная земля се...</td>\n",
       "    </tr>\n",
       "    <tr>\n",
       "      <th>444</th>\n",
       "      <td>банка</td>\n",
       "      <td>NaN</td>\n",
       "      <td>1</td>\n",
       "      <td>43-48, 300-305, 381-386, 521-526</td>\n",
       "      <td>ведения боевых действий полевые учреждения бан...</td>\n",
       "    </tr>\n",
       "  </tbody>\n",
       "</table>\n",
       "</div>\n",
       "      <button class=\"colab-df-convert\" onclick=\"convertToInteractive('df-4b0ce47c-4d15-4a02-8f16-57011c027f50')\"\n",
       "              title=\"Convert this dataframe to an interactive table.\"\n",
       "              style=\"display:none;\">\n",
       "        \n",
       "  <svg xmlns=\"http://www.w3.org/2000/svg\" height=\"24px\"viewBox=\"0 0 24 24\"\n",
       "       width=\"24px\">\n",
       "    <path d=\"M0 0h24v24H0V0z\" fill=\"none\"/>\n",
       "    <path d=\"M18.56 5.44l.94 2.06.94-2.06 2.06-.94-2.06-.94-.94-2.06-.94 2.06-2.06.94zm-11 1L8.5 8.5l.94-2.06 2.06-.94-2.06-.94L8.5 2.5l-.94 2.06-2.06.94zm10 10l.94 2.06.94-2.06 2.06-.94-2.06-.94-.94-2.06-.94 2.06-2.06.94z\"/><path d=\"M17.41 7.96l-1.37-1.37c-.4-.4-.92-.59-1.43-.59-.52 0-1.04.2-1.43.59L10.3 9.45l-7.72 7.72c-.78.78-.78 2.05 0 2.83L4 21.41c.39.39.9.59 1.41.59.51 0 1.02-.2 1.41-.59l7.78-7.78 2.81-2.81c.8-.78.8-2.07 0-2.86zM5.41 20L4 18.59l7.72-7.72 1.47 1.35L5.41 20z\"/>\n",
       "  </svg>\n",
       "      </button>\n",
       "      \n",
       "  <style>\n",
       "    .colab-df-container {\n",
       "      display:flex;\n",
       "      flex-wrap:wrap;\n",
       "      gap: 12px;\n",
       "    }\n",
       "\n",
       "    .colab-df-convert {\n",
       "      background-color: #E8F0FE;\n",
       "      border: none;\n",
       "      border-radius: 50%;\n",
       "      cursor: pointer;\n",
       "      display: none;\n",
       "      fill: #1967D2;\n",
       "      height: 32px;\n",
       "      padding: 0 0 0 0;\n",
       "      width: 32px;\n",
       "    }\n",
       "\n",
       "    .colab-df-convert:hover {\n",
       "      background-color: #E2EBFA;\n",
       "      box-shadow: 0px 1px 2px rgba(60, 64, 67, 0.3), 0px 1px 3px 1px rgba(60, 64, 67, 0.15);\n",
       "      fill: #174EA6;\n",
       "    }\n",
       "\n",
       "    [theme=dark] .colab-df-convert {\n",
       "      background-color: #3B4455;\n",
       "      fill: #D2E3FC;\n",
       "    }\n",
       "\n",
       "    [theme=dark] .colab-df-convert:hover {\n",
       "      background-color: #434B5C;\n",
       "      box-shadow: 0px 1px 3px 1px rgba(0, 0, 0, 0.15);\n",
       "      filter: drop-shadow(0px 1px 2px rgba(0, 0, 0, 0.3));\n",
       "      fill: #FFFFFF;\n",
       "    }\n",
       "  </style>\n",
       "\n",
       "      <script>\n",
       "        const buttonEl =\n",
       "          document.querySelector('#df-4b0ce47c-4d15-4a02-8f16-57011c027f50 button.colab-df-convert');\n",
       "        buttonEl.style.display =\n",
       "          google.colab.kernel.accessAllowed ? 'block' : 'none';\n",
       "\n",
       "        async function convertToInteractive(key) {\n",
       "          const element = document.querySelector('#df-4b0ce47c-4d15-4a02-8f16-57011c027f50');\n",
       "          const dataTable =\n",
       "            await google.colab.kernel.invokeFunction('convertToInteractive',\n",
       "                                                     [key], {});\n",
       "          if (!dataTable) return;\n",
       "\n",
       "          const docLinkHtml = 'Like what you see? Visit the ' +\n",
       "            '<a target=\"_blank\" href=https://colab.research.google.com/notebooks/data_table.ipynb>data table notebook</a>'\n",
       "            + ' to learn more about interactive tables.';\n",
       "          element.innerHTML = '';\n",
       "          dataTable['output_type'] = 'display_data';\n",
       "          await google.colab.output.renderOutput(dataTable, element);\n",
       "          const docLink = document.createElement('div');\n",
       "          docLink.innerHTML = docLinkHtml;\n",
       "          element.appendChild(docLink);\n",
       "        }\n",
       "      </script>\n",
       "    </div>\n",
       "  </div>\n",
       "  "
      ],
      "text/plain": [
       "             word  gold_sense_id  predict_sense_id  \\\n",
       "context_id                                           \n",
       "440         банка            NaN                 1   \n",
       "441         банка            NaN                 0   \n",
       "442         банка            NaN                 1   \n",
       "443         банка            NaN                 1   \n",
       "444         банка            NaN                 1   \n",
       "\n",
       "                                          positions  \\\n",
       "context_id                                            \n",
       "440                                     7-12, 36-41   \n",
       "441                                  13-18, 201-206   \n",
       "442         21-26, 58-63, 101-106, 263-268, 538-543   \n",
       "443                       134-139, 262-267, 345-350   \n",
       "444                43-48, 300-305, 381-386, 521-526   \n",
       "\n",
       "                                                      context  \n",
       "context_id                                                     \n",
       "440         здание банка китая ( макао ) здание банка кита...  \n",
       "441         трехлитровая банка во времена ссср такие банки...  \n",
       "442         здание национального банка украины в здании на...  \n",
       "443         зюдфиртель города эссен ( федеральная земля се...  \n",
       "444         ведения боевых действий полевые учреждения бан...  "
      ]
     },
     "execution_count": 52,
     "metadata": {},
     "output_type": "execute_result"
    }
   ],
   "source": [
    "test_df.head()"
   ]
  },
  {
   "cell_type": "code",
   "execution_count": 53,
   "id": "T3aIWGZDYcFC",
   "metadata": {
    "colab": {
     "base_uri": "https://localhost:8080/",
     "height": 81
    },
    "id": "T3aIWGZDYcFC",
    "outputId": "fcf3cead-ac8a-4028-b80c-bfee783b5902"
   },
   "outputs": [
    {
     "data": {
      "text/html": [
       "\n",
       "  <div id=\"df-3ecfeb2f-5c81-48a6-a6f2-30d3e0f09a09\">\n",
       "    <div class=\"colab-df-container\">\n",
       "      <div>\n",
       "<style scoped>\n",
       "    .dataframe tbody tr th:only-of-type {\n",
       "        vertical-align: middle;\n",
       "    }\n",
       "\n",
       "    .dataframe tbody tr th {\n",
       "        vertical-align: top;\n",
       "    }\n",
       "\n",
       "    .dataframe thead th {\n",
       "        text-align: right;\n",
       "    }\n",
       "</style>\n",
       "<table border=\"1\" class=\"dataframe\">\n",
       "  <thead>\n",
       "    <tr style=\"text-align: right;\">\n",
       "      <th></th>\n",
       "      <th>word</th>\n",
       "      <th>gold_sense_id</th>\n",
       "      <th>predict_sense_id</th>\n",
       "      <th>positions</th>\n",
       "      <th>context</th>\n",
       "    </tr>\n",
       "    <tr>\n",
       "      <th>context_id</th>\n",
       "      <th></th>\n",
       "      <th></th>\n",
       "      <th></th>\n",
       "      <th></th>\n",
       "      <th></th>\n",
       "    </tr>\n",
       "  </thead>\n",
       "  <tbody>\n",
       "  </tbody>\n",
       "</table>\n",
       "</div>\n",
       "      <button class=\"colab-df-convert\" onclick=\"convertToInteractive('df-3ecfeb2f-5c81-48a6-a6f2-30d3e0f09a09')\"\n",
       "              title=\"Convert this dataframe to an interactive table.\"\n",
       "              style=\"display:none;\">\n",
       "        \n",
       "  <svg xmlns=\"http://www.w3.org/2000/svg\" height=\"24px\"viewBox=\"0 0 24 24\"\n",
       "       width=\"24px\">\n",
       "    <path d=\"M0 0h24v24H0V0z\" fill=\"none\"/>\n",
       "    <path d=\"M18.56 5.44l.94 2.06.94-2.06 2.06-.94-2.06-.94-.94-2.06-.94 2.06-2.06.94zm-11 1L8.5 8.5l.94-2.06 2.06-.94-2.06-.94L8.5 2.5l-.94 2.06-2.06.94zm10 10l.94 2.06.94-2.06 2.06-.94-2.06-.94-.94-2.06-.94 2.06-2.06.94z\"/><path d=\"M17.41 7.96l-1.37-1.37c-.4-.4-.92-.59-1.43-.59-.52 0-1.04.2-1.43.59L10.3 9.45l-7.72 7.72c-.78.78-.78 2.05 0 2.83L4 21.41c.39.39.9.59 1.41.59.51 0 1.02-.2 1.41-.59l7.78-7.78 2.81-2.81c.8-.78.8-2.07 0-2.86zM5.41 20L4 18.59l7.72-7.72 1.47 1.35L5.41 20z\"/>\n",
       "  </svg>\n",
       "      </button>\n",
       "      \n",
       "  <style>\n",
       "    .colab-df-container {\n",
       "      display:flex;\n",
       "      flex-wrap:wrap;\n",
       "      gap: 12px;\n",
       "    }\n",
       "\n",
       "    .colab-df-convert {\n",
       "      background-color: #E8F0FE;\n",
       "      border: none;\n",
       "      border-radius: 50%;\n",
       "      cursor: pointer;\n",
       "      display: none;\n",
       "      fill: #1967D2;\n",
       "      height: 32px;\n",
       "      padding: 0 0 0 0;\n",
       "      width: 32px;\n",
       "    }\n",
       "\n",
       "    .colab-df-convert:hover {\n",
       "      background-color: #E2EBFA;\n",
       "      box-shadow: 0px 1px 2px rgba(60, 64, 67, 0.3), 0px 1px 3px 1px rgba(60, 64, 67, 0.15);\n",
       "      fill: #174EA6;\n",
       "    }\n",
       "\n",
       "    [theme=dark] .colab-df-convert {\n",
       "      background-color: #3B4455;\n",
       "      fill: #D2E3FC;\n",
       "    }\n",
       "\n",
       "    [theme=dark] .colab-df-convert:hover {\n",
       "      background-color: #434B5C;\n",
       "      box-shadow: 0px 1px 3px 1px rgba(0, 0, 0, 0.15);\n",
       "      filter: drop-shadow(0px 1px 2px rgba(0, 0, 0, 0.3));\n",
       "      fill: #FFFFFF;\n",
       "    }\n",
       "  </style>\n",
       "\n",
       "      <script>\n",
       "        const buttonEl =\n",
       "          document.querySelector('#df-3ecfeb2f-5c81-48a6-a6f2-30d3e0f09a09 button.colab-df-convert');\n",
       "        buttonEl.style.display =\n",
       "          google.colab.kernel.accessAllowed ? 'block' : 'none';\n",
       "\n",
       "        async function convertToInteractive(key) {\n",
       "          const element = document.querySelector('#df-3ecfeb2f-5c81-48a6-a6f2-30d3e0f09a09');\n",
       "          const dataTable =\n",
       "            await google.colab.kernel.invokeFunction('convertToInteractive',\n",
       "                                                     [key], {});\n",
       "          if (!dataTable) return;\n",
       "\n",
       "          const docLinkHtml = 'Like what you see? Visit the ' +\n",
       "            '<a target=\"_blank\" href=https://colab.research.google.com/notebooks/data_table.ipynb>data table notebook</a>'\n",
       "            + ' to learn more about interactive tables.';\n",
       "          element.innerHTML = '';\n",
       "          dataTable['output_type'] = 'display_data';\n",
       "          await google.colab.output.renderOutput(dataTable, element);\n",
       "          const docLink = document.createElement('div');\n",
       "          docLink.innerHTML = docLinkHtml;\n",
       "          element.appendChild(docLink);\n",
       "        }\n",
       "      </script>\n",
       "    </div>\n",
       "  </div>\n",
       "  "
      ],
      "text/plain": [
       "Empty DataFrame\n",
       "Columns: [word, gold_sense_id, predict_sense_id, positions, context]\n",
       "Index: []"
      ]
     },
     "execution_count": 53,
     "metadata": {},
     "output_type": "execute_result"
    }
   ],
   "source": [
    "mask = test_df.positions == 'None'\n",
    "test_df[mask]"
   ]
  },
  {
   "cell_type": "code",
   "execution_count": 54,
   "id": "uYsjXFi0Yitp",
   "metadata": {
    "colab": {
     "base_uri": "https://localhost:8080/"
    },
    "id": "uYsjXFi0Yitp",
    "outputId": "7f4dffbf-9c64-48ab-f8f4-6f869c7314f7"
   },
   "outputs": [
    {
     "data": {
      "text/plain": [
       "Series([], Name: predict_sense_id, dtype: int64)"
      ]
     },
     "execution_count": 54,
     "metadata": {},
     "output_type": "execute_result"
    }
   ],
   "source": [
    "test_df[mask].predict_sense_id.value_counts()"
   ]
  },
  {
   "cell_type": "code",
   "execution_count": 55,
   "id": "ZQn6_Yn1YjlP",
   "metadata": {
    "colab": {
     "base_uri": "https://localhost:8080/"
    },
    "id": "ZQn6_Yn1YjlP",
    "outputId": "bed08023-478e-4489-a7b3-30041d27d48b"
   },
   "outputs": [
    {
     "data": {
      "text/plain": [
       "1    371\n",
       "0    176\n",
       "2     62\n",
       "3      9\n",
       "Name: predict_sense_id, dtype: int64"
      ]
     },
     "execution_count": 55,
     "metadata": {},
     "output_type": "execute_result"
    }
   ],
   "source": [
    "test_df.predict_sense_id.value_counts()"
   ]
  },
  {
   "cell_type": "code",
   "execution_count": 56,
   "id": "OaWLcpmsYpiN",
   "metadata": {
    "colab": {
     "base_uri": "https://localhost:8080/",
     "height": 206
    },
    "id": "OaWLcpmsYpiN",
    "outputId": "eeeab020-e174-48d1-cc62-877cf7d4ece0"
   },
   "outputs": [
    {
     "data": {
      "text/html": [
       "\n",
       "  <div id=\"df-5efb2b38-a6e8-4213-ac41-cdfd682c8144\">\n",
       "    <div class=\"colab-df-container\">\n",
       "      <div>\n",
       "<style scoped>\n",
       "    .dataframe tbody tr th:only-of-type {\n",
       "        vertical-align: middle;\n",
       "    }\n",
       "\n",
       "    .dataframe tbody tr th {\n",
       "        vertical-align: top;\n",
       "    }\n",
       "\n",
       "    .dataframe thead th {\n",
       "        text-align: right;\n",
       "    }\n",
       "</style>\n",
       "<table border=\"1\" class=\"dataframe\">\n",
       "  <thead>\n",
       "    <tr style=\"text-align: right;\">\n",
       "      <th></th>\n",
       "      <th>context_id</th>\n",
       "      <th>word</th>\n",
       "      <th>predict_sense_id</th>\n",
       "      <th>context</th>\n",
       "    </tr>\n",
       "  </thead>\n",
       "  <tbody>\n",
       "    <tr>\n",
       "      <th>0</th>\n",
       "      <td>440</td>\n",
       "      <td>банка</td>\n",
       "      <td>1</td>\n",
       "      <td>здание банка китая ( макао ) здание банка кита...</td>\n",
       "    </tr>\n",
       "    <tr>\n",
       "      <th>1</th>\n",
       "      <td>441</td>\n",
       "      <td>банка</td>\n",
       "      <td>0</td>\n",
       "      <td>трехлитровая банка во времена ссср такие банки...</td>\n",
       "    </tr>\n",
       "    <tr>\n",
       "      <th>2</th>\n",
       "      <td>442</td>\n",
       "      <td>банка</td>\n",
       "      <td>1</td>\n",
       "      <td>здание национального банка украины в здании на...</td>\n",
       "    </tr>\n",
       "    <tr>\n",
       "      <th>3</th>\n",
       "      <td>443</td>\n",
       "      <td>банка</td>\n",
       "      <td>1</td>\n",
       "      <td>зюдфиртель города эссен ( федеральная земля се...</td>\n",
       "    </tr>\n",
       "    <tr>\n",
       "      <th>4</th>\n",
       "      <td>444</td>\n",
       "      <td>банка</td>\n",
       "      <td>1</td>\n",
       "      <td>ведения боевых действий полевые учреждения бан...</td>\n",
       "    </tr>\n",
       "  </tbody>\n",
       "</table>\n",
       "</div>\n",
       "      <button class=\"colab-df-convert\" onclick=\"convertToInteractive('df-5efb2b38-a6e8-4213-ac41-cdfd682c8144')\"\n",
       "              title=\"Convert this dataframe to an interactive table.\"\n",
       "              style=\"display:none;\">\n",
       "        \n",
       "  <svg xmlns=\"http://www.w3.org/2000/svg\" height=\"24px\"viewBox=\"0 0 24 24\"\n",
       "       width=\"24px\">\n",
       "    <path d=\"M0 0h24v24H0V0z\" fill=\"none\"/>\n",
       "    <path d=\"M18.56 5.44l.94 2.06.94-2.06 2.06-.94-2.06-.94-.94-2.06-.94 2.06-2.06.94zm-11 1L8.5 8.5l.94-2.06 2.06-.94-2.06-.94L8.5 2.5l-.94 2.06-2.06.94zm10 10l.94 2.06.94-2.06 2.06-.94-2.06-.94-.94-2.06-.94 2.06-2.06.94z\"/><path d=\"M17.41 7.96l-1.37-1.37c-.4-.4-.92-.59-1.43-.59-.52 0-1.04.2-1.43.59L10.3 9.45l-7.72 7.72c-.78.78-.78 2.05 0 2.83L4 21.41c.39.39.9.59 1.41.59.51 0 1.02-.2 1.41-.59l7.78-7.78 2.81-2.81c.8-.78.8-2.07 0-2.86zM5.41 20L4 18.59l7.72-7.72 1.47 1.35L5.41 20z\"/>\n",
       "  </svg>\n",
       "      </button>\n",
       "      \n",
       "  <style>\n",
       "    .colab-df-container {\n",
       "      display:flex;\n",
       "      flex-wrap:wrap;\n",
       "      gap: 12px;\n",
       "    }\n",
       "\n",
       "    .colab-df-convert {\n",
       "      background-color: #E8F0FE;\n",
       "      border: none;\n",
       "      border-radius: 50%;\n",
       "      cursor: pointer;\n",
       "      display: none;\n",
       "      fill: #1967D2;\n",
       "      height: 32px;\n",
       "      padding: 0 0 0 0;\n",
       "      width: 32px;\n",
       "    }\n",
       "\n",
       "    .colab-df-convert:hover {\n",
       "      background-color: #E2EBFA;\n",
       "      box-shadow: 0px 1px 2px rgba(60, 64, 67, 0.3), 0px 1px 3px 1px rgba(60, 64, 67, 0.15);\n",
       "      fill: #174EA6;\n",
       "    }\n",
       "\n",
       "    [theme=dark] .colab-df-convert {\n",
       "      background-color: #3B4455;\n",
       "      fill: #D2E3FC;\n",
       "    }\n",
       "\n",
       "    [theme=dark] .colab-df-convert:hover {\n",
       "      background-color: #434B5C;\n",
       "      box-shadow: 0px 1px 3px 1px rgba(0, 0, 0, 0.15);\n",
       "      filter: drop-shadow(0px 1px 2px rgba(0, 0, 0, 0.3));\n",
       "      fill: #FFFFFF;\n",
       "    }\n",
       "  </style>\n",
       "\n",
       "      <script>\n",
       "        const buttonEl =\n",
       "          document.querySelector('#df-5efb2b38-a6e8-4213-ac41-cdfd682c8144 button.colab-df-convert');\n",
       "        buttonEl.style.display =\n",
       "          google.colab.kernel.accessAllowed ? 'block' : 'none';\n",
       "\n",
       "        async function convertToInteractive(key) {\n",
       "          const element = document.querySelector('#df-5efb2b38-a6e8-4213-ac41-cdfd682c8144');\n",
       "          const dataTable =\n",
       "            await google.colab.kernel.invokeFunction('convertToInteractive',\n",
       "                                                     [key], {});\n",
       "          if (!dataTable) return;\n",
       "\n",
       "          const docLinkHtml = 'Like what you see? Visit the ' +\n",
       "            '<a target=\"_blank\" href=https://colab.research.google.com/notebooks/data_table.ipynb>data table notebook</a>'\n",
       "            + ' to learn more about interactive tables.';\n",
       "          element.innerHTML = '';\n",
       "          dataTable['output_type'] = 'display_data';\n",
       "          await google.colab.output.renderOutput(dataTable, element);\n",
       "          const docLink = document.createElement('div');\n",
       "          docLink.innerHTML = docLinkHtml;\n",
       "          element.appendChild(docLink);\n",
       "        }\n",
       "      </script>\n",
       "    </div>\n",
       "  </div>\n",
       "  "
      ],
      "text/plain": [
       "   context_id   word  predict_sense_id  \\\n",
       "0         440  банка                 1   \n",
       "1         441  банка                 0   \n",
       "2         442  банка                 1   \n",
       "3         443  банка                 1   \n",
       "4         444  банка                 1   \n",
       "\n",
       "                                             context  \n",
       "0  здание банка китая ( макао ) здание банка кита...  \n",
       "1  трехлитровая банка во времена ссср такие банки...  \n",
       "2  здание национального банка украины в здании на...  \n",
       "3  зюдфиртель города эссен ( федеральная земля се...  \n",
       "4  ведения боевых действий полевые учреждения бан...  "
      ]
     },
     "execution_count": 56,
     "metadata": {},
     "output_type": "execute_result"
    }
   ],
   "source": [
    "test_df = test_df.drop(['gold_sense_id', 'positions'], axis=1)\n",
    "test_df = test_df.reset_index(level=0)\n",
    "test_df.head()"
   ]
  },
  {
   "cell_type": "code",
   "execution_count": 57,
   "id": "Nor5QTXjY0PV",
   "metadata": {
    "id": "Nor5QTXjY0PV"
   },
   "outputs": [],
   "source": [
    "test_df.to_csv(path_to_output, sep = '\\t', index = False)"
   ]
  }
 ],
 "metadata": {
  "colab": {
   "collapsed_sections": [
    "uBdcQaFygJw4",
    "W9nJISoagd6l",
    "hTHx_9K2gvgy",
    "UMLuQaz3acPh",
    "fNgTJ9Jxb5Rp",
    "jmrEB2Zzc17y"
   ],
   "provenance": []
  },
  "kernelspec": {
   "display_name": "Python 3 (ipykernel)",
   "language": "python",
   "name": "python3"
  },
  "language_info": {
   "codemirror_mode": {
    "name": "ipython",
    "version": 3
   },
   "file_extension": ".py",
   "mimetype": "text/x-python",
   "name": "python",
   "nbconvert_exporter": "python",
   "pygments_lexer": "ipython3",
   "version": "3.8.7rc1"
  }
 },
 "nbformat": 4,
 "nbformat_minor": 5
}
