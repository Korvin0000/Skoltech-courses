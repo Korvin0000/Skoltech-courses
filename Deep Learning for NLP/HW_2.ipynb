{
  "cells": [
    {
      "cell_type": "markdown",
      "metadata": {
        "id": "MXkEPM0MJfO-"
      },
      "source": [
        "# 1. Information about the submission"
      ]
    },
    {
      "cell_type": "markdown",
      "metadata": {
        "id": "0d67jK4OJfPB"
      },
      "source": [
        "## 1.1 Name and number of the assignment"
      ]
    },
    {
      "cell_type": "markdown",
      "metadata": {
        "id": "19-rHlZGJfPD"
      },
      "source": [
        "**Text categorization: argument mining. Assignment 2**."
      ]
    },
    {
      "cell_type": "markdown",
      "metadata": {
        "id": "acY_Eo-oJfPE"
      },
      "source": [
        "## 1.2 Student name"
      ]
    },
    {
      "cell_type": "markdown",
      "metadata": {
        "id": "fvjtGpliJfPF"
      },
      "source": [
        "**Nikolay Kalmykov**"
      ]
    },
    {
      "cell_type": "markdown",
      "metadata": {
        "id": "rcI2RpFUJfPG"
      },
      "source": [
        "## 1.3 Codalab user ID"
      ]
    },
    {
      "cell_type": "markdown",
      "metadata": {
        "id": "s0z7hGsOJfPH"
      },
      "source": [
        "**Nick**"
      ]
    },
    {
      "cell_type": "markdown",
      "metadata": {
        "id": "GcW1g6-eJfPI"
      },
      "source": [
        "## 1.4 Additional comments"
      ]
    },
    {
      "cell_type": "markdown",
      "metadata": {
        "id": "LCzqQvbfJfPK"
      },
      "source": [
        "**I would like to load my solution on codalab, April 24. But, the platform didn't answer.**"
      ]
    },
    {
      "cell_type": "markdown",
      "metadata": {
        "id": "XgXGdl9kJfPM"
      },
      "source": [
        "# 2. Technical Report"
      ]
    },
    {
      "cell_type": "markdown",
      "metadata": {
        "id": "LMBpMA5hJfPN"
      },
      "source": [
        "I used wandb to display my logs - https://wandb.ai/nickcalmykow281/Argument%20Mining?workspace=user-nickcalmykow281"
      ]
    },
    {
      "cell_type": "markdown",
      "metadata": {
        "id": "DdZ1I_F_JfPO"
      },
      "source": [
        "## 2.1 Methodology"
      ]
    },
    {
      "cell_type": "markdown",
      "metadata": {
        "id": "qmv8SOsTJfPP"
      },
      "source": [
        "I will use `DeepPavlov/rubert-base-cased` model (12-layer, 768-hidden, 12-heads, 180M parameters), that was trained on the Russian part of Wikipedia and news data.\n",
        "\n",
        "During EDA, it was noticed that we are faced with the task of classifying imbalanced classes (many labels from an irrelevant class).\n",
        "\n",
        "Therefore, a **two-stage classification** was used to solve the problem:\n",
        "\n",
        "1) On the first stage, we classify the relevant (**0,1,2**) and irrelevant (**-1**) classes. For this, we use `find_near_matches` from `fuzzysearch` and search the target word in sentence (\"vaccine\", \"quarantine\", \"mask\", etc.). If the sentence contains this word, then it will be relevant. Surprisingly, this gave a good result on the train.\n",
        "\n",
        "2) On the second stage, we do the classification between relevant classes. The algorithm is the next:\n",
        "\n",
        "* In preprocessing part, I removed the word `[USER]`.\n",
        "\n",
        "* Calculated the class weights for a three-class classification problem based on the frequency of each class in the training data.\n",
        "\n",
        "* I used the prompt as part of the input sequence, because the model may be able to better understand the context of the text and make more accurate predictions `What does the author think about the topic «{topic[CLASS_NAME]}»? [SEP] + Sentence `.\n",
        "\n",
        "* Then, I used the next hyperparameters and two linear BERT heads:\n",
        "  \n",
        "  * batch_size = 8\n",
        "  * num_epoch = 10\n",
        "  * learning_rate = 4e-5"
      ]
    },
    {
      "cell_type": "markdown",
      "metadata": {
        "id": "b0M7j82dJfPS"
      },
      "source": [
        "## 2.2 Discussion of results"
      ]
    },
    {
      "cell_type": "markdown",
      "metadata": {
        "id": "CnhMamthJfPT"
      },
      "source": [
        "\n",
        "Method | F1 Stance Detection | F1 Premise Classification\n",
        "--- | --- | --- |\n",
        "Baseline | 0.4180 | 0.4355\n",
        "DeepPavlov/rubert-base-cased | 0.5438 | 0.6109\n",
        "Machine Translation (Eng) + digitalepidemiologylab/covid-twitter-bert | 0.3737 | 0.4089\n",
        "***Machine Translation (Eng) + bert-base-uncased*** | 0.5639 | 0.6219\n",
        "Machine Translation (Eng) + bert-large-uncased | 0.4897 |  0.4898\n",
        "Machine Translation (Eng) + lordtt13/COVID-SciBERT | 0.5469 |  0.6250\n",
        "\n",
        "The best metric was obtained using Machine Translation and the model **bert-base-uncased**, then **lordtt13/COVID-SciBERT**.\n",
        "\n",
        "From the results, you can see that Machine Translation provided insignificant improvement in the metric.\n",
        "\n",
        "Also, I tried the models **COVID-tune BERT** (https://huggingface.co/digitalepidemiologylab/covid-twitter-bert), **bert-large-uncased** (https://huggingface.co/bert-large-uncased) using Machine Translation. But, I  didn't get the good results.\n",
        "\n",
        "I think, the easiest way to get a good score is to implement 6 models. But, this way is appropriate for competition, not for real life. Since it is computationally intensive.\n",
        "\n",
        "Moreover, in this paper are described the best solutions - https://www.dialog-21.ru/media/5745/alibaevakplusloukachevitchn115.pdf."
      ]
    },
    {
      "cell_type": "markdown",
      "metadata": {
        "id": "4eE9g_mwJfPT"
      },
      "source": [
        "# 3. Code"
      ]
    },
    {
      "cell_type": "markdown",
      "metadata": {
        "id": "PS-catuxJfPU"
      },
      "source": [
        "## 3.1 Requirements"
      ]
    },
    {
      "cell_type": "code",
      "execution_count": null,
      "metadata": {
        "id": "JxBV7xHwJfPW"
      },
      "outputs": [],
      "source": [
        "# !pip install transformers\n",
        "# !pip install torchmetrics\n",
        "# !pip install wandb\n",
        "# !pip install fuzzysearch\n",
        "# !pip install sentencepiece"
      ]
    },
    {
      "cell_type": "code",
      "execution_count": null,
      "metadata": {
        "id": "B7uJ66FaJfPX"
      },
      "outputs": [],
      "source": [
        "import wandb\n",
        "import torch\n",
        "import time\n",
        "import datetime\n",
        "import torch.nn as nn\n",
        "import pandas as pd\n",
        "import matplotlib.pyplot as plt\n",
        "\n",
        "from sklearn.metrics import f1_score\n",
        "from sklearn.model_selection import train_test_split\n",
        "from transformers import BertTokenizer, BertModel, get_linear_schedule_with_warmup\n",
        "from torch.utils.data import DataLoader\n",
        "from torch.utils.data import Dataset\n",
        "from fuzzysearch import find_near_matches"
      ]
    },
    {
      "cell_type": "markdown",
      "metadata": {
        "id": "LNf4CFJsJfPZ"
      },
      "source": [
        "## 3.2 Download the Data"
      ]
    },
    {
      "cell_type": "code",
      "execution_count": null,
      "metadata": {
        "id": "PLp7Au3ZJfPZ",
        "colab": {
          "base_uri": "https://localhost:8080/"
        },
        "outputId": "7b53d57b-1322-4455-8fc0-5820d3ba3ea2"
      },
      "outputs": [
        {
          "output_type": "stream",
          "name": "stdout",
          "text": [
            "--2023-04-26 23:33:38--  https://raw.githubusercontent.com/dialogue-evaluation/RuArg/main/data/test-no_labels.tsv\n",
            "Resolving raw.githubusercontent.com (raw.githubusercontent.com)... 185.199.108.133, 185.199.109.133, 185.199.110.133, ...\n",
            "Connecting to raw.githubusercontent.com (raw.githubusercontent.com)|185.199.108.133|:443... connected.\n",
            "HTTP request sent, awaiting response... 200 OK\n",
            "Length: 298180 (291K) [text/plain]\n",
            "Saving to: ‘test-no_labels.tsv’\n",
            "\n",
            "\rtest-no_labels.tsv    0%[                    ]       0  --.-KB/s               \rtest-no_labels.tsv  100%[===================>] 291.19K  --.-KB/s    in 0.03s   \n",
            "\n",
            "2023-04-26 23:33:38 (8.56 MB/s) - ‘test-no_labels.tsv’ saved [298180/298180]\n",
            "\n",
            "--2023-04-26 23:33:38--  https://raw.githubusercontent.com/dialogue-evaluation/RuArg/main/data/train.tsv\n",
            "Resolving raw.githubusercontent.com (raw.githubusercontent.com)... 185.199.108.133, 185.199.109.133, 185.199.110.133, ...\n",
            "Connecting to raw.githubusercontent.com (raw.githubusercontent.com)|185.199.108.133|:443... connected.\n",
            "HTTP request sent, awaiting response... 200 OK\n",
            "Length: 1539551 (1.5M) [text/plain]\n",
            "Saving to: ‘train.tsv’\n",
            "\n",
            "train.tsv           100%[===================>]   1.47M  --.-KB/s    in 0.06s   \n",
            "\n",
            "2023-04-26 23:33:38 (23.5 MB/s) - ‘train.tsv’ saved [1539551/1539551]\n",
            "\n"
          ]
        }
      ],
      "source": [
        "!wget https://raw.githubusercontent.com/dialogue-evaluation/RuArg/main/data/test-no_labels.tsv\n",
        "!wget https://raw.githubusercontent.com/dialogue-evaluation/RuArg/main/data/train.tsv"
      ]
    },
    {
      "cell_type": "markdown",
      "source": [
        "## 3.3 Machine Translation for test-no_labels (comment it after the first run)"
      ],
      "metadata": {
        "id": "Sy517vn_30bN"
      }
    },
    {
      "cell_type": "code",
      "source": [
        "# test_df = pd.read_csv('test-no_labels.tsv', sep='\\t')\n",
        "\n",
        "# tokenizer_transl = MarianTokenizer.from_pretrained('Helsinki-NLP/opus-mt-ru-en')\n",
        "# model_transl = MarianMTModel.from_pretrained('Helsinki-NLP/opus-mt-ru-en')\n",
        "\n",
        "# english_sentences = []\n",
        "\n",
        "# russian_sentences = test_df[\"text\"].tolist()\n",
        "\n",
        "# word_to_remove_1 = \"[USER] \"\n",
        "# word_to_remove_2 = \"[USER], \"\n",
        "\n",
        "# for i, sentence in enumerate(russian_sentences):\n",
        "#     print(i)\n",
        "#     # Clean up the sentence by removing URLs and usernames\n",
        "#     cleaned_sentence = re.sub(r\"(?:\\@|https?\\://)\\S+\", \"\", sentence)\n",
        "\n",
        "#     # Translate the cleaned sentence from Russian to English\n",
        "#     inputs = tokenizer_transl(cleaned_sentence, return_tensors='pt', padding=True)\n",
        "#     outputs = model_transl.generate(**inputs)\n",
        "#     translated_sentence = tokenizer_transl.decode(outputs[0], skip_special_tokens=True)\n",
        "#     if word_to_remove_1 in translated_sentence:\n",
        "#         translated_sentence = translated_sentence.replace(word_to_remove_1, \"\")\n",
        "\n",
        "#     if word_to_remove_2 in translated_sentence:\n",
        "#         translated_sentence = translated_sentence.replace(word_to_remove_2, \"\")\n",
        "\n",
        "#     english_sentences.append(translated_sentence)\n",
        "\n",
        "# test_df['text'] = english_sentences\n",
        "\n",
        "# test_df.to_csv('test-no_labels_English.tsv', sep=\"\\t\", index=False)"
      ],
      "metadata": {
        "id": "TqRFy22S3zjr"
      },
      "execution_count": null,
      "outputs": []
    },
    {
      "cell_type": "markdown",
      "source": [
        "## 3.4 Machine Translation for train (comment it after the first run)"
      ],
      "metadata": {
        "id": "lU50ILOo5VQI"
      }
    },
    {
      "cell_type": "code",
      "source": [
        "# train_df = pd.read_csv('train.tsv', sep='\\t')\n",
        "\n",
        "# tokenizer_transl = MarianTokenizer.from_pretrained('Helsinki-NLP/opus-mt-ru-en')\n",
        "# model_transl = MarianMTModel.from_pretrained('Helsinki-NLP/opus-mt-ru-en')\n",
        "\n",
        "# english_sentences = []\n",
        "\n",
        "# russian_sentences = train_df[\"text\"].tolist()\n",
        "\n",
        "# word_to_remove_1 = \"[USER] \"\n",
        "# word_to_remove_2 = \"[USER], \"\n",
        "\n",
        "# for i, sentence in enumerate(russian_sentences):\n",
        "#     print(i)\n",
        "#     # Clean up the sentence by removing URLs and usernames\n",
        "#     cleaned_sentence = re.sub(r\"(?:\\@|https?\\://)\\S+\", \"\", sentence)\n",
        "\n",
        "#     # Translate the cleaned sentence from Russian to English\n",
        "#     inputs = tokenizer_transl(cleaned_sentence, return_tensors='pt', padding=True)\n",
        "#     outputs = model_transl.generate(**inputs)\n",
        "#     translated_sentence = tokenizer_transl.decode(outputs[0], skip_special_tokens=True)\n",
        "#     if word_to_remove_1 in translated_sentence:\n",
        "#         translated_sentence = translated_sentence.replace(word_to_remove_1, \"\")\n",
        "\n",
        "#     if word_to_remove_2 in translated_sentence:\n",
        "#         translated_sentence = translated_sentence.replace(word_to_remove_2, \"\")\n",
        "\n",
        "#     english_sentences.append(translated_sentence)\n",
        "\n",
        "# train_df['text'] = english_sentences\n",
        "\n",
        "# train_df.to_csv('train_English.tsv', sep=\"\\t\", index=False)"
      ],
      "metadata": {
        "id": "0vgcRTbJ5YVI"
      },
      "execution_count": null,
      "outputs": []
    },
    {
      "cell_type": "markdown",
      "metadata": {
        "id": "UMUfhznCJfPa"
      },
      "source": [
        "## 3.5 Relevant and Irrelevant classification for test (comment it after the first run)"
      ]
    },
    {
      "cell_type": "code",
      "execution_count": null,
      "metadata": {
        "id": "iqL9UGMQJfPa",
        "outputId": "60ee3e9a-5ada-4915-a4fe-fb71f9782cab",
        "colab": {
          "base_uri": "https://localhost:8080/",
          "height": 206
        }
      },
      "outputs": [
        {
          "output_type": "execute_result",
          "data": {
            "text/plain": [
              "   text_id                                               text  masks_stance  \\\n",
              "0    17059  Vacation would only give rise to the spread of...           NaN   \n",
              "1    17072  Thought we'd sit in a little company, talk whi...           NaN   \n",
              "2    17077  in China, the disease has been on its way sinc...           NaN   \n",
              "3    17082  If the unimptomably good third of the populati...           NaN   \n",
              "4    17089  And training involves a mass accumulation of p...           NaN   \n",
              "\n",
              "   masks_argument  quarantine_stance  quarantine_argument  vaccines_stance  \\\n",
              "0             NaN                NaN                  NaN              NaN   \n",
              "1             NaN                NaN                  NaN              NaN   \n",
              "2             NaN                NaN                  NaN              NaN   \n",
              "3             NaN                NaN                  NaN              NaN   \n",
              "4             NaN                NaN                  NaN              NaN   \n",
              "\n",
              "   vaccines_argument  \n",
              "0                NaN  \n",
              "1                NaN  \n",
              "2                NaN  \n",
              "3                NaN  \n",
              "4                NaN  "
            ],
            "text/html": [
              "\n",
              "  <div id=\"df-224a5483-caf4-4c0a-9e58-4a45f42af1f2\">\n",
              "    <div class=\"colab-df-container\">\n",
              "      <div>\n",
              "<style scoped>\n",
              "    .dataframe tbody tr th:only-of-type {\n",
              "        vertical-align: middle;\n",
              "    }\n",
              "\n",
              "    .dataframe tbody tr th {\n",
              "        vertical-align: top;\n",
              "    }\n",
              "\n",
              "    .dataframe thead th {\n",
              "        text-align: right;\n",
              "    }\n",
              "</style>\n",
              "<table border=\"1\" class=\"dataframe\">\n",
              "  <thead>\n",
              "    <tr style=\"text-align: right;\">\n",
              "      <th></th>\n",
              "      <th>text_id</th>\n",
              "      <th>text</th>\n",
              "      <th>masks_stance</th>\n",
              "      <th>masks_argument</th>\n",
              "      <th>quarantine_stance</th>\n",
              "      <th>quarantine_argument</th>\n",
              "      <th>vaccines_stance</th>\n",
              "      <th>vaccines_argument</th>\n",
              "    </tr>\n",
              "  </thead>\n",
              "  <tbody>\n",
              "    <tr>\n",
              "      <th>0</th>\n",
              "      <td>17059</td>\n",
              "      <td>Vacation would only give rise to the spread of...</td>\n",
              "      <td>NaN</td>\n",
              "      <td>NaN</td>\n",
              "      <td>NaN</td>\n",
              "      <td>NaN</td>\n",
              "      <td>NaN</td>\n",
              "      <td>NaN</td>\n",
              "    </tr>\n",
              "    <tr>\n",
              "      <th>1</th>\n",
              "      <td>17072</td>\n",
              "      <td>Thought we'd sit in a little company, talk whi...</td>\n",
              "      <td>NaN</td>\n",
              "      <td>NaN</td>\n",
              "      <td>NaN</td>\n",
              "      <td>NaN</td>\n",
              "      <td>NaN</td>\n",
              "      <td>NaN</td>\n",
              "    </tr>\n",
              "    <tr>\n",
              "      <th>2</th>\n",
              "      <td>17077</td>\n",
              "      <td>in China, the disease has been on its way sinc...</td>\n",
              "      <td>NaN</td>\n",
              "      <td>NaN</td>\n",
              "      <td>NaN</td>\n",
              "      <td>NaN</td>\n",
              "      <td>NaN</td>\n",
              "      <td>NaN</td>\n",
              "    </tr>\n",
              "    <tr>\n",
              "      <th>3</th>\n",
              "      <td>17082</td>\n",
              "      <td>If the unimptomably good third of the populati...</td>\n",
              "      <td>NaN</td>\n",
              "      <td>NaN</td>\n",
              "      <td>NaN</td>\n",
              "      <td>NaN</td>\n",
              "      <td>NaN</td>\n",
              "      <td>NaN</td>\n",
              "    </tr>\n",
              "    <tr>\n",
              "      <th>4</th>\n",
              "      <td>17089</td>\n",
              "      <td>And training involves a mass accumulation of p...</td>\n",
              "      <td>NaN</td>\n",
              "      <td>NaN</td>\n",
              "      <td>NaN</td>\n",
              "      <td>NaN</td>\n",
              "      <td>NaN</td>\n",
              "      <td>NaN</td>\n",
              "    </tr>\n",
              "  </tbody>\n",
              "</table>\n",
              "</div>\n",
              "      <button class=\"colab-df-convert\" onclick=\"convertToInteractive('df-224a5483-caf4-4c0a-9e58-4a45f42af1f2')\"\n",
              "              title=\"Convert this dataframe to an interactive table.\"\n",
              "              style=\"display:none;\">\n",
              "        \n",
              "  <svg xmlns=\"http://www.w3.org/2000/svg\" height=\"24px\"viewBox=\"0 0 24 24\"\n",
              "       width=\"24px\">\n",
              "    <path d=\"M0 0h24v24H0V0z\" fill=\"none\"/>\n",
              "    <path d=\"M18.56 5.44l.94 2.06.94-2.06 2.06-.94-2.06-.94-.94-2.06-.94 2.06-2.06.94zm-11 1L8.5 8.5l.94-2.06 2.06-.94-2.06-.94L8.5 2.5l-.94 2.06-2.06.94zm10 10l.94 2.06.94-2.06 2.06-.94-2.06-.94-.94-2.06-.94 2.06-2.06.94z\"/><path d=\"M17.41 7.96l-1.37-1.37c-.4-.4-.92-.59-1.43-.59-.52 0-1.04.2-1.43.59L10.3 9.45l-7.72 7.72c-.78.78-.78 2.05 0 2.83L4 21.41c.39.39.9.59 1.41.59.51 0 1.02-.2 1.41-.59l7.78-7.78 2.81-2.81c.8-.78.8-2.07 0-2.86zM5.41 20L4 18.59l7.72-7.72 1.47 1.35L5.41 20z\"/>\n",
              "  </svg>\n",
              "      </button>\n",
              "      \n",
              "  <style>\n",
              "    .colab-df-container {\n",
              "      display:flex;\n",
              "      flex-wrap:wrap;\n",
              "      gap: 12px;\n",
              "    }\n",
              "\n",
              "    .colab-df-convert {\n",
              "      background-color: #E8F0FE;\n",
              "      border: none;\n",
              "      border-radius: 50%;\n",
              "      cursor: pointer;\n",
              "      display: none;\n",
              "      fill: #1967D2;\n",
              "      height: 32px;\n",
              "      padding: 0 0 0 0;\n",
              "      width: 32px;\n",
              "    }\n",
              "\n",
              "    .colab-df-convert:hover {\n",
              "      background-color: #E2EBFA;\n",
              "      box-shadow: 0px 1px 2px rgba(60, 64, 67, 0.3), 0px 1px 3px 1px rgba(60, 64, 67, 0.15);\n",
              "      fill: #174EA6;\n",
              "    }\n",
              "\n",
              "    [theme=dark] .colab-df-convert {\n",
              "      background-color: #3B4455;\n",
              "      fill: #D2E3FC;\n",
              "    }\n",
              "\n",
              "    [theme=dark] .colab-df-convert:hover {\n",
              "      background-color: #434B5C;\n",
              "      box-shadow: 0px 1px 3px 1px rgba(0, 0, 0, 0.15);\n",
              "      filter: drop-shadow(0px 1px 2px rgba(0, 0, 0, 0.3));\n",
              "      fill: #FFFFFF;\n",
              "    }\n",
              "  </style>\n",
              "\n",
              "      <script>\n",
              "        const buttonEl =\n",
              "          document.querySelector('#df-224a5483-caf4-4c0a-9e58-4a45f42af1f2 button.colab-df-convert');\n",
              "        buttonEl.style.display =\n",
              "          google.colab.kernel.accessAllowed ? 'block' : 'none';\n",
              "\n",
              "        async function convertToInteractive(key) {\n",
              "          const element = document.querySelector('#df-224a5483-caf4-4c0a-9e58-4a45f42af1f2');\n",
              "          const dataTable =\n",
              "            await google.colab.kernel.invokeFunction('convertToInteractive',\n",
              "                                                     [key], {});\n",
              "          if (!dataTable) return;\n",
              "\n",
              "          const docLinkHtml = 'Like what you see? Visit the ' +\n",
              "            '<a target=\"_blank\" href=https://colab.research.google.com/notebooks/data_table.ipynb>data table notebook</a>'\n",
              "            + ' to learn more about interactive tables.';\n",
              "          element.innerHTML = '';\n",
              "          dataTable['output_type'] = 'display_data';\n",
              "          await google.colab.output.renderOutput(dataTable, element);\n",
              "          const docLink = document.createElement('div');\n",
              "          docLink.innerHTML = docLinkHtml;\n",
              "          element.appendChild(docLink);\n",
              "        }\n",
              "      </script>\n",
              "    </div>\n",
              "  </div>\n",
              "  "
            ]
          },
          "metadata": {},
          "execution_count": 4
        }
      ],
      "source": [
        "# test_df = pd.read_csv('test-no_labels_English.tsv', sep='\\t')\n",
        "# test_df.head(5)"
      ]
    },
    {
      "cell_type": "code",
      "execution_count": null,
      "metadata": {
        "id": "DgDH0zwwJfPc"
      },
      "outputs": [],
      "source": [
        "# for i in range(len(test_df)):\n",
        "#     if not (find_near_matches(\"vaccine\", test_df[\"text\"][i], max_l_dist=1) or find_near_matches(\"immunization\", test_df[\"text\"][i], max_l_dist=1)\n",
        "#          or find_near_matches(\"vaccination\", test_df[\"text\"][i], max_l_dist=1) or find_near_matches(\"satellite\", test_df[\"text\"][i], max_l_dist=1)):\n",
        "#         test_df.loc[i, \"vaccines_stance\"] = -1\n",
        "#         test_df.loc[i, \"vaccines_argument\"] = -1\n",
        "#     if not (find_near_matches(\"quarantine\", test_df[\"text\"][i], max_l_dist=1) or find_near_matches(\"lockdown\", test_df[\"text\"][i], max_l_dist=1)):\n",
        "#         test_df.loc[i, \"quarantine_stance\"] = -1\n",
        "#         test_df.loc[i, \"quarantine_argument\"] = -1\n",
        "#     if not find_near_matches(\"mask\", test_df[\"text\"][i], max_l_dist=1):\n",
        "#         test_df.loc[i, \"masks_stance\"] = -1\n",
        "#         test_df.loc[i, \"masks_argument\"] = -1"
      ]
    },
    {
      "cell_type": "code",
      "execution_count": null,
      "metadata": {
        "id": "PtgdPqdkJfPd",
        "outputId": "5b01ab0a-ab31-4738-d4c7-b00c9a08d9d6",
        "colab": {
          "base_uri": "https://localhost:8080/",
          "height": 206
        }
      },
      "outputs": [
        {
          "output_type": "execute_result",
          "data": {
            "text/plain": [
              "   text_id                                               text  masks_stance  \\\n",
              "0    17059  Vacation would only give rise to the spread of...          -1.0   \n",
              "1    17072  Thought we'd sit in a little company, talk whi...          -1.0   \n",
              "2    17077  in China, the disease has been on its way sinc...          -1.0   \n",
              "3    17082  If the unimptomably good third of the populati...          -1.0   \n",
              "4    17089  And training involves a mass accumulation of p...           NaN   \n",
              "\n",
              "   masks_argument  quarantine_stance  quarantine_argument  vaccines_stance  \\\n",
              "0            -1.0                NaN                  NaN             -1.0   \n",
              "1            -1.0                NaN                  NaN             -1.0   \n",
              "2            -1.0                NaN                  NaN             -1.0   \n",
              "3            -1.0                NaN                  NaN             -1.0   \n",
              "4             NaN                NaN                  NaN             -1.0   \n",
              "\n",
              "   vaccines_argument  \n",
              "0               -1.0  \n",
              "1               -1.0  \n",
              "2               -1.0  \n",
              "3               -1.0  \n",
              "4               -1.0  "
            ],
            "text/html": [
              "\n",
              "  <div id=\"df-1000dfc0-6d18-486b-9fdc-c954b48ee523\">\n",
              "    <div class=\"colab-df-container\">\n",
              "      <div>\n",
              "<style scoped>\n",
              "    .dataframe tbody tr th:only-of-type {\n",
              "        vertical-align: middle;\n",
              "    }\n",
              "\n",
              "    .dataframe tbody tr th {\n",
              "        vertical-align: top;\n",
              "    }\n",
              "\n",
              "    .dataframe thead th {\n",
              "        text-align: right;\n",
              "    }\n",
              "</style>\n",
              "<table border=\"1\" class=\"dataframe\">\n",
              "  <thead>\n",
              "    <tr style=\"text-align: right;\">\n",
              "      <th></th>\n",
              "      <th>text_id</th>\n",
              "      <th>text</th>\n",
              "      <th>masks_stance</th>\n",
              "      <th>masks_argument</th>\n",
              "      <th>quarantine_stance</th>\n",
              "      <th>quarantine_argument</th>\n",
              "      <th>vaccines_stance</th>\n",
              "      <th>vaccines_argument</th>\n",
              "    </tr>\n",
              "  </thead>\n",
              "  <tbody>\n",
              "    <tr>\n",
              "      <th>0</th>\n",
              "      <td>17059</td>\n",
              "      <td>Vacation would only give rise to the spread of...</td>\n",
              "      <td>-1.0</td>\n",
              "      <td>-1.0</td>\n",
              "      <td>NaN</td>\n",
              "      <td>NaN</td>\n",
              "      <td>-1.0</td>\n",
              "      <td>-1.0</td>\n",
              "    </tr>\n",
              "    <tr>\n",
              "      <th>1</th>\n",
              "      <td>17072</td>\n",
              "      <td>Thought we'd sit in a little company, talk whi...</td>\n",
              "      <td>-1.0</td>\n",
              "      <td>-1.0</td>\n",
              "      <td>NaN</td>\n",
              "      <td>NaN</td>\n",
              "      <td>-1.0</td>\n",
              "      <td>-1.0</td>\n",
              "    </tr>\n",
              "    <tr>\n",
              "      <th>2</th>\n",
              "      <td>17077</td>\n",
              "      <td>in China, the disease has been on its way sinc...</td>\n",
              "      <td>-1.0</td>\n",
              "      <td>-1.0</td>\n",
              "      <td>NaN</td>\n",
              "      <td>NaN</td>\n",
              "      <td>-1.0</td>\n",
              "      <td>-1.0</td>\n",
              "    </tr>\n",
              "    <tr>\n",
              "      <th>3</th>\n",
              "      <td>17082</td>\n",
              "      <td>If the unimptomably good third of the populati...</td>\n",
              "      <td>-1.0</td>\n",
              "      <td>-1.0</td>\n",
              "      <td>NaN</td>\n",
              "      <td>NaN</td>\n",
              "      <td>-1.0</td>\n",
              "      <td>-1.0</td>\n",
              "    </tr>\n",
              "    <tr>\n",
              "      <th>4</th>\n",
              "      <td>17089</td>\n",
              "      <td>And training involves a mass accumulation of p...</td>\n",
              "      <td>NaN</td>\n",
              "      <td>NaN</td>\n",
              "      <td>NaN</td>\n",
              "      <td>NaN</td>\n",
              "      <td>-1.0</td>\n",
              "      <td>-1.0</td>\n",
              "    </tr>\n",
              "  </tbody>\n",
              "</table>\n",
              "</div>\n",
              "      <button class=\"colab-df-convert\" onclick=\"convertToInteractive('df-1000dfc0-6d18-486b-9fdc-c954b48ee523')\"\n",
              "              title=\"Convert this dataframe to an interactive table.\"\n",
              "              style=\"display:none;\">\n",
              "        \n",
              "  <svg xmlns=\"http://www.w3.org/2000/svg\" height=\"24px\"viewBox=\"0 0 24 24\"\n",
              "       width=\"24px\">\n",
              "    <path d=\"M0 0h24v24H0V0z\" fill=\"none\"/>\n",
              "    <path d=\"M18.56 5.44l.94 2.06.94-2.06 2.06-.94-2.06-.94-.94-2.06-.94 2.06-2.06.94zm-11 1L8.5 8.5l.94-2.06 2.06-.94-2.06-.94L8.5 2.5l-.94 2.06-2.06.94zm10 10l.94 2.06.94-2.06 2.06-.94-2.06-.94-.94-2.06-.94 2.06-2.06.94z\"/><path d=\"M17.41 7.96l-1.37-1.37c-.4-.4-.92-.59-1.43-.59-.52 0-1.04.2-1.43.59L10.3 9.45l-7.72 7.72c-.78.78-.78 2.05 0 2.83L4 21.41c.39.39.9.59 1.41.59.51 0 1.02-.2 1.41-.59l7.78-7.78 2.81-2.81c.8-.78.8-2.07 0-2.86zM5.41 20L4 18.59l7.72-7.72 1.47 1.35L5.41 20z\"/>\n",
              "  </svg>\n",
              "      </button>\n",
              "      \n",
              "  <style>\n",
              "    .colab-df-container {\n",
              "      display:flex;\n",
              "      flex-wrap:wrap;\n",
              "      gap: 12px;\n",
              "    }\n",
              "\n",
              "    .colab-df-convert {\n",
              "      background-color: #E8F0FE;\n",
              "      border: none;\n",
              "      border-radius: 50%;\n",
              "      cursor: pointer;\n",
              "      display: none;\n",
              "      fill: #1967D2;\n",
              "      height: 32px;\n",
              "      padding: 0 0 0 0;\n",
              "      width: 32px;\n",
              "    }\n",
              "\n",
              "    .colab-df-convert:hover {\n",
              "      background-color: #E2EBFA;\n",
              "      box-shadow: 0px 1px 2px rgba(60, 64, 67, 0.3), 0px 1px 3px 1px rgba(60, 64, 67, 0.15);\n",
              "      fill: #174EA6;\n",
              "    }\n",
              "\n",
              "    [theme=dark] .colab-df-convert {\n",
              "      background-color: #3B4455;\n",
              "      fill: #D2E3FC;\n",
              "    }\n",
              "\n",
              "    [theme=dark] .colab-df-convert:hover {\n",
              "      background-color: #434B5C;\n",
              "      box-shadow: 0px 1px 3px 1px rgba(0, 0, 0, 0.15);\n",
              "      filter: drop-shadow(0px 1px 2px rgba(0, 0, 0, 0.3));\n",
              "      fill: #FFFFFF;\n",
              "    }\n",
              "  </style>\n",
              "\n",
              "      <script>\n",
              "        const buttonEl =\n",
              "          document.querySelector('#df-1000dfc0-6d18-486b-9fdc-c954b48ee523 button.colab-df-convert');\n",
              "        buttonEl.style.display =\n",
              "          google.colab.kernel.accessAllowed ? 'block' : 'none';\n",
              "\n",
              "        async function convertToInteractive(key) {\n",
              "          const element = document.querySelector('#df-1000dfc0-6d18-486b-9fdc-c954b48ee523');\n",
              "          const dataTable =\n",
              "            await google.colab.kernel.invokeFunction('convertToInteractive',\n",
              "                                                     [key], {});\n",
              "          if (!dataTable) return;\n",
              "\n",
              "          const docLinkHtml = 'Like what you see? Visit the ' +\n",
              "            '<a target=\"_blank\" href=https://colab.research.google.com/notebooks/data_table.ipynb>data table notebook</a>'\n",
              "            + ' to learn more about interactive tables.';\n",
              "          element.innerHTML = '';\n",
              "          dataTable['output_type'] = 'display_data';\n",
              "          await google.colab.output.renderOutput(dataTable, element);\n",
              "          const docLink = document.createElement('div');\n",
              "          docLink.innerHTML = docLinkHtml;\n",
              "          element.appendChild(docLink);\n",
              "        }\n",
              "      </script>\n",
              "    </div>\n",
              "  </div>\n",
              "  "
            ]
          },
          "metadata": {},
          "execution_count": 6
        }
      ],
      "source": [
        "# test_df.head()"
      ]
    },
    {
      "cell_type": "code",
      "execution_count": null,
      "metadata": {
        "id": "J1cn_medJfPe"
      },
      "outputs": [],
      "source": [
        "# test_df.to_csv('result.tsv', sep=\"\\t\", index=False)"
      ]
    },
    {
      "cell_type": "markdown",
      "metadata": {
        "id": "JZMAS_DMJfPf"
      },
      "source": [
        "## 4. The main part"
      ]
    },
    {
      "cell_type": "markdown",
      "metadata": {
        "id": "mrr5HSgCJfPg"
      },
      "source": [
        "### Configuration\n"
      ]
    },
    {
      "cell_type": "code",
      "execution_count": null,
      "metadata": {
        "id": "AvWHdmjMJfPg"
      },
      "outputs": [],
      "source": [
        "config = {\n",
        "    'model_name': 'bert-base-uncased',\n",
        "    'num_expiriment': '8',\n",
        "    'max_length': 256,\n",
        "    'train_batch_size': 8,\n",
        "    'eval_batch_size': 8,\n",
        "    'num_epoch': 10,\n",
        "    'learning_rate': 4e-5,\n",
        "    'epsilon': 1e-6,\n",
        "    'warmup_steps': 800,\n",
        "    'weight_decay': 0.01\n",
        "}"
      ]
    },
    {
      "cell_type": "markdown",
      "metadata": {
        "id": "o3OXwvcaJfPh"
      },
      "source": [
        "### Read data and clear data\n"
      ]
    },
    {
      "cell_type": "code",
      "execution_count": null,
      "metadata": {
        "id": "_LiPYB6cJfPi"
      },
      "outputs": [],
      "source": [
        "# CLASS_NAME = \"quarantine\"\n",
        "CLASS_NAME = \"vaccines\"\n",
        "# CLASS_NAME = \"masks\""
      ]
    },
    {
      "cell_type": "code",
      "execution_count": null,
      "metadata": {
        "id": "eBThm0fCJfPj",
        "outputId": "de611447-df30-4b5d-8999-857dc2772ed9",
        "colab": {
          "base_uri": "https://localhost:8080/",
          "height": 206
        }
      },
      "outputs": [
        {
          "output_type": "execute_result",
          "data": {
            "text/plain": [
              "   text_id                                               text  masks_stance  \\\n",
              "0    17059  Vacation would only give rise to the spread of...           NaN   \n",
              "1    17072  Thought we'd sit in a little company, talk whi...           NaN   \n",
              "2    17077  in China, the disease has been on its way sinc...           NaN   \n",
              "3    17082  If the unimptomably good third of the populati...           NaN   \n",
              "4    17089  And training involves a mass accumulation of p...           NaN   \n",
              "\n",
              "   masks_argument  quarantine_stance  quarantine_argument  vaccines_stance  \\\n",
              "0             NaN                NaN                  NaN              NaN   \n",
              "1             NaN                NaN                  NaN              NaN   \n",
              "2             NaN                NaN                  NaN              NaN   \n",
              "3             NaN                NaN                  NaN              NaN   \n",
              "4             NaN                NaN                  NaN              NaN   \n",
              "\n",
              "   vaccines_argument  \n",
              "0                NaN  \n",
              "1                NaN  \n",
              "2                NaN  \n",
              "3                NaN  \n",
              "4                NaN  "
            ],
            "text/html": [
              "\n",
              "  <div id=\"df-17ee8f00-d6c3-4a8e-b13e-c91c36671999\">\n",
              "    <div class=\"colab-df-container\">\n",
              "      <div>\n",
              "<style scoped>\n",
              "    .dataframe tbody tr th:only-of-type {\n",
              "        vertical-align: middle;\n",
              "    }\n",
              "\n",
              "    .dataframe tbody tr th {\n",
              "        vertical-align: top;\n",
              "    }\n",
              "\n",
              "    .dataframe thead th {\n",
              "        text-align: right;\n",
              "    }\n",
              "</style>\n",
              "<table border=\"1\" class=\"dataframe\">\n",
              "  <thead>\n",
              "    <tr style=\"text-align: right;\">\n",
              "      <th></th>\n",
              "      <th>text_id</th>\n",
              "      <th>text</th>\n",
              "      <th>masks_stance</th>\n",
              "      <th>masks_argument</th>\n",
              "      <th>quarantine_stance</th>\n",
              "      <th>quarantine_argument</th>\n",
              "      <th>vaccines_stance</th>\n",
              "      <th>vaccines_argument</th>\n",
              "    </tr>\n",
              "  </thead>\n",
              "  <tbody>\n",
              "    <tr>\n",
              "      <th>0</th>\n",
              "      <td>17059</td>\n",
              "      <td>Vacation would only give rise to the spread of...</td>\n",
              "      <td>NaN</td>\n",
              "      <td>NaN</td>\n",
              "      <td>NaN</td>\n",
              "      <td>NaN</td>\n",
              "      <td>NaN</td>\n",
              "      <td>NaN</td>\n",
              "    </tr>\n",
              "    <tr>\n",
              "      <th>1</th>\n",
              "      <td>17072</td>\n",
              "      <td>Thought we'd sit in a little company, talk whi...</td>\n",
              "      <td>NaN</td>\n",
              "      <td>NaN</td>\n",
              "      <td>NaN</td>\n",
              "      <td>NaN</td>\n",
              "      <td>NaN</td>\n",
              "      <td>NaN</td>\n",
              "    </tr>\n",
              "    <tr>\n",
              "      <th>2</th>\n",
              "      <td>17077</td>\n",
              "      <td>in China, the disease has been on its way sinc...</td>\n",
              "      <td>NaN</td>\n",
              "      <td>NaN</td>\n",
              "      <td>NaN</td>\n",
              "      <td>NaN</td>\n",
              "      <td>NaN</td>\n",
              "      <td>NaN</td>\n",
              "    </tr>\n",
              "    <tr>\n",
              "      <th>3</th>\n",
              "      <td>17082</td>\n",
              "      <td>If the unimptomably good third of the populati...</td>\n",
              "      <td>NaN</td>\n",
              "      <td>NaN</td>\n",
              "      <td>NaN</td>\n",
              "      <td>NaN</td>\n",
              "      <td>NaN</td>\n",
              "      <td>NaN</td>\n",
              "    </tr>\n",
              "    <tr>\n",
              "      <th>4</th>\n",
              "      <td>17089</td>\n",
              "      <td>And training involves a mass accumulation of p...</td>\n",
              "      <td>NaN</td>\n",
              "      <td>NaN</td>\n",
              "      <td>NaN</td>\n",
              "      <td>NaN</td>\n",
              "      <td>NaN</td>\n",
              "      <td>NaN</td>\n",
              "    </tr>\n",
              "  </tbody>\n",
              "</table>\n",
              "</div>\n",
              "      <button class=\"colab-df-convert\" onclick=\"convertToInteractive('df-17ee8f00-d6c3-4a8e-b13e-c91c36671999')\"\n",
              "              title=\"Convert this dataframe to an interactive table.\"\n",
              "              style=\"display:none;\">\n",
              "        \n",
              "  <svg xmlns=\"http://www.w3.org/2000/svg\" height=\"24px\"viewBox=\"0 0 24 24\"\n",
              "       width=\"24px\">\n",
              "    <path d=\"M0 0h24v24H0V0z\" fill=\"none\"/>\n",
              "    <path d=\"M18.56 5.44l.94 2.06.94-2.06 2.06-.94-2.06-.94-.94-2.06-.94 2.06-2.06.94zm-11 1L8.5 8.5l.94-2.06 2.06-.94-2.06-.94L8.5 2.5l-.94 2.06-2.06.94zm10 10l.94 2.06.94-2.06 2.06-.94-2.06-.94-.94-2.06-.94 2.06-2.06.94z\"/><path d=\"M17.41 7.96l-1.37-1.37c-.4-.4-.92-.59-1.43-.59-.52 0-1.04.2-1.43.59L10.3 9.45l-7.72 7.72c-.78.78-.78 2.05 0 2.83L4 21.41c.39.39.9.59 1.41.59.51 0 1.02-.2 1.41-.59l7.78-7.78 2.81-2.81c.8-.78.8-2.07 0-2.86zM5.41 20L4 18.59l7.72-7.72 1.47 1.35L5.41 20z\"/>\n",
              "  </svg>\n",
              "      </button>\n",
              "      \n",
              "  <style>\n",
              "    .colab-df-container {\n",
              "      display:flex;\n",
              "      flex-wrap:wrap;\n",
              "      gap: 12px;\n",
              "    }\n",
              "\n",
              "    .colab-df-convert {\n",
              "      background-color: #E8F0FE;\n",
              "      border: none;\n",
              "      border-radius: 50%;\n",
              "      cursor: pointer;\n",
              "      display: none;\n",
              "      fill: #1967D2;\n",
              "      height: 32px;\n",
              "      padding: 0 0 0 0;\n",
              "      width: 32px;\n",
              "    }\n",
              "\n",
              "    .colab-df-convert:hover {\n",
              "      background-color: #E2EBFA;\n",
              "      box-shadow: 0px 1px 2px rgba(60, 64, 67, 0.3), 0px 1px 3px 1px rgba(60, 64, 67, 0.15);\n",
              "      fill: #174EA6;\n",
              "    }\n",
              "\n",
              "    [theme=dark] .colab-df-convert {\n",
              "      background-color: #3B4455;\n",
              "      fill: #D2E3FC;\n",
              "    }\n",
              "\n",
              "    [theme=dark] .colab-df-convert:hover {\n",
              "      background-color: #434B5C;\n",
              "      box-shadow: 0px 1px 3px 1px rgba(0, 0, 0, 0.15);\n",
              "      filter: drop-shadow(0px 1px 2px rgba(0, 0, 0, 0.3));\n",
              "      fill: #FFFFFF;\n",
              "    }\n",
              "  </style>\n",
              "\n",
              "      <script>\n",
              "        const buttonEl =\n",
              "          document.querySelector('#df-17ee8f00-d6c3-4a8e-b13e-c91c36671999 button.colab-df-convert');\n",
              "        buttonEl.style.display =\n",
              "          google.colab.kernel.accessAllowed ? 'block' : 'none';\n",
              "\n",
              "        async function convertToInteractive(key) {\n",
              "          const element = document.querySelector('#df-17ee8f00-d6c3-4a8e-b13e-c91c36671999');\n",
              "          const dataTable =\n",
              "            await google.colab.kernel.invokeFunction('convertToInteractive',\n",
              "                                                     [key], {});\n",
              "          if (!dataTable) return;\n",
              "\n",
              "          const docLinkHtml = 'Like what you see? Visit the ' +\n",
              "            '<a target=\"_blank\" href=https://colab.research.google.com/notebooks/data_table.ipynb>data table notebook</a>'\n",
              "            + ' to learn more about interactive tables.';\n",
              "          element.innerHTML = '';\n",
              "          dataTable['output_type'] = 'display_data';\n",
              "          await google.colab.output.renderOutput(dataTable, element);\n",
              "          const docLink = document.createElement('div');\n",
              "          docLink.innerHTML = docLinkHtml;\n",
              "          element.appendChild(docLink);\n",
              "        }\n",
              "      </script>\n",
              "    </div>\n",
              "  </div>\n",
              "  "
            ]
          },
          "metadata": {},
          "execution_count": 8
        }
      ],
      "source": [
        "test_df = pd.read_csv('test-no_labels_English.tsv', sep='\\t')\n",
        "test_df.head(5)"
      ]
    },
    {
      "cell_type": "code",
      "execution_count": null,
      "metadata": {
        "id": "r4-tu3Q9JfPk",
        "outputId": "c4e84091-1282-4e3b-d168-26b11c2603e1",
        "colab": {
          "base_uri": "https://localhost:8080/",
          "height": 223
        }
      },
      "outputs": [
        {
          "output_type": "stream",
          "name": "stdout",
          "text": [
            "(6717, 3)\n"
          ]
        },
        {
          "output_type": "execute_result",
          "data": {
            "text/plain": [
              "                                                text  vaccines_stance  \\\n",
              "0  According to Rosspernadzor, all transit passen...               -1   \n",
              "1  Non-compliance with quarantine measures by con...               -1   \n",
              "2  read more books on quarantine, see if you can ...               -1   \n",
              "3  Go read the intuition of our city pavilions wh...               -1   \n",
              "4  All the contact persons they identified are se...               -1   \n",
              "\n",
              "   vaccines_argument  \n",
              "0                 -1  \n",
              "1                 -1  \n",
              "2                 -1  \n",
              "3                 -1  \n",
              "4                 -1  "
            ],
            "text/html": [
              "\n",
              "  <div id=\"df-c7870fed-5193-4a87-b8f9-00bb857e8483\">\n",
              "    <div class=\"colab-df-container\">\n",
              "      <div>\n",
              "<style scoped>\n",
              "    .dataframe tbody tr th:only-of-type {\n",
              "        vertical-align: middle;\n",
              "    }\n",
              "\n",
              "    .dataframe tbody tr th {\n",
              "        vertical-align: top;\n",
              "    }\n",
              "\n",
              "    .dataframe thead th {\n",
              "        text-align: right;\n",
              "    }\n",
              "</style>\n",
              "<table border=\"1\" class=\"dataframe\">\n",
              "  <thead>\n",
              "    <tr style=\"text-align: right;\">\n",
              "      <th></th>\n",
              "      <th>text</th>\n",
              "      <th>vaccines_stance</th>\n",
              "      <th>vaccines_argument</th>\n",
              "    </tr>\n",
              "  </thead>\n",
              "  <tbody>\n",
              "    <tr>\n",
              "      <th>0</th>\n",
              "      <td>According to Rosspernadzor, all transit passen...</td>\n",
              "      <td>-1</td>\n",
              "      <td>-1</td>\n",
              "    </tr>\n",
              "    <tr>\n",
              "      <th>1</th>\n",
              "      <td>Non-compliance with quarantine measures by con...</td>\n",
              "      <td>-1</td>\n",
              "      <td>-1</td>\n",
              "    </tr>\n",
              "    <tr>\n",
              "      <th>2</th>\n",
              "      <td>read more books on quarantine, see if you can ...</td>\n",
              "      <td>-1</td>\n",
              "      <td>-1</td>\n",
              "    </tr>\n",
              "    <tr>\n",
              "      <th>3</th>\n",
              "      <td>Go read the intuition of our city pavilions wh...</td>\n",
              "      <td>-1</td>\n",
              "      <td>-1</td>\n",
              "    </tr>\n",
              "    <tr>\n",
              "      <th>4</th>\n",
              "      <td>All the contact persons they identified are se...</td>\n",
              "      <td>-1</td>\n",
              "      <td>-1</td>\n",
              "    </tr>\n",
              "  </tbody>\n",
              "</table>\n",
              "</div>\n",
              "      <button class=\"colab-df-convert\" onclick=\"convertToInteractive('df-c7870fed-5193-4a87-b8f9-00bb857e8483')\"\n",
              "              title=\"Convert this dataframe to an interactive table.\"\n",
              "              style=\"display:none;\">\n",
              "        \n",
              "  <svg xmlns=\"http://www.w3.org/2000/svg\" height=\"24px\"viewBox=\"0 0 24 24\"\n",
              "       width=\"24px\">\n",
              "    <path d=\"M0 0h24v24H0V0z\" fill=\"none\"/>\n",
              "    <path d=\"M18.56 5.44l.94 2.06.94-2.06 2.06-.94-2.06-.94-.94-2.06-.94 2.06-2.06.94zm-11 1L8.5 8.5l.94-2.06 2.06-.94-2.06-.94L8.5 2.5l-.94 2.06-2.06.94zm10 10l.94 2.06.94-2.06 2.06-.94-2.06-.94-.94-2.06-.94 2.06-2.06.94z\"/><path d=\"M17.41 7.96l-1.37-1.37c-.4-.4-.92-.59-1.43-.59-.52 0-1.04.2-1.43.59L10.3 9.45l-7.72 7.72c-.78.78-.78 2.05 0 2.83L4 21.41c.39.39.9.59 1.41.59.51 0 1.02-.2 1.41-.59l7.78-7.78 2.81-2.81c.8-.78.8-2.07 0-2.86zM5.41 20L4 18.59l7.72-7.72 1.47 1.35L5.41 20z\"/>\n",
              "  </svg>\n",
              "      </button>\n",
              "      \n",
              "  <style>\n",
              "    .colab-df-container {\n",
              "      display:flex;\n",
              "      flex-wrap:wrap;\n",
              "      gap: 12px;\n",
              "    }\n",
              "\n",
              "    .colab-df-convert {\n",
              "      background-color: #E8F0FE;\n",
              "      border: none;\n",
              "      border-radius: 50%;\n",
              "      cursor: pointer;\n",
              "      display: none;\n",
              "      fill: #1967D2;\n",
              "      height: 32px;\n",
              "      padding: 0 0 0 0;\n",
              "      width: 32px;\n",
              "    }\n",
              "\n",
              "    .colab-df-convert:hover {\n",
              "      background-color: #E2EBFA;\n",
              "      box-shadow: 0px 1px 2px rgba(60, 64, 67, 0.3), 0px 1px 3px 1px rgba(60, 64, 67, 0.15);\n",
              "      fill: #174EA6;\n",
              "    }\n",
              "\n",
              "    [theme=dark] .colab-df-convert {\n",
              "      background-color: #3B4455;\n",
              "      fill: #D2E3FC;\n",
              "    }\n",
              "\n",
              "    [theme=dark] .colab-df-convert:hover {\n",
              "      background-color: #434B5C;\n",
              "      box-shadow: 0px 1px 3px 1px rgba(0, 0, 0, 0.15);\n",
              "      filter: drop-shadow(0px 1px 2px rgba(0, 0, 0, 0.3));\n",
              "      fill: #FFFFFF;\n",
              "    }\n",
              "  </style>\n",
              "\n",
              "      <script>\n",
              "        const buttonEl =\n",
              "          document.querySelector('#df-c7870fed-5193-4a87-b8f9-00bb857e8483 button.colab-df-convert');\n",
              "        buttonEl.style.display =\n",
              "          google.colab.kernel.accessAllowed ? 'block' : 'none';\n",
              "\n",
              "        async function convertToInteractive(key) {\n",
              "          const element = document.querySelector('#df-c7870fed-5193-4a87-b8f9-00bb857e8483');\n",
              "          const dataTable =\n",
              "            await google.colab.kernel.invokeFunction('convertToInteractive',\n",
              "                                                     [key], {});\n",
              "          if (!dataTable) return;\n",
              "\n",
              "          const docLinkHtml = 'Like what you see? Visit the ' +\n",
              "            '<a target=\"_blank\" href=https://colab.research.google.com/notebooks/data_table.ipynb>data table notebook</a>'\n",
              "            + ' to learn more about interactive tables.';\n",
              "          element.innerHTML = '';\n",
              "          dataTable['output_type'] = 'display_data';\n",
              "          await google.colab.output.renderOutput(dataTable, element);\n",
              "          const docLink = document.createElement('div');\n",
              "          docLink.innerHTML = docLinkHtml;\n",
              "          element.appendChild(docLink);\n",
              "        }\n",
              "      </script>\n",
              "    </div>\n",
              "  </div>\n",
              "  "
            ]
          },
          "metadata": {},
          "execution_count": 9
        }
      ],
      "source": [
        "train_df = pd.read_csv('train_English.tsv', sep='\\t')\n",
        "\n",
        "# Select required columns\n",
        "train_df = train_df[['text', f'{CLASS_NAME}_stance', f'{CLASS_NAME}_argument']]\n",
        "\n",
        "print(train_df.shape)\n",
        "train_df.head(5)"
      ]
    },
    {
      "cell_type": "code",
      "execution_count": null,
      "metadata": {
        "id": "714OeuRWJfPl",
        "outputId": "99835600-082a-4e12-8b9b-b57ad61b273b",
        "colab": {
          "base_uri": "https://localhost:8080/"
        }
      },
      "outputs": [
        {
          "output_type": "stream",
          "name": "stdout",
          "text": [
            "(1658, 3)\n"
          ]
        }
      ],
      "source": [
        "train_df = train_df[train_df[f\"{CLASS_NAME}_stance\"] != -1]\n",
        "\n",
        "print(train_df.shape)"
      ]
    },
    {
      "cell_type": "code",
      "execution_count": null,
      "metadata": {
        "id": "gYPfEqdqJfPl",
        "outputId": "ab080c58-238e-4891-ea3e-d794dc9daab8",
        "colab": {
          "base_uri": "https://localhost:8080/",
          "height": 223
        }
      },
      "outputs": [
        {
          "output_type": "stream",
          "name": "stdout",
          "text": [
            "(1657, 3)\n"
          ]
        },
        {
          "output_type": "execute_result",
          "data": {
            "text/plain": [
              "                                                text  vaccines_stance  \\\n",
              "0  because those who have now added a covid19 to ...                1   \n",
              "1  As long as the people in the quarantine sit on...                0   \n",
              "2  Only quarantine, and scientists have six vacci...                1   \n",
              "3  Non-compulsory vaccinations, sanitary and epid...                1   \n",
              "4  It's said there's no cure or vaccine, just qua...                1   \n",
              "\n",
              "   vaccines_argument  \n",
              "0                  1  \n",
              "1                  1  \n",
              "2                  1  \n",
              "3                  1  \n",
              "4                  1  "
            ],
            "text/html": [
              "\n",
              "  <div id=\"df-3ba55d59-da72-4d21-8ee1-7013dae3095b\">\n",
              "    <div class=\"colab-df-container\">\n",
              "      <div>\n",
              "<style scoped>\n",
              "    .dataframe tbody tr th:only-of-type {\n",
              "        vertical-align: middle;\n",
              "    }\n",
              "\n",
              "    .dataframe tbody tr th {\n",
              "        vertical-align: top;\n",
              "    }\n",
              "\n",
              "    .dataframe thead th {\n",
              "        text-align: right;\n",
              "    }\n",
              "</style>\n",
              "<table border=\"1\" class=\"dataframe\">\n",
              "  <thead>\n",
              "    <tr style=\"text-align: right;\">\n",
              "      <th></th>\n",
              "      <th>text</th>\n",
              "      <th>vaccines_stance</th>\n",
              "      <th>vaccines_argument</th>\n",
              "    </tr>\n",
              "  </thead>\n",
              "  <tbody>\n",
              "    <tr>\n",
              "      <th>0</th>\n",
              "      <td>because those who have now added a covid19 to ...</td>\n",
              "      <td>1</td>\n",
              "      <td>1</td>\n",
              "    </tr>\n",
              "    <tr>\n",
              "      <th>1</th>\n",
              "      <td>As long as the people in the quarantine sit on...</td>\n",
              "      <td>0</td>\n",
              "      <td>1</td>\n",
              "    </tr>\n",
              "    <tr>\n",
              "      <th>2</th>\n",
              "      <td>Only quarantine, and scientists have six vacci...</td>\n",
              "      <td>1</td>\n",
              "      <td>1</td>\n",
              "    </tr>\n",
              "    <tr>\n",
              "      <th>3</th>\n",
              "      <td>Non-compulsory vaccinations, sanitary and epid...</td>\n",
              "      <td>1</td>\n",
              "      <td>1</td>\n",
              "    </tr>\n",
              "    <tr>\n",
              "      <th>4</th>\n",
              "      <td>It's said there's no cure or vaccine, just qua...</td>\n",
              "      <td>1</td>\n",
              "      <td>1</td>\n",
              "    </tr>\n",
              "  </tbody>\n",
              "</table>\n",
              "</div>\n",
              "      <button class=\"colab-df-convert\" onclick=\"convertToInteractive('df-3ba55d59-da72-4d21-8ee1-7013dae3095b')\"\n",
              "              title=\"Convert this dataframe to an interactive table.\"\n",
              "              style=\"display:none;\">\n",
              "        \n",
              "  <svg xmlns=\"http://www.w3.org/2000/svg\" height=\"24px\"viewBox=\"0 0 24 24\"\n",
              "       width=\"24px\">\n",
              "    <path d=\"M0 0h24v24H0V0z\" fill=\"none\"/>\n",
              "    <path d=\"M18.56 5.44l.94 2.06.94-2.06 2.06-.94-2.06-.94-.94-2.06-.94 2.06-2.06.94zm-11 1L8.5 8.5l.94-2.06 2.06-.94-2.06-.94L8.5 2.5l-.94 2.06-2.06.94zm10 10l.94 2.06.94-2.06 2.06-.94-2.06-.94-.94-2.06-.94 2.06-2.06.94z\"/><path d=\"M17.41 7.96l-1.37-1.37c-.4-.4-.92-.59-1.43-.59-.52 0-1.04.2-1.43.59L10.3 9.45l-7.72 7.72c-.78.78-.78 2.05 0 2.83L4 21.41c.39.39.9.59 1.41.59.51 0 1.02-.2 1.41-.59l7.78-7.78 2.81-2.81c.8-.78.8-2.07 0-2.86zM5.41 20L4 18.59l7.72-7.72 1.47 1.35L5.41 20z\"/>\n",
              "  </svg>\n",
              "      </button>\n",
              "      \n",
              "  <style>\n",
              "    .colab-df-container {\n",
              "      display:flex;\n",
              "      flex-wrap:wrap;\n",
              "      gap: 12px;\n",
              "    }\n",
              "\n",
              "    .colab-df-convert {\n",
              "      background-color: #E8F0FE;\n",
              "      border: none;\n",
              "      border-radius: 50%;\n",
              "      cursor: pointer;\n",
              "      display: none;\n",
              "      fill: #1967D2;\n",
              "      height: 32px;\n",
              "      padding: 0 0 0 0;\n",
              "      width: 32px;\n",
              "    }\n",
              "\n",
              "    .colab-df-convert:hover {\n",
              "      background-color: #E2EBFA;\n",
              "      box-shadow: 0px 1px 2px rgba(60, 64, 67, 0.3), 0px 1px 3px 1px rgba(60, 64, 67, 0.15);\n",
              "      fill: #174EA6;\n",
              "    }\n",
              "\n",
              "    [theme=dark] .colab-df-convert {\n",
              "      background-color: #3B4455;\n",
              "      fill: #D2E3FC;\n",
              "    }\n",
              "\n",
              "    [theme=dark] .colab-df-convert:hover {\n",
              "      background-color: #434B5C;\n",
              "      box-shadow: 0px 1px 3px 1px rgba(0, 0, 0, 0.15);\n",
              "      filter: drop-shadow(0px 1px 2px rgba(0, 0, 0, 0.3));\n",
              "      fill: #FFFFFF;\n",
              "    }\n",
              "  </style>\n",
              "\n",
              "      <script>\n",
              "        const buttonEl =\n",
              "          document.querySelector('#df-3ba55d59-da72-4d21-8ee1-7013dae3095b button.colab-df-convert');\n",
              "        buttonEl.style.display =\n",
              "          google.colab.kernel.accessAllowed ? 'block' : 'none';\n",
              "\n",
              "        async function convertToInteractive(key) {\n",
              "          const element = document.querySelector('#df-3ba55d59-da72-4d21-8ee1-7013dae3095b');\n",
              "          const dataTable =\n",
              "            await google.colab.kernel.invokeFunction('convertToInteractive',\n",
              "                                                     [key], {});\n",
              "          if (!dataTable) return;\n",
              "\n",
              "          const docLinkHtml = 'Like what you see? Visit the ' +\n",
              "            '<a target=\"_blank\" href=https://colab.research.google.com/notebooks/data_table.ipynb>data table notebook</a>'\n",
              "            + ' to learn more about interactive tables.';\n",
              "          element.innerHTML = '';\n",
              "          dataTable['output_type'] = 'display_data';\n",
              "          await google.colab.output.renderOutput(dataTable, element);\n",
              "          const docLink = document.createElement('div');\n",
              "          docLink.innerHTML = docLinkHtml;\n",
              "          element.appendChild(docLink);\n",
              "        }\n",
              "      </script>\n",
              "    </div>\n",
              "  </div>\n",
              "  "
            ]
          },
          "metadata": {},
          "execution_count": 11
        }
      ],
      "source": [
        "def clear_df(df: pd.DataFrame) -> pd.DataFrame:\n",
        "\n",
        "    df = df.drop_duplicates()\n",
        "    df = df.drop_duplicates(subset=['text'], keep=False)\n",
        "    df = df.reset_index(drop=True)\n",
        "\n",
        "    df['text'] = df['text'].map(lambda text: text.replace(\"[USER],\", \"\"))\n",
        "    df['text'] = df['text'].map(lambda text: ' '.join(text.split(' ')))\n",
        "\n",
        "    return df\n",
        "\n",
        "train_df = clear_df(train_df)\n",
        "\n",
        "print(train_df.shape)\n",
        "train_df.head(5)"
      ]
    },
    {
      "cell_type": "code",
      "execution_count": null,
      "metadata": {
        "id": "eixM3mkuJfPm",
        "outputId": "377138c7-523c-49e9-f020-62d703b2943c",
        "colab": {
          "base_uri": "https://localhost:8080/",
          "height": 487
        }
      },
      "outputs": [
        {
          "output_type": "display_data",
          "data": {
            "text/plain": [
              "<Figure size 1000x500 with 2 Axes>"
            ],
            "image/png": "[encoded data removed]"
          },
          "metadata": {}
        }
      ],
      "source": [
        "# Count the number of samples for each class and for both stance and argument labels\n",
        "stance_counts = train_df[f'{CLASS_NAME}_stance'].value_counts()\n",
        "arg_counts = train_df[f'{CLASS_NAME}_argument'].value_counts()\n",
        "\n",
        "# Create a figure and two subplots\n",
        "fig, (ax1, ax2) = plt.subplots(1, 2, figsize=(10, 5))\n",
        "\n",
        "# Create bar plots for stance and argument distributions\n",
        "ax1.bar(stance_counts.index, stance_counts.values)\n",
        "ax2.bar(arg_counts.index, arg_counts.values)\n",
        "\n",
        "# Set the x-axis and y-axis labels for both subplots\n",
        "ax1.set_xlabel('Class')\n",
        "ax1.set_ylabel('Count')\n",
        "ax1.set_xticks([0, 1, 2])\n",
        "ax1.set_xticklabels(['Against', 'Other', 'For'])\n",
        "ax1.set_title(f'Stance Distribution for {CLASS_NAME.capitalize()}')\n",
        "\n",
        "ax2.set_xlabel('Class')\n",
        "ax2.set_ylabel('Count')\n",
        "ax2.set_xticks([0, 1, 2])\n",
        "ax2.set_xticklabels(['Against', 'Other', 'For'])\n",
        "ax2.set_title(f'Argument Distribution for {CLASS_NAME.capitalize()}')\n",
        "\n",
        "# Adjust the layout of the subplots\n",
        "plt.subplots_adjust(wspace=0.4)\n",
        "\n",
        "# Display the plot\n",
        "plt.show()"
      ]
    },
    {
      "cell_type": "code",
      "execution_count": null,
      "metadata": {
        "id": "bmmUQ68oJfPm",
        "outputId": "370cf3a0-d364-42da-8c1d-e06797943493",
        "colab": {
          "base_uri": "https://localhost:8080/"
        }
      },
      "outputs": [
        {
          "output_type": "stream",
          "name": "stdout",
          "text": [
            "Shape of train data: (1325, 3)\n",
            "Shape of valid data: (332, 3)\n"
          ]
        }
      ],
      "source": [
        "train_df, valid_df = train_test_split(train_df, stratify=train_df[f\"{CLASS_NAME}_stance\"], test_size=0.2, random_state=42)\n",
        "\n",
        "print(f'Shape of train data: {train_df.shape}')\n",
        "print(f'Shape of valid data: {valid_df.shape}')"
      ]
    },
    {
      "cell_type": "code",
      "execution_count": null,
      "metadata": {
        "id": "Ca8uscV_JfPm",
        "outputId": "2fbec667-b7d7-4dec-f522-6d231a6a2051",
        "colab": {
          "base_uri": "https://localhost:8080/"
        }
      },
      "outputs": [
        {
          "output_type": "execute_result",
          "data": {
            "text/plain": [
              "tensor([0.0030, 0.0014, 0.0034])"
            ]
          },
          "metadata": {},
          "execution_count": 14
        }
      ],
      "source": [
        "stance_class_counts = train_df[f'{CLASS_NAME}_stance'].value_counts()\n",
        "stance_class_counts = [stance_class_counts[0], stance_class_counts[1], stance_class_counts[2]]\n",
        "stance_class_weights = torch.tensor([1.0/count for count in stance_class_counts], dtype=torch.float)\n",
        "stance_class_weights"
      ]
    },
    {
      "cell_type": "code",
      "execution_count": null,
      "metadata": {
        "id": "fNynTHt2JfPm",
        "outputId": "080ddf01-1061-48d3-d32d-3c10e69b9b6c",
        "colab": {
          "base_uri": "https://localhost:8080/"
        }
      },
      "outputs": [
        {
          "output_type": "execute_result",
          "data": {
            "text/plain": [
              "tensor([0.0047, 0.0010, 0.0080])"
            ]
          },
          "metadata": {},
          "execution_count": 15
        }
      ],
      "source": [
        "argument_class_counts = train_df[f'{CLASS_NAME}_argument'].value_counts()\n",
        "argument_class_counts = [argument_class_counts[0], argument_class_counts[1], argument_class_counts[2]]\n",
        "argument_class_weights = torch.tensor([1.0/count for count in argument_class_counts],  dtype=torch.float)\n",
        "argument_class_weights"
      ]
    },
    {
      "cell_type": "markdown",
      "metadata": {
        "id": "btWc8j74JfPn"
      },
      "source": [
        "### Tokenization, create Datasets and Dataloaders\n"
      ]
    },
    {
      "cell_type": "code",
      "execution_count": null,
      "metadata": {
        "id": "k9kk0KDqJfPn",
        "colab": {
          "base_uri": "https://localhost:8080/",
          "height": 113,
          "referenced_widgets": [
            "65b6523186444222876bc677e6fc3a34",
            "ff63881d97ad4f19ba9f067707873b71",
            "1b6bb36c1e68405bbbd9f7c034bb4b32",
            "5f6c45a020c341848ff22e3fff9bb2a2",
            "5ff3e89697fe4ecb839974b896918771",
            "c7253778d6a64a2fb8383c2bd000f5fe",
            "17b6b1c4e00c4b7abb13f6307700fad4",
            "a3ca3733aa404a0997f2eba04b24067d",
            "e48681d0679b419ebee3ea08157e03a3",
            "a5c43659f8974800916b451993a4f6f3",
            "66a2fda0daae45669312bd4284459842",
            "97a77466948d49b69c6377c1b171b218",
            "7e7e4312298a4e75ba2ef765954c4316",
            "cd4113732f1b49bbbaeceb2e0d0ca15b",
            "32cb15e465974d3195fe3b07622baf48",
            "b8caddd6aaea4212b6b679bf1ba4bdf5",
            "c0858ef0358e4cf191a6f0c09bd76eb0",
            "b1098a55c5a442d19ebb1ad15b5eea5b",
            "201e21c51d4a461cb1362b2bbecfff3c",
            "4f8d93b80288453ca24594a0361ca6c4",
            "23376429e618492eb7a45344bcae527b",
            "1bd2d447d9e141d58610a2b952de75ea",
            "92d51f057b6b413988b3d64584569865",
            "bc4476efaeb34c5b9291cc05f606988a",
            "5c58c8a51ada4e70b8190e1ada77a303",
            "81072d2c955c4db3852c3dc6917441e8",
            "3925e587970e4da5ac5c07b0e7684d45",
            "1039d118d67e4411bd050c6b99ad73f9",
            "d50f7d5c8f6b41f3aae1184eb2583cbb",
            "ad8400cd53c847c29f766dc06cba4b57",
            "8264063121b94b309106191eab98f486",
            "e5d8620930bf421eb48884aec6780785",
            "356d0d1ac38044a090f80e0dea58d46e"
          ]
        },
        "outputId": "5898b9ca-f1e0-4bcc-de50-45b3e442484d"
      },
      "outputs": [
        {
          "output_type": "display_data",
          "data": {
            "text/plain": [
              "Downloading (…)solve/main/vocab.txt:   0%|          | 0.00/232k [00:00<?, ?B/s]"
            ],
            "application/vnd.jupyter.widget-view+json": {
              "version_major": 2,
              "version_minor": 0,
              "model_id": "65b6523186444222876bc677e6fc3a34"
            }
          },
          "metadata": {}
        },
        {
          "output_type": "display_data",
          "data": {
            "text/plain": [
              "Downloading (…)okenizer_config.json:   0%|          | 0.00/28.0 [00:00<?, ?B/s]"
            ],
            "application/vnd.jupyter.widget-view+json": {
              "version_major": 2,
              "version_minor": 0,
              "model_id": "97a77466948d49b69c6377c1b171b218"
            }
          },
          "metadata": {}
        },
        {
          "output_type": "display_data",
          "data": {
            "text/plain": [
              "Downloading (…)lve/main/config.json:   0%|          | 0.00/570 [00:00<?, ?B/s]"
            ],
            "application/vnd.jupyter.widget-view+json": {
              "version_major": 2,
              "version_minor": 0,
              "model_id": "92d51f057b6b413988b3d64584569865"
            }
          },
          "metadata": {}
        }
      ],
      "source": [
        "tokenizer = BertTokenizer.from_pretrained(config['model_name'])"
      ]
    },
    {
      "cell_type": "code",
      "execution_count": null,
      "metadata": {
        "id": "zf-WpvzHJfPn"
      },
      "outputs": [],
      "source": [
        "topic = {\n",
        "    \"quarantine\": \"The introduction and enforcement of quarantine is good for society\",\n",
        "    \"vaccines\": \"Vaccination is good for society\",\n",
        "    \"masks\": \"Wearing masks is good for society\"\n",
        "}\n",
        "PROMPT = f\"What does the author think about the topic «{topic[CLASS_NAME]}»? [SEP] \""
      ]
    },
    {
      "cell_type": "code",
      "execution_count": null,
      "metadata": {
        "id": "PM3fB_faJfPo",
        "outputId": "53e2f1c7-c162-448d-e317-f35f2b828550",
        "colab": {
          "base_uri": "https://localhost:8080/"
        }
      },
      "outputs": [
        {
          "output_type": "stream",
          "name": "stdout",
          "text": [
            "Well, like the story of those who didn't want to wear a mask, and they're gonna force everyone to wear it.\n",
            "tensor([ 101, 2092, 1010, 2066, 1996, 2466, 1997, 2216, 2040, 2134, 1005, 1056,\n",
            "        2215, 2000, 4929, 1037, 7308, 1010, 1998, 2027, 1005, 2128, 6069, 2486,\n",
            "        3071, 2000, 4929, 2009, 1012,  102,    0,    0,    0,    0,    0,    0,\n",
            "           0,    0,    0,    0])\n",
            "['[CLS]', 'well', ',', 'like', 'the', 'story', 'of', 'those', 'who', 'didn', \"'\", 't', 'want', 'to', 'wear', 'a', 'mask', ',', 'and', 'they', \"'\", 're', 'gonna', 'force', 'everyone', 'to', 'wear', 'it', '.', '[SEP]', '[PAD]', '[PAD]', '[PAD]', '[PAD]', '[PAD]', '[PAD]', '[PAD]', '[PAD]', '[PAD]', '[PAD]']\n"
          ]
        }
      ],
      "source": [
        "example = train_df[\"text\"][19]\n",
        "\n",
        "tokenized_text = tokenizer(\n",
        "    example,\n",
        "    padding='max_length',\n",
        "    max_length = 40,\n",
        "    truncation=True,\n",
        "    return_tensors=\"pt\",\n",
        "    is_split_into_words=True\n",
        ")\n",
        "\n",
        "print(example)\n",
        "print(tokenized_text['input_ids'][0])\n",
        "print(tokenizer.convert_ids_to_tokens(tokenized_text['input_ids'][0]))"
      ]
    },
    {
      "cell_type": "code",
      "execution_count": null,
      "metadata": {
        "id": "KIpHf-YKJfPp",
        "outputId": "10905c55-386f-4c02-da42-c06ece89dedb",
        "colab": {
          "base_uri": "https://localhost:8080/"
        }
      },
      "outputs": [
        {
          "output_type": "stream",
          "name": "stdout",
          "text": [
            "What does the author think about the topic «Vaccination is good for society»? [SEP] Well, like the story of those who didn't want to wear a mask, and they're gonna force everyone to wear it.\n",
            "tensor([  101,  2054,  2515,  1996,  3166,  2228,  2055,  1996,  8476,  1077,\n",
            "        12436, 14693,  9323,  2003,  2204,  2005,  2554,  1090,  1029,   102,\n",
            "         2092,  1010,  2066,  1996,  2466,  1997,  2216,  2040,  2134,  1005,\n",
            "         1056,  2215,  2000,  4929,  1037,  7308,  1010,  1998,  2027,   102])\n",
            "['[CLS]', 'what', 'does', 'the', 'author', 'think', 'about', 'the', 'topic', '«', 'va', '##cci', '##nation', 'is', 'good', 'for', 'society', '»', '?', '[SEP]', 'well', ',', 'like', 'the', 'story', 'of', 'those', 'who', 'didn', \"'\", 't', 'want', 'to', 'wear', 'a', 'mask', ',', 'and', 'they', '[SEP]']\n"
          ]
        }
      ],
      "source": [
        "example = PROMPT + train_df[\"text\"][19]\n",
        "\n",
        "tokenized_text = tokenizer(\n",
        "    example,\n",
        "    padding='max_length',\n",
        "    max_length = 40,\n",
        "    truncation=True,\n",
        "    return_tensors=\"pt\",\n",
        "    is_split_into_words=True\n",
        ")\n",
        "\n",
        "print(example)\n",
        "print(tokenized_text['input_ids'][0])\n",
        "print(tokenizer.convert_ids_to_tokens(tokenized_text['input_ids'][0]))"
      ]
    },
    {
      "cell_type": "code",
      "execution_count": null,
      "metadata": {
        "id": "L8lnPBqNJfPp"
      },
      "outputs": [],
      "source": [
        "class MyDataset(Dataset):\n",
        "    def __init__(self, df: pd.DataFrame, tokenizer: BertTokenizer, max_length: int):\n",
        "\n",
        "        texts = df['text'].values.tolist()\n",
        "        texts = [PROMPT + text for text in texts]\n",
        "\n",
        "        self.tokenized_texts = [\n",
        "            tokenizer(\n",
        "                text,\n",
        "                add_special_tokens=True,\n",
        "                max_length=max_length,\n",
        "                truncation=True,\n",
        "                padding='max_length',\n",
        "                return_tensors='pt',\n",
        "                return_token_type_ids = False,\n",
        "                return_attention_mask = True,\n",
        "                verbose = True\n",
        "            )\n",
        "            for text in texts\n",
        "        ]\n",
        "\n",
        "        self.arguments = df[f'{CLASS_NAME}_argument']\n",
        "        self.stances = df[f'{CLASS_NAME}_stance']\n",
        "\n",
        "    def __len__(self):\n",
        "        return len(self.arguments)\n",
        "\n",
        "    def __getitem__(self, idx):\n",
        "        input_ids = self.tokenized_texts[idx]['input_ids'].squeeze()\n",
        "        attention_mask = self.tokenized_texts[idx]['attention_mask'].squeeze()\n",
        "        label_stance = self.stances.iloc[idx]\n",
        "        label_argument = self.arguments.iloc[idx]\n",
        "        return input_ids, attention_mask, label_stance, label_argument"
      ]
    },
    {
      "cell_type": "code",
      "execution_count": null,
      "metadata": {
        "id": "VaNYBbwHJfPq"
      },
      "outputs": [],
      "source": [
        "train_dataset = MyDataset(train_df, tokenizer, config['max_length'])\n",
        "valid_dataset = MyDataset(valid_df, tokenizer, config['max_length'])\n",
        "\n",
        "train_loader = DataLoader(train_dataset, batch_size=config['train_batch_size'], shuffle=True)\n",
        "valid_loader = DataLoader(valid_dataset, batch_size=config['eval_batch_size'], shuffle=True)"
      ]
    },
    {
      "cell_type": "markdown",
      "metadata": {
        "id": "jj6HmAzSJfPq"
      },
      "source": [
        "### Create model"
      ]
    },
    {
      "cell_type": "code",
      "execution_count": null,
      "metadata": {
        "id": "gfLgrG8NJfPq"
      },
      "outputs": [],
      "source": [
        "class MyModel(nn.Module):\n",
        "    def __init__(self, bert_name):\n",
        "        super(MyModel, self).__init__()\n",
        "        self.num_labels = 3\n",
        "\n",
        "        self.bert = BertModel.from_pretrained(bert_name)\n",
        "        self.dropout = nn.Dropout(self.bert.config.hidden_dropout_prob)\n",
        "        self.linear1 = nn.Linear(\n",
        "            self.bert.config.hidden_size,\n",
        "            self.num_labels\n",
        "        )\n",
        "        self.linear2 = nn.Linear(\n",
        "            self.bert.config.hidden_size,\n",
        "            self.num_labels\n",
        "        )\n",
        "\n",
        "\n",
        "    def forward(self, input_ids, attention_mask):\n",
        "        bert_output = self.bert(\n",
        "            input_ids=input_ids,\n",
        "            attention_mask=attention_mask\n",
        "        )\n",
        "        pooled_output = bert_output[1]\n",
        "        pooled_output = self.dropout(pooled_output)\n",
        "        logits_stance = self.linear1(pooled_output)\n",
        "        logits_argument = self.linear2(pooled_output)\n",
        "\n",
        "        return logits_stance, logits_argument"
      ]
    },
    {
      "cell_type": "code",
      "execution_count": null,
      "metadata": {
        "id": "RBKxiuXpJfPq",
        "outputId": "d611b135-357d-44ce-b3b2-15b9d3c49c1f",
        "colab": {
          "base_uri": "https://localhost:8080/"
        }
      },
      "outputs": [
        {
          "output_type": "execute_result",
          "data": {
            "text/plain": [
              "device(type='cuda')"
            ]
          },
          "metadata": {},
          "execution_count": 23
        }
      ],
      "source": [
        "use_cuda = torch.cuda.is_available()\n",
        "device = torch.device(\"cuda\" if use_cuda else \"cpu\")\n",
        "device"
      ]
    },
    {
      "cell_type": "code",
      "execution_count": null,
      "metadata": {
        "id": "-Ob9fSSkJfPq",
        "outputId": "a8bfee2c-12ec-4ad5-9621-0348731410a3",
        "colab": {
          "base_uri": "https://localhost:8080/",
          "height": 121,
          "referenced_widgets": [
            "d21cc1813a5943f7b32cc3dadb4fa425",
            "7b7f254c5bff43acb07d64e345863b82",
            "35c4040a553a4f11a86aaed57537bd01",
            "f1c0eee75f7a48d9ae4d9e7028589522",
            "e8e95e6bedf64031ab8ba2c92105dddd",
            "3880b97831ba4c6b9afc43dc8427611c",
            "0fade6a920b642ccabdab18a70506049",
            "56079e2cea4b437691afca438ec8f5ea",
            "4ef35508088841ee9d07a9ede21ce2c7",
            "b7cfb2d975dc4e95b2823de8204ac646",
            "1a9ccd9e85e047d780532b076cc08844"
          ]
        }
      },
      "outputs": [
        {
          "output_type": "display_data",
          "data": {
            "text/plain": [
              "Downloading pytorch_model.bin:   0%|          | 0.00/440M [00:00<?, ?B/s]"
            ],
            "application/vnd.jupyter.widget-view+json": {
              "version_major": 2,
              "version_minor": 0,
              "model_id": "d21cc1813a5943f7b32cc3dadb4fa425"
            }
          },
          "metadata": {}
        },
        {
          "output_type": "stream",
          "name": "stderr",
          "text": [
            "Some weights of the model checkpoint at bert-base-uncased were not used when initializing BertModel: ['cls.seq_relationship.bias', 'cls.predictions.decoder.weight', 'cls.predictions.transform.dense.bias', 'cls.predictions.bias', 'cls.predictions.transform.LayerNorm.weight', 'cls.seq_relationship.weight', 'cls.predictions.transform.LayerNorm.bias', 'cls.predictions.transform.dense.weight']\n",
            "- This IS expected if you are initializing BertModel from the checkpoint of a model trained on another task or with another architecture (e.g. initializing a BertForSequenceClassification model from a BertForPreTraining model).\n",
            "- This IS NOT expected if you are initializing BertModel from the checkpoint of a model that you expect to be exactly identical (initializing a BertForSequenceClassification model from a BertForSequenceClassification model).\n"
          ]
        }
      ],
      "source": [
        "model = MyModel(config['model_name'])\n",
        "model = model.to(device)"
      ]
    },
    {
      "cell_type": "code",
      "execution_count": null,
      "metadata": {
        "id": "cHOqsi7bJfPr",
        "outputId": "0d372308-6815-4664-ff44-534b00f7176a",
        "colab": {
          "base_uri": "https://localhost:8080/"
        }
      },
      "outputs": [
        {
          "output_type": "execute_result",
          "data": {
            "text/plain": [
              "MyModel(\n",
              "  (bert): BertModel(\n",
              "    (embeddings): BertEmbeddings(\n",
              "      (word_embeddings): Embedding(30522, 768, padding_idx=0)\n",
              "      (position_embeddings): Embedding(512, 768)\n",
              "      (token_type_embeddings): Embedding(2, 768)\n",
              "      (LayerNorm): LayerNorm((768,), eps=1e-12, elementwise_affine=True)\n",
              "      (dropout): Dropout(p=0.1, inplace=False)\n",
              "    )\n",
              "    (encoder): BertEncoder(\n",
              "      (layer): ModuleList(\n",
              "        (0-11): 12 x BertLayer(\n",
              "          (attention): BertAttention(\n",
              "            (self): BertSelfAttention(\n",
              "              (query): Linear(in_features=768, out_features=768, bias=True)\n",
              "              (key): Linear(in_features=768, out_features=768, bias=True)\n",
              "              (value): Linear(in_features=768, out_features=768, bias=True)\n",
              "              (dropout): Dropout(p=0.1, inplace=False)\n",
              "            )\n",
              "            (output): BertSelfOutput(\n",
              "              (dense): Linear(in_features=768, out_features=768, bias=True)\n",
              "              (LayerNorm): LayerNorm((768,), eps=1e-12, elementwise_affine=True)\n",
              "              (dropout): Dropout(p=0.1, inplace=False)\n",
              "            )\n",
              "          )\n",
              "          (intermediate): BertIntermediate(\n",
              "            (dense): Linear(in_features=768, out_features=3072, bias=True)\n",
              "            (intermediate_act_fn): GELUActivation()\n",
              "          )\n",
              "          (output): BertOutput(\n",
              "            (dense): Linear(in_features=3072, out_features=768, bias=True)\n",
              "            (LayerNorm): LayerNorm((768,), eps=1e-12, elementwise_affine=True)\n",
              "            (dropout): Dropout(p=0.1, inplace=False)\n",
              "          )\n",
              "        )\n",
              "      )\n",
              "    )\n",
              "    (pooler): BertPooler(\n",
              "      (dense): Linear(in_features=768, out_features=768, bias=True)\n",
              "      (activation): Tanh()\n",
              "    )\n",
              "  )\n",
              "  (dropout): Dropout(p=0.1, inplace=False)\n",
              "  (linear1): Linear(in_features=768, out_features=3, bias=True)\n",
              "  (linear2): Linear(in_features=768, out_features=3, bias=True)\n",
              ")"
            ]
          },
          "metadata": {},
          "execution_count": 25
        }
      ],
      "source": [
        "model"
      ]
    },
    {
      "cell_type": "markdown",
      "metadata": {
        "id": "tOPuKdtrJfPr"
      },
      "source": [
        "### Train and test model"
      ]
    },
    {
      "cell_type": "code",
      "execution_count": null,
      "metadata": {
        "id": "5g0mqHm5JfPs"
      },
      "outputs": [],
      "source": [
        "stance_loss_func = nn.CrossEntropyLoss(weight=stance_class_weights.to(device), reduction='mean')\n",
        "argument_loss_func = nn.CrossEntropyLoss(weight=argument_class_weights.to(device), reduction='mean')"
      ]
    },
    {
      "cell_type": "code",
      "execution_count": null,
      "metadata": {
        "id": "x9mFBlu3JfPs"
      },
      "outputs": [],
      "source": [
        "optimizer = torch.optim.AdamW(\n",
        "    model.parameters(),\n",
        "    lr=config['learning_rate'],\n",
        "    eps=config['epsilon'],\n",
        "    weight_decay=config['weight_decay']\n",
        ")"
      ]
    },
    {
      "cell_type": "code",
      "execution_count": null,
      "metadata": {
        "id": "17eQ11_yJfPs"
      },
      "outputs": [],
      "source": [
        "total_steps = len(train_loader) * config['num_epoch']\n",
        "\n",
        "scheduler = get_linear_schedule_with_warmup(\n",
        "    optimizer,\n",
        "    num_warmup_steps=config['warmup_steps'],\n",
        "    num_training_steps=total_steps,\n",
        ")"
      ]
    },
    {
      "cell_type": "code",
      "execution_count": null,
      "metadata": {
        "id": "RWu30rCVJfPs"
      },
      "outputs": [],
      "source": [
        "wandb.init(\n",
        "    project='Argument Mining',\n",
        "    entity=\"nickcalmykow281\",\n",
        "    name=f'fine-tune_{config[\"model_name\"]}{config[\"num_expiriment\"]}',\n",
        "    config={\n",
        "        'learning_rate': config['learning_rate'],\n",
        "        'epochs': config['num_epoch'],\n",
        "        'batch_size': config['train_batch_size'],\n",
        "        'max_seq_length': config['max_length'],\n",
        "    }\n",
        ")"
      ]
    },
    {
      "cell_type": "code",
      "execution_count": null,
      "metadata": {
        "id": "tUnWroMCJfPs"
      },
      "outputs": [],
      "source": [
        "def format_time(seconds: float) -> str:\n",
        "    # Format time from seconds to hh:mm:ss format\n",
        "    return str(datetime.timedelta(seconds=seconds))"
      ]
    },
    {
      "cell_type": "code",
      "execution_count": null,
      "metadata": {
        "id": "7sGqq2dAJfPs"
      },
      "outputs": [],
      "source": [
        "def f1_macro(logits_stance, logits_argument, labels_stance, labels_argument):\n",
        "    # Compute the predictions for stance and argument\n",
        "    probabilities_stance = torch.nn.functional.softmax(logits_stance, dim=1)\n",
        "    pred_stance = torch.argmax(probabilities_stance, dim=1)\n",
        "    probabilities_argument = torch.nn.functional.softmax(logits_argument, dim=1)\n",
        "    pred_argument = torch.argmax(probabilities_argument, dim=1)\n",
        "\n",
        "    # Compute the F1 macro score for stance and argument\n",
        "    stance_f1 = f1_score(labels_stance.cpu(), pred_stance.cpu(), average='macro')\n",
        "    argument_f1 = f1_score(labels_argument.cpu(), pred_argument.cpu(), average='macro')\n",
        "\n",
        "    return {'stance_f1_macro': stance_f1, 'argument_f1_macro': argument_f1}"
      ]
    },
    {
      "cell_type": "code",
      "execution_count": null,
      "metadata": {
        "id": "_2QE4-FfJfPs",
        "outputId": "cdbc4deb-db65-4c2a-aec3-b08d8496dc4b"
      },
      "outputs": [
        {
          "name": "stdout",
          "output_type": "stream",
          "text": [
            "======== Epoch 1 / 10 ========\n",
            "Training...\n",
            "Batch 20 of 166. Elapsed: 0:00:02.678177.\n",
            "Batch 40 of 166. Elapsed: 0:00:05.349959.\n",
            "Batch 60 of 166. Elapsed: 0:00:08.036030.\n",
            "Batch 80 of 166. Elapsed: 0:00:10.725464.\n",
            "Batch 100 of 166. Elapsed: 0:00:13.401145.\n",
            "Batch 120 of 166. Elapsed: 0:00:16.079082.\n",
            "Batch 140 of 166. Elapsed: 0:00:18.748613.\n",
            "Batch 160 of 166. Elapsed: 0:00:21.421162.\n",
            "Average training loss: 2.202\n",
            "Training epcoh took: 0:00:22.193787\n",
            "Running Validation...\n",
            "VALID METRICS:\n",
            "Stance F1: 0.3870542596733075\n",
            "Argument F1: 0.44654657511800366\n",
            " Validation Loss: 2.141\n",
            " Validation took: 0:00:01.731111\n",
            "======== Epoch 2 / 10 ========\n",
            "Training...\n",
            "Batch 20 of 166. Elapsed: 0:00:02.672426.\n",
            "Batch 40 of 166. Elapsed: 0:00:05.340259.\n",
            "Batch 60 of 166. Elapsed: 0:00:08.014829.\n",
            "Batch 80 of 166. Elapsed: 0:00:10.686510.\n",
            "Batch 100 of 166. Elapsed: 0:00:13.363068.\n",
            "Batch 120 of 166. Elapsed: 0:00:16.033110.\n",
            "Batch 140 of 166. Elapsed: 0:00:18.708052.\n",
            "Batch 160 of 166. Elapsed: 0:00:21.391622.\n",
            "Average training loss: 2.097\n",
            "Training epcoh took: 0:00:22.171441\n",
            "Running Validation...\n",
            "VALID METRICS:\n",
            "Stance F1: 0.4833161547447263\n",
            "Argument F1: 0.36955183264707064\n",
            " Validation Loss: 1.898\n",
            " Validation took: 0:00:01.734344\n",
            "======== Epoch 3 / 10 ========\n",
            "Training...\n",
            "Batch 20 of 166. Elapsed: 0:00:02.685797.\n",
            "Batch 40 of 166. Elapsed: 0:00:05.368443.\n",
            "Batch 60 of 166. Elapsed: 0:00:08.052436.\n",
            "Batch 80 of 166. Elapsed: 0:00:10.750426.\n",
            "Batch 100 of 166. Elapsed: 0:00:13.438082.\n",
            "Batch 120 of 166. Elapsed: 0:00:16.125280.\n",
            "Batch 140 of 166. Elapsed: 0:00:18.805741.\n",
            "Batch 160 of 166. Elapsed: 0:00:21.491974.\n",
            "Average training loss: 1.716\n",
            "Training epcoh took: 0:00:22.268897\n",
            "Running Validation...\n",
            "VALID METRICS:\n",
            "Stance F1: 0.4488914084152179\n",
            "Argument F1: 0.36023606023606025\n",
            " Validation Loss: 1.984\n",
            " Validation took: 0:00:01.751900\n",
            "======== Epoch 4 / 10 ========\n",
            "Training...\n",
            "Batch 20 of 166. Elapsed: 0:00:02.688559.\n",
            "Batch 40 of 166. Elapsed: 0:00:05.381775.\n",
            "Batch 60 of 166. Elapsed: 0:00:08.065500.\n",
            "Batch 80 of 166. Elapsed: 0:00:10.751227.\n",
            "Batch 100 of 166. Elapsed: 0:00:13.446525.\n",
            "Batch 120 of 166. Elapsed: 0:00:16.131281.\n",
            "Batch 140 of 166. Elapsed: 0:00:18.828092.\n",
            "Batch 160 of 166. Elapsed: 0:00:21.526006.\n",
            "Average training loss: 1.223\n",
            "Training epcoh took: 0:00:22.305617\n",
            "Running Validation...\n",
            "VALID METRICS:\n",
            "Stance F1: 0.46553746077555613\n",
            "Argument F1: 0.4668876537924157\n",
            " Validation Loss: 1.742\n",
            " Validation took: 0:00:01.756661\n",
            "======== Epoch 5 / 10 ========\n",
            "Training...\n",
            "Batch 20 of 166. Elapsed: 0:00:02.694427.\n",
            "Batch 40 of 166. Elapsed: 0:00:05.379092.\n",
            "Batch 60 of 166. Elapsed: 0:00:08.068060.\n",
            "Batch 80 of 166. Elapsed: 0:00:10.751393.\n",
            "Batch 100 of 166. Elapsed: 0:00:13.441764.\n",
            "Batch 120 of 166. Elapsed: 0:00:16.131412.\n",
            "Batch 140 of 166. Elapsed: 0:00:18.821909.\n",
            "Batch 160 of 166. Elapsed: 0:00:21.523852.\n",
            "Average training loss: 0.845\n",
            "Training epcoh took: 0:00:22.304879\n",
            "Running Validation...\n",
            "VALID METRICS:\n",
            "Stance F1: 0.5411609554466696\n",
            "Argument F1: 0.4293412055316817\n",
            " Validation Loss: 2.413\n",
            " Validation took: 0:00:01.752958\n",
            "======== Epoch 6 / 10 ========\n",
            "Training...\n",
            "Batch 20 of 166. Elapsed: 0:00:02.689399.\n",
            "Batch 40 of 166. Elapsed: 0:00:05.382955.\n",
            "Batch 60 of 166. Elapsed: 0:00:08.072346.\n",
            "Batch 80 of 166. Elapsed: 0:00:10.762081.\n",
            "Batch 100 of 166. Elapsed: 0:00:13.447722.\n",
            "Batch 120 of 166. Elapsed: 0:00:16.137630.\n",
            "Batch 140 of 166. Elapsed: 0:00:18.829232.\n",
            "Batch 160 of 166. Elapsed: 0:00:21.527983.\n",
            "Average training loss: 0.528\n",
            "Training epcoh took: 0:00:22.305087\n",
            "Running Validation...\n",
            "VALID METRICS:\n",
            "Stance F1: 0.5416344678249442\n",
            "Argument F1: 0.5276010145057762\n",
            " Validation Loss: 2.415\n",
            " Validation took: 0:00:01.760139\n",
            "======== Epoch 7 / 10 ========\n",
            "Training...\n",
            "Batch 20 of 166. Elapsed: 0:00:02.690259.\n",
            "Batch 40 of 166. Elapsed: 0:00:05.380890.\n",
            "Batch 60 of 166. Elapsed: 0:00:08.081869.\n",
            "Batch 80 of 166. Elapsed: 0:00:10.777074.\n",
            "Batch 100 of 166. Elapsed: 0:00:13.471938.\n",
            "Batch 120 of 166. Elapsed: 0:00:16.167133.\n",
            "Batch 140 of 166. Elapsed: 0:00:18.864375.\n",
            "Batch 160 of 166. Elapsed: 0:00:21.562634.\n",
            "Average training loss: 0.312\n",
            "Training epcoh took: 0:00:22.343598\n",
            "Running Validation...\n",
            "VALID METRICS:\n",
            "Stance F1: 0.5638986234224329\n",
            "Argument F1: 0.5267644172406075\n",
            " Validation Loss: 2.834\n",
            " Validation took: 0:00:01.743275\n",
            "======== Epoch 8 / 10 ========\n",
            "Training...\n",
            "Batch 20 of 166. Elapsed: 0:00:02.699321.\n",
            "Batch 40 of 166. Elapsed: 0:00:05.394453.\n",
            "Batch 60 of 166. Elapsed: 0:00:08.099098.\n",
            "Batch 80 of 166. Elapsed: 0:00:10.789667.\n",
            "Batch 100 of 166. Elapsed: 0:00:13.482422.\n",
            "Batch 120 of 166. Elapsed: 0:00:16.178727.\n",
            "Batch 140 of 166. Elapsed: 0:00:18.868987.\n",
            "Batch 160 of 166. Elapsed: 0:00:21.564089.\n",
            "Average training loss: 0.151\n",
            "Training epcoh took: 0:00:22.342504\n",
            "Running Validation...\n",
            "VALID METRICS:\n",
            "Stance F1: 0.5534354974831166\n",
            "Argument F1: 0.4936929913120387\n",
            " Validation Loss: 3.197\n",
            " Validation took: 0:00:01.747985\n",
            "======== Epoch 9 / 10 ========\n",
            "Training...\n",
            "Batch 20 of 166. Elapsed: 0:00:02.697802.\n",
            "Batch 40 of 166. Elapsed: 0:00:05.392331.\n",
            "Batch 60 of 166. Elapsed: 0:00:08.090572.\n",
            "Batch 80 of 166. Elapsed: 0:00:10.788757.\n",
            "Batch 100 of 166. Elapsed: 0:00:13.486812.\n",
            "Batch 120 of 166. Elapsed: 0:00:16.177890.\n",
            "Batch 140 of 166. Elapsed: 0:00:18.872278.\n",
            "Batch 160 of 166. Elapsed: 0:00:21.563233.\n",
            "Average training loss: 0.068\n",
            "Training epcoh took: 0:00:22.341121\n",
            "Running Validation...\n",
            "VALID METRICS:\n",
            "Stance F1: 0.5543630972202401\n",
            "Argument F1: 0.5296190581904866\n",
            " Validation Loss: 3.293\n",
            " Validation took: 0:00:01.750324\n",
            "======== Epoch 10 / 10 ========\n",
            "Training...\n",
            "Batch 20 of 166. Elapsed: 0:00:02.700607.\n",
            "Batch 40 of 166. Elapsed: 0:00:05.391592.\n",
            "Batch 60 of 166. Elapsed: 0:00:08.082903.\n",
            "Batch 80 of 166. Elapsed: 0:00:10.783949.\n",
            "Batch 100 of 166. Elapsed: 0:00:13.494044.\n",
            "Batch 120 of 166. Elapsed: 0:00:16.194769.\n",
            "Batch 140 of 166. Elapsed: 0:00:18.895274.\n",
            "Batch 160 of 166. Elapsed: 0:00:21.601687.\n",
            "Average training loss: 0.038\n",
            "Training epcoh took: 0:00:22.385147\n",
            "Running Validation...\n",
            "VALID METRICS:\n",
            "Stance F1: 0.5700242878814306\n",
            "Argument F1: 0.5260451189022618\n",
            " Validation Loss: 3.446\n",
            " Validation took: 0:00:01.769644\n"
          ]
        }
      ],
      "source": [
        "best_metrics = 0\n",
        "total_t0 = time.perf_counter()\n",
        "\n",
        "for epoch in range(1, config['num_epoch'] + 1):\n",
        "\n",
        "    print(f'======== Epoch {epoch} / {config[\"num_epoch\"]} ========')\n",
        "    print('Training...')\n",
        "\n",
        "    t0 = time.perf_counter()\n",
        "    total_train_loss = 0\n",
        "    model.train()\n",
        "\n",
        "    for step, train_batch in enumerate(train_loader):\n",
        "\n",
        "        if step % 20 == 0 and not step == 0:\n",
        "            elapsed = format_time(time.perf_counter() - t0)\n",
        "            print(f'Batch {step} of {len(train_loader)}. Elapsed: {elapsed}.')\n",
        "            wandb.log({'learning_rate': scheduler.get_last_lr()[0]})\n",
        "\n",
        "        input_ids = train_batch[0].to(device)\n",
        "        attention_mask = train_batch[1].to(device)\n",
        "        stance_label = train_batch[2].to(device).long()\n",
        "        argument_label = train_batch[3].to(device).long()\n",
        "\n",
        "        optimizer.zero_grad()\n",
        "\n",
        "        logits_stance, logits_argument = model(input_ids, attention_mask)\n",
        "\n",
        "        loss_stance = stance_loss_func(logits_stance.view(-1, 3), stance_label)\n",
        "        loss_argument = argument_loss_func(logits_argument.view(-1, 3), argument_label)\n",
        "        loss = loss_stance + loss_argument\n",
        "\n",
        "        loss.backward()\n",
        "        optimizer.step()\n",
        "        scheduler.step()\n",
        "\n",
        "        total_train_loss += loss.item()\n",
        "\n",
        "        wandb.log({'train_loss': loss})\n",
        "\n",
        "    avg_train_loss = total_train_loss/ len(train_loader)\n",
        "\n",
        "    training_time = format_time(time.perf_counter() - t0)\n",
        "\n",
        "    print(f'Average training loss: {avg_train_loss:.3f}')\n",
        "    print(f'Training epcoh took: {training_time}')\n",
        "\n",
        "    # Validation\n",
        "\n",
        "    print('Running Validation...')\n",
        "\n",
        "    t0 = time.perf_counter()\n",
        "    total_eval_loss = 0\n",
        "    model.eval()\n",
        "\n",
        "    stance_f1, argument_f1 = 0, 0\n",
        "\n",
        "    for valid_batch in valid_loader:\n",
        "\n",
        "        input_ids = valid_batch[0].to(device)\n",
        "        attention_mask = valid_batch[1].to(device)\n",
        "        stance_label = valid_batch[2].to(device).long()\n",
        "        argument_label = valid_batch[3].to(device).long()\n",
        "\n",
        "        with torch.no_grad():\n",
        "            logits_stance, logits_argument = model(input_ids, attention_mask)\n",
        "\n",
        "        loss_stance = stance_loss_func(logits_stance.view(-1, 3), stance_label)\n",
        "        loss_argument = argument_loss_func(logits_argument.view(-1, 3), argument_label)\n",
        "        loss = loss_stance + loss_argument\n",
        "\n",
        "        total_eval_loss += loss.item()\n",
        "\n",
        "        # Compute the F1 macro score\n",
        "        f1 = f1_macro(logits_stance, logits_argument, stance_label, argument_label)\n",
        "        stance_f1 += f1['stance_f1_macro']\n",
        "        argument_f1 += f1['argument_f1_macro']\n",
        "\n",
        "\n",
        "    avg_val_loss = total_eval_loss / len(valid_loader)\n",
        "    validation_time = format_time(time.perf_counter() - t0)\n",
        "\n",
        "    stance_f1 /= len(valid_loader)\n",
        "    argument_f1 /= len(valid_loader)\n",
        "\n",
        "    if best_metrics < stance_f1 + argument_f1:\n",
        "        best_metrics = stance_f1 + argument_f1\n",
        "        torch.save(model.state_dict(), f\"best_model_{CLASS_NAME}.pth\")\n",
        "\n",
        "    print(\"VALID METRICS:\")\n",
        "    print(f\"Stance F1: {stance_f1}\")\n",
        "    print(f\"Argument F1: {argument_f1}\")\n",
        "    print(f' Validation Loss: {avg_val_loss:.3f}')\n",
        "    print(f' Validation took: {validation_time}')\n",
        "\n",
        "    wandb.log({\n",
        "        'epoch': epoch,\n",
        "        'time': training_time + validation_time,\n",
        "        'avg_train_loss': avg_train_loss,\n",
        "        'avg_valid_loss': avg_val_loss,\n",
        "        'valid_stance_f1': stance_f1,\n",
        "        'valid_argument_f1': argument_f1,\n",
        "    })"
      ]
    },
    {
      "cell_type": "code",
      "execution_count": null,
      "metadata": {
        "id": "Ks7Z-q4-JfPt"
      },
      "outputs": [],
      "source": []
    },
    {
      "cell_type": "code",
      "execution_count": null,
      "metadata": {
        "id": "yAFlt8wNJfPt",
        "outputId": "bc2ce4d3-dd7b-44cc-91f1-a3ff18354c13"
      },
      "outputs": [
        {
          "name": "stderr",
          "output_type": "stream",
          "text": [
            "Some weights of the model checkpoint at DeepPavlov/rubert-base-cased were not used when initializing BertModel: ['cls.seq_relationship.weight', 'cls.predictions.transform.dense.weight', 'cls.predictions.bias', 'cls.predictions.decoder.weight', 'cls.seq_relationship.bias', 'cls.predictions.transform.LayerNorm.bias', 'cls.predictions.decoder.bias', 'cls.predictions.transform.dense.bias', 'cls.predictions.transform.LayerNorm.weight']\n",
            "- This IS expected if you are initializing BertModel from the checkpoint of a model trained on another task or with another architecture (e.g. initializing a BertForSequenceClassification model from a BertForPreTraining model).\n",
            "- This IS NOT expected if you are initializing BertModel from the checkpoint of a model that you expect to be exactly identical (initializing a BertForSequenceClassification model from a BertForSequenceClassification model).\n"
          ]
        },
        {
          "data": {
            "text/plain": [
              "MyModel(\n",
              "  (bert): BertModel(\n",
              "    (embeddings): BertEmbeddings(\n",
              "      (word_embeddings): Embedding(119547, 768, padding_idx=0)\n",
              "      (position_embeddings): Embedding(512, 768)\n",
              "      (token_type_embeddings): Embedding(2, 768)\n",
              "      (LayerNorm): LayerNorm((768,), eps=1e-12, elementwise_affine=True)\n",
              "      (dropout): Dropout(p=0.1, inplace=False)\n",
              "    )\n",
              "    (encoder): BertEncoder(\n",
              "      (layer): ModuleList(\n",
              "        (0-11): 12 x BertLayer(\n",
              "          (attention): BertAttention(\n",
              "            (self): BertSelfAttention(\n",
              "              (query): Linear(in_features=768, out_features=768, bias=True)\n",
              "              (key): Linear(in_features=768, out_features=768, bias=True)\n",
              "              (value): Linear(in_features=768, out_features=768, bias=True)\n",
              "              (dropout): Dropout(p=0.1, inplace=False)\n",
              "            )\n",
              "            (output): BertSelfOutput(\n",
              "              (dense): Linear(in_features=768, out_features=768, bias=True)\n",
              "              (LayerNorm): LayerNorm((768,), eps=1e-12, elementwise_affine=True)\n",
              "              (dropout): Dropout(p=0.1, inplace=False)\n",
              "            )\n",
              "          )\n",
              "          (intermediate): BertIntermediate(\n",
              "            (dense): Linear(in_features=768, out_features=3072, bias=True)\n",
              "            (intermediate_act_fn): GELUActivation()\n",
              "          )\n",
              "          (output): BertOutput(\n",
              "            (dense): Linear(in_features=3072, out_features=768, bias=True)\n",
              "            (LayerNorm): LayerNorm((768,), eps=1e-12, elementwise_affine=True)\n",
              "            (dropout): Dropout(p=0.1, inplace=False)\n",
              "          )\n",
              "        )\n",
              "      )\n",
              "    )\n",
              "    (pooler): BertPooler(\n",
              "      (dense): Linear(in_features=768, out_features=768, bias=True)\n",
              "      (activation): Tanh()\n",
              "    )\n",
              "  )\n",
              "  (dropout): Dropout(p=0.1, inplace=False)\n",
              "  (linear1): Linear(in_features=768, out_features=3, bias=True)\n",
              "  (linear2): Linear(in_features=768, out_features=3, bias=True)\n",
              ")"
            ]
          },
          "execution_count": 103,
          "metadata": {},
          "output_type": "execute_result"
        }
      ],
      "source": [
        "model = MyModel(config['model_name'])\n",
        "model.load_state_dict(torch.load(f\"best_model_{CLASS_NAME}.pth\"))\n",
        "model.eval()"
      ]
    },
    {
      "cell_type": "code",
      "execution_count": null,
      "metadata": {
        "id": "UVzuRh-cJfPt"
      },
      "outputs": [],
      "source": [
        "def predictor(text) -> tuple[int, int]:\n",
        "    text = text.replace(\"[USER],\", \"\")\n",
        "    text = ' '.join(text.split(' '))\n",
        "\n",
        "    text = PROMPT + text\n",
        "\n",
        "    tokenized = tokenizer(\n",
        "        text,\n",
        "        add_special_tokens=True,\n",
        "        max_length=config[\"max_length\"],\n",
        "        truncation=True,\n",
        "        padding='max_length',\n",
        "        return_tensors='pt',\n",
        "        return_token_type_ids = False,\n",
        "        return_attention_mask = True,\n",
        "        verbose = True\n",
        "    )\n",
        "\n",
        "    with torch.no_grad():\n",
        "        logits_stance, logits_argument = model(tokenized['input_ids'], tokenized[\"attention_mask\"])\n",
        "\n",
        "    probabilities_stance = torch.nn.functional.softmax(logits_stance, dim=1)\n",
        "    pred_stance = torch.argmax(probabilities_stance, dim=1)\n",
        "    probabilities_argument = torch.nn.functional.softmax(logits_argument, dim=1)\n",
        "    pred_argument = torch.argmax(probabilities_argument, dim=1)\n",
        "\n",
        "    return pred_stance.item(), pred_argument.item()\n",
        ""
      ]
    },
    {
      "cell_type": "code",
      "execution_count": null,
      "metadata": {
        "id": "84_ZYGhzJfPt",
        "outputId": "1cabd2ed-2139-4144-9223-6d5dcf956e63"
      },
      "outputs": [
        {
          "data": {
            "text/plain": [
              "(1, 1)"
            ]
          },
          "execution_count": 105,
          "metadata": {},
          "output_type": "execute_result"
        }
      ],
      "source": [
        "predictor('[USER], do not mislead people, influenza has a lethality of about one percent, this rubbish is about four, plus there are no drugs and vaccines, the spread is much faster.')"
      ]
    },
    {
      "cell_type": "code",
      "execution_count": null,
      "metadata": {
        "id": "PSp4BI0JJfPu"
      },
      "outputs": [],
      "source": [
        "test_df = pd.read_csv('result.tsv', sep='\\t')\n",
        "test_df.head(5)"
      ]
    },
    {
      "cell_type": "code",
      "execution_count": null,
      "metadata": {
        "id": "BsLsrHFxJfPu"
      },
      "outputs": [],
      "source": [
        "for i in range(len(test_df)):\n",
        "    if test_df[f\"{CLASS_NAME}_stance\"][i] != -1:\n",
        "        stance, argument = predictor(test_df[\"text\"][i])\n",
        "\n",
        "        test_df.loc[i, f\"{CLASS_NAME}_stance\"] = stance\n",
        "        test_df.loc[i, f\"{CLASS_NAME}_argument\"] = argument"
      ]
    },
    {
      "cell_type": "code",
      "execution_count": null,
      "metadata": {
        "id": "xG7lejtLJfPu",
        "outputId": "cd65ee6d-f407-466e-8329-32eb7180a444"
      },
      "outputs": [
        {
          "data": {
            "text/html": [
              "<div>\n",
              "<style scoped>\n",
              "    .dataframe tbody tr th:only-of-type {\n",
              "        vertical-align: middle;\n",
              "    }\n",
              "\n",
              "    .dataframe tbody tr th {\n",
              "        vertical-align: top;\n",
              "    }\n",
              "\n",
              "    .dataframe thead th {\n",
              "        text-align: right;\n",
              "    }\n",
              "</style>\n",
              "<table border=\"1\" class=\"dataframe\">\n",
              "  <thead>\n",
              "    <tr style=\"text-align: right;\">\n",
              "      <th></th>\n",
              "      <th>text_id</th>\n",
              "      <th>text</th>\n",
              "      <th>masks_stance</th>\n",
              "      <th>masks_argument</th>\n",
              "      <th>quarantine_stance</th>\n",
              "      <th>quarantine_argument</th>\n",
              "      <th>vaccines_stance</th>\n",
              "      <th>vaccines_argument</th>\n",
              "    </tr>\n",
              "  </thead>\n",
              "  <tbody>\n",
              "  </tbody>\n",
              "</table>\n",
              "</div>"
            ],
            "text/plain": [
              "Empty DataFrame\n",
              "Columns: [text_id, text, masks_stance, masks_argument, quarantine_stance, quarantine_argument, vaccines_stance, vaccines_argument]\n",
              "Index: []"
            ]
          },
          "execution_count": 108,
          "metadata": {},
          "output_type": "execute_result"
        }
      ],
      "source": [
        "test_df[test_df[f\"{CLASS_NAME}_stance\"].isna()]"
      ]
    },
    {
      "cell_type": "code",
      "execution_count": null,
      "metadata": {
        "id": "LfMon4LkJfPu"
      },
      "outputs": [],
      "source": [
        "test_df.to_csv('result.tsv', sep=\"\\t\", index=False)"
      ]
    }
  ],
  "metadata": {
    "kernelspec": {
      "display_name": "argument_mining_venv",
      "language": "python",
      "name": "python3"
    },
    "language_info": {
      "codemirror_mode": {
        "name": "ipython",
        "version": 3
      },
      "file_extension": ".py",
      "mimetype": "text/x-python",
      "name": "python",
      "nbconvert_exporter": "python",
      "pygments_lexer": "ipython3",
      "version": "3.10.9"
    },
    "orig_nbformat": 4,
    "colab": {
      "provenance": []
    },
    "accelerator": "GPU",
    "gpuClass": "standard",
    "widgets": {
      "application/vnd.jupyter.widget-state+json": {
        "65b6523186444222876bc677e6fc3a34": {
          "model_module": "@jupyter-widgets/controls",
          "model_name": "HBoxModel",
          "model_module_version": "1.5.0",
          "state": {
            "_dom_classes": [],
            "_model_module": "@jupyter-widgets/controls",
            "_model_module_version": "1.5.0",
            "_model_name": "HBoxModel",
            "_view_count": null,
            "_view_module": "@jupyter-widgets/controls",
            "_view_module_version": "1.5.0",
            "_view_name": "HBoxView",
            "box_style": "",
            "children": [
              "IPY_MODEL_ff63881d97ad4f19ba9f067707873b71",
              "IPY_MODEL_1b6bb36c1e68405bbbd9f7c034bb4b32",
              "IPY_MODEL_5f6c45a020c341848ff22e3fff9bb2a2"
            ],
            "layout": "IPY_MODEL_5ff3e89697fe4ecb839974b896918771"
          }
        },
        "ff63881d97ad4f19ba9f067707873b71": {
          "model_module": "@jupyter-widgets/controls",
          "model_name": "HTMLModel",
          "model_module_version": "1.5.0",
          "state": {
            "_dom_classes": [],
            "_model_module": "@jupyter-widgets/controls",
            "_model_module_version": "1.5.0",
            "_model_name": "HTMLModel",
            "_view_count": null,
            "_view_module": "@jupyter-widgets/controls",
            "_view_module_version": "1.5.0",
            "_view_name": "HTMLView",
            "description": "",
            "description_tooltip": null,
            "layout": "IPY_MODEL_c7253778d6a64a2fb8383c2bd000f5fe",
            "placeholder": "​",
            "style": "IPY_MODEL_17b6b1c4e00c4b7abb13f6307700fad4",
            "value": "Downloading (…)solve/main/vocab.txt: 100%"
          }
        },
        "1b6bb36c1e68405bbbd9f7c034bb4b32": {
          "model_module": "@jupyter-widgets/controls",
          "model_name": "FloatProgressModel",
          "model_module_version": "1.5.0",
          "state": {
            "_dom_classes": [],
            "_model_module": "@jupyter-widgets/controls",
            "_model_module_version": "1.5.0",
            "_model_name": "FloatProgressModel",
            "_view_count": null,
            "_view_module": "@jupyter-widgets/controls",
            "_view_module_version": "1.5.0",
            "_view_name": "ProgressView",
            "bar_style": "success",
            "description": "",
            "description_tooltip": null,
            "layout": "IPY_MODEL_a3ca3733aa404a0997f2eba04b24067d",
            "max": 231508,
            "min": 0,
            "orientation": "horizontal",
            "style": "IPY_MODEL_e48681d0679b419ebee3ea08157e03a3",
            "value": 231508
          }
        },
        "5f6c45a020c341848ff22e3fff9bb2a2": {
          "model_module": "@jupyter-widgets/controls",
          "model_name": "HTMLModel",
          "model_module_version": "1.5.0",
          "state": {
            "_dom_classes": [],
            "_model_module": "@jupyter-widgets/controls",
            "_model_module_version": "1.5.0",
            "_model_name": "HTMLModel",
            "_view_count": null,
            "_view_module": "@jupyter-widgets/controls",
            "_view_module_version": "1.5.0",
            "_view_name": "HTMLView",
            "description": "",
            "description_tooltip": null,
            "layout": "IPY_MODEL_a5c43659f8974800916b451993a4f6f3",
            "placeholder": "​",
            "style": "IPY_MODEL_66a2fda0daae45669312bd4284459842",
            "value": " 232k/232k [00:00&lt;00:00, 3.86MB/s]"
          }
        },
        "5ff3e89697fe4ecb839974b896918771": {
          "model_module": "@jupyter-widgets/base",
          "model_name": "LayoutModel",
          "model_module_version": "1.2.0",
          "state": {
            "_model_module": "@jupyter-widgets/base",
            "_model_module_version": "1.2.0",
            "_model_name": "LayoutModel",
            "_view_count": null,
            "_view_module": "@jupyter-widgets/base",
            "_view_module_version": "1.2.0",
            "_view_name": "LayoutView",
            "align_content": null,
            "align_items": null,
            "align_self": null,
            "border": null,
            "bottom": null,
            "display": null,
            "flex": null,
            "flex_flow": null,
            "grid_area": null,
            "grid_auto_columns": null,
            "grid_auto_flow": null,
            "grid_auto_rows": null,
            "grid_column": null,
            "grid_gap": null,
            "grid_row": null,
            "grid_template_areas": null,
            "grid_template_columns": null,
            "grid_template_rows": null,
            "height": null,
            "justify_content": null,
            "justify_items": null,
            "left": null,
            "margin": null,
            "max_height": null,
            "max_width": null,
            "min_height": null,
            "min_width": null,
            "object_fit": null,
            "object_position": null,
            "order": null,
            "overflow": null,
            "overflow_x": null,
            "overflow_y": null,
            "padding": null,
            "right": null,
            "top": null,
            "visibility": null,
            "width": null
          }
        },
        "c7253778d6a64a2fb8383c2bd000f5fe": {
          "model_module": "@jupyter-widgets/base",
          "model_name": "LayoutModel",
          "model_module_version": "1.2.0",
          "state": {
            "_model_module": "@jupyter-widgets/base",
            "_model_module_version": "1.2.0",
            "_model_name": "LayoutModel",
            "_view_count": null,
            "_view_module": "@jupyter-widgets/base",
            "_view_module_version": "1.2.0",
            "_view_name": "LayoutView",
            "align_content": null,
            "align_items": null,
            "align_self": null,
            "border": null,
            "bottom": null,
            "display": null,
            "flex": null,
            "flex_flow": null,
            "grid_area": null,
            "grid_auto_columns": null,
            "grid_auto_flow": null,
            "grid_auto_rows": null,
            "grid_column": null,
            "grid_gap": null,
            "grid_row": null,
            "grid_template_areas": null,
            "grid_template_columns": null,
            "grid_template_rows": null,
            "height": null,
            "justify_content": null,
            "justify_items": null,
            "left": null,
            "margin": null,
            "max_height": null,
            "max_width": null,
            "min_height": null,
            "min_width": null,
            "object_fit": null,
            "object_position": null,
            "order": null,
            "overflow": null,
            "overflow_x": null,
            "overflow_y": null,
            "padding": null,
            "right": null,
            "top": null,
            "visibility": null,
            "width": null
          }
        },
        "17b6b1c4e00c4b7abb13f6307700fad4": {
          "model_module": "@jupyter-widgets/controls",
          "model_name": "DescriptionStyleModel",
          "model_module_version": "1.5.0",
          "state": {
            "_model_module": "@jupyter-widgets/controls",
            "_model_module_version": "1.5.0",
            "_model_name": "DescriptionStyleModel",
            "_view_count": null,
            "_view_module": "@jupyter-widgets/base",
            "_view_module_version": "1.2.0",
            "_view_name": "StyleView",
            "description_width": ""
          }
        },
        "a3ca3733aa404a0997f2eba04b24067d": {
          "model_module": "@jupyter-widgets/base",
          "model_name": "LayoutModel",
          "model_module_version": "1.2.0",
          "state": {
            "_model_module": "@jupyter-widgets/base",
            "_model_module_version": "1.2.0",
            "_model_name": "LayoutModel",
            "_view_count": null,
            "_view_module": "@jupyter-widgets/base",
            "_view_module_version": "1.2.0",
            "_view_name": "LayoutView",
            "align_content": null,
            "align_items": null,
            "align_self": null,
            "border": null,
            "bottom": null,
            "display": null,
            "flex": null,
            "flex_flow": null,
            "grid_area": null,
            "grid_auto_columns": null,
            "grid_auto_flow": null,
            "grid_auto_rows": null,
            "grid_column": null,
            "grid_gap": null,
            "grid_row": null,
            "grid_template_areas": null,
            "grid_template_columns": null,
            "grid_template_rows": null,
            "height": null,
            "justify_content": null,
            "justify_items": null,
            "left": null,
            "margin": null,
            "max_height": null,
            "max_width": null,
            "min_height": null,
            "min_width": null,
            "object_fit": null,
            "object_position": null,
            "order": null,
            "overflow": null,
            "overflow_x": null,
            "overflow_y": null,
            "padding": null,
            "right": null,
            "top": null,
            "visibility": null,
            "width": null
          }
        },
        "e48681d0679b419ebee3ea08157e03a3": {
          "model_module": "@jupyter-widgets/controls",
          "model_name": "ProgressStyleModel",
          "model_module_version": "1.5.0",
          "state": {
            "_model_module": "@jupyter-widgets/controls",
            "_model_module_version": "1.5.0",
            "_model_name": "ProgressStyleModel",
            "_view_count": null,
            "_view_module": "@jupyter-widgets/base",
            "_view_module_version": "1.2.0",
            "_view_name": "StyleView",
            "bar_color": null,
            "description_width": ""
          }
        },
        "a5c43659f8974800916b451993a4f6f3": {
          "model_module": "@jupyter-widgets/base",
          "model_name": "LayoutModel",
          "model_module_version": "1.2.0",
          "state": {
            "_model_module": "@jupyter-widgets/base",
            "_model_module_version": "1.2.0",
            "_model_name": "LayoutModel",
            "_view_count": null,
            "_view_module": "@jupyter-widgets/base",
            "_view_module_version": "1.2.0",
            "_view_name": "LayoutView",
            "align_content": null,
            "align_items": null,
            "align_self": null,
            "border": null,
            "bottom": null,
            "display": null,
            "flex": null,
            "flex_flow": null,
            "grid_area": null,
            "grid_auto_columns": null,
            "grid_auto_flow": null,
            "grid_auto_rows": null,
            "grid_column": null,
            "grid_gap": null,
            "grid_row": null,
            "grid_template_areas": null,
            "grid_template_columns": null,
            "grid_template_rows": null,
            "height": null,
            "justify_content": null,
            "justify_items": null,
            "left": null,
            "margin": null,
            "max_height": null,
            "max_width": null,
            "min_height": null,
            "min_width": null,
            "object_fit": null,
            "object_position": null,
            "order": null,
            "overflow": null,
            "overflow_x": null,
            "overflow_y": null,
            "padding": null,
            "right": null,
            "top": null,
            "visibility": null,
            "width": null
          }
        },
        "66a2fda0daae45669312bd4284459842": {
          "model_module": "@jupyter-widgets/controls",
          "model_name": "DescriptionStyleModel",
          "model_module_version": "1.5.0",
          "state": {
            "_model_module": "@jupyter-widgets/controls",
            "_model_module_version": "1.5.0",
            "_model_name": "DescriptionStyleModel",
            "_view_count": null,
            "_view_module": "@jupyter-widgets/base",
            "_view_module_version": "1.2.0",
            "_view_name": "StyleView",
            "description_width": ""
          }
        },
        "97a77466948d49b69c6377c1b171b218": {
          "model_module": "@jupyter-widgets/controls",
          "model_name": "HBoxModel",
          "model_module_version": "1.5.0",
          "state": {
            "_dom_classes": [],
            "_model_module": "@jupyter-widgets/controls",
            "_model_module_version": "1.5.0",
            "_model_name": "HBoxModel",
            "_view_count": null,
            "_view_module": "@jupyter-widgets/controls",
            "_view_module_version": "1.5.0",
            "_view_name": "HBoxView",
            "box_style": "",
            "children": [
              "IPY_MODEL_7e7e4312298a4e75ba2ef765954c4316",
              "IPY_MODEL_cd4113732f1b49bbbaeceb2e0d0ca15b",
              "IPY_MODEL_32cb15e465974d3195fe3b07622baf48"
            ],
            "layout": "IPY_MODEL_b8caddd6aaea4212b6b679bf1ba4bdf5"
          }
        },
        "7e7e4312298a4e75ba2ef765954c4316": {
          "model_module": "@jupyter-widgets/controls",
          "model_name": "HTMLModel",
          "model_module_version": "1.5.0",
          "state": {
            "_dom_classes": [],
            "_model_module": "@jupyter-widgets/controls",
            "_model_module_version": "1.5.0",
            "_model_name": "HTMLModel",
            "_view_count": null,
            "_view_module": "@jupyter-widgets/controls",
            "_view_module_version": "1.5.0",
            "_view_name": "HTMLView",
            "description": "",
            "description_tooltip": null,
            "layout": "IPY_MODEL_c0858ef0358e4cf191a6f0c09bd76eb0",
            "placeholder": "​",
            "style": "IPY_MODEL_b1098a55c5a442d19ebb1ad15b5eea5b",
            "value": "Downloading (…)okenizer_config.json: 100%"
          }
        },
        "cd4113732f1b49bbbaeceb2e0d0ca15b": {
          "model_module": "@jupyter-widgets/controls",
          "model_name": "FloatProgressModel",
          "model_module_version": "1.5.0",
          "state": {
            "_dom_classes": [],
            "_model_module": "@jupyter-widgets/controls",
            "_model_module_version": "1.5.0",
            "_model_name": "FloatProgressModel",
            "_view_count": null,
            "_view_module": "@jupyter-widgets/controls",
            "_view_module_version": "1.5.0",
            "_view_name": "ProgressView",
            "bar_style": "success",
            "description": "",
            "description_tooltip": null,
            "layout": "IPY_MODEL_201e21c51d4a461cb1362b2bbecfff3c",
            "max": 28,
            "min": 0,
            "orientation": "horizontal",
            "style": "IPY_MODEL_4f8d93b80288453ca24594a0361ca6c4",
            "value": 28
          }
        },
        "32cb15e465974d3195fe3b07622baf48": {
          "model_module": "@jupyter-widgets/controls",
          "model_name": "HTMLModel",
          "model_module_version": "1.5.0",
          "state": {
            "_dom_classes": [],
            "_model_module": "@jupyter-widgets/controls",
            "_model_module_version": "1.5.0",
            "_model_name": "HTMLModel",
            "_view_count": null,
            "_view_module": "@jupyter-widgets/controls",
            "_view_module_version": "1.5.0",
            "_view_name": "HTMLView",
            "description": "",
            "description_tooltip": null,
            "layout": "IPY_MODEL_23376429e618492eb7a45344bcae527b",
            "placeholder": "​",
            "style": "IPY_MODEL_1bd2d447d9e141d58610a2b952de75ea",
            "value": " 28.0/28.0 [00:00&lt;00:00, 1.30kB/s]"
          }
        },
        "b8caddd6aaea4212b6b679bf1ba4bdf5": {
          "model_module": "@jupyter-widgets/base",
          "model_name": "LayoutModel",
          "model_module_version": "1.2.0",
          "state": {
            "_model_module": "@jupyter-widgets/base",
            "_model_module_version": "1.2.0",
            "_model_name": "LayoutModel",
            "_view_count": null,
            "_view_module": "@jupyter-widgets/base",
            "_view_module_version": "1.2.0",
            "_view_name": "LayoutView",
            "align_content": null,
            "align_items": null,
            "align_self": null,
            "border": null,
            "bottom": null,
            "display": null,
            "flex": null,
            "flex_flow": null,
            "grid_area": null,
            "grid_auto_columns": null,
            "grid_auto_flow": null,
            "grid_auto_rows": null,
            "grid_column": null,
            "grid_gap": null,
            "grid_row": null,
            "grid_template_areas": null,
            "grid_template_columns": null,
            "grid_template_rows": null,
            "height": null,
            "justify_content": null,
            "justify_items": null,
            "left": null,
            "margin": null,
            "max_height": null,
            "max_width": null,
            "min_height": null,
            "min_width": null,
            "object_fit": null,
            "object_position": null,
            "order": null,
            "overflow": null,
            "overflow_x": null,
            "overflow_y": null,
            "padding": null,
            "right": null,
            "top": null,
            "visibility": null,
            "width": null
          }
        },
        "c0858ef0358e4cf191a6f0c09bd76eb0": {
          "model_module": "@jupyter-widgets/base",
          "model_name": "LayoutModel",
          "model_module_version": "1.2.0",
          "state": {
            "_model_module": "@jupyter-widgets/base",
            "_model_module_version": "1.2.0",
            "_model_name": "LayoutModel",
            "_view_count": null,
            "_view_module": "@jupyter-widgets/base",
            "_view_module_version": "1.2.0",
            "_view_name": "LayoutView",
            "align_content": null,
            "align_items": null,
            "align_self": null,
            "border": null,
            "bottom": null,
            "display": null,
            "flex": null,
            "flex_flow": null,
            "grid_area": null,
            "grid_auto_columns": null,
            "grid_auto_flow": null,
            "grid_auto_rows": null,
            "grid_column": null,
            "grid_gap": null,
            "grid_row": null,
            "grid_template_areas": null,
            "grid_template_columns": null,
            "grid_template_rows": null,
            "height": null,
            "justify_content": null,
            "justify_items": null,
            "left": null,
            "margin": null,
            "max_height": null,
            "max_width": null,
            "min_height": null,
            "min_width": null,
            "object_fit": null,
            "object_position": null,
            "order": null,
            "overflow": null,
            "overflow_x": null,
            "overflow_y": null,
            "padding": null,
            "right": null,
            "top": null,
            "visibility": null,
            "width": null
          }
        },
        "b1098a55c5a442d19ebb1ad15b5eea5b": {
          "model_module": "@jupyter-widgets/controls",
          "model_name": "DescriptionStyleModel",
          "model_module_version": "1.5.0",
          "state": {
            "_model_module": "@jupyter-widgets/controls",
            "_model_module_version": "1.5.0",
            "_model_name": "DescriptionStyleModel",
            "_view_count": null,
            "_view_module": "@jupyter-widgets/base",
            "_view_module_version": "1.2.0",
            "_view_name": "StyleView",
            "description_width": ""
          }
        },
        "201e21c51d4a461cb1362b2bbecfff3c": {
          "model_module": "@jupyter-widgets/base",
          "model_name": "LayoutModel",
          "model_module_version": "1.2.0",
          "state": {
            "_model_module": "@jupyter-widgets/base",
            "_model_module_version": "1.2.0",
            "_model_name": "LayoutModel",
            "_view_count": null,
            "_view_module": "@jupyter-widgets/base",
            "_view_module_version": "1.2.0",
            "_view_name": "LayoutView",
            "align_content": null,
            "align_items": null,
            "align_self": null,
            "border": null,
            "bottom": null,
            "display": null,
            "flex": null,
            "flex_flow": null,
            "grid_area": null,
            "grid_auto_columns": null,
            "grid_auto_flow": null,
            "grid_auto_rows": null,
            "grid_column": null,
            "grid_gap": null,
            "grid_row": null,
            "grid_template_areas": null,
            "grid_template_columns": null,
            "grid_template_rows": null,
            "height": null,
            "justify_content": null,
            "justify_items": null,
            "left": null,
            "margin": null,
            "max_height": null,
            "max_width": null,
            "min_height": null,
            "min_width": null,
            "object_fit": null,
            "object_position": null,
            "order": null,
            "overflow": null,
            "overflow_x": null,
            "overflow_y": null,
            "padding": null,
            "right": null,
            "top": null,
            "visibility": null,
            "width": null
          }
        },
        "4f8d93b80288453ca24594a0361ca6c4": {
          "model_module": "@jupyter-widgets/controls",
          "model_name": "ProgressStyleModel",
          "model_module_version": "1.5.0",
          "state": {
            "_model_module": "@jupyter-widgets/controls",
            "_model_module_version": "1.5.0",
            "_model_name": "ProgressStyleModel",
            "_view_count": null,
            "_view_module": "@jupyter-widgets/base",
            "_view_module_version": "1.2.0",
            "_view_name": "StyleView",
            "bar_color": null,
            "description_width": ""
          }
        },
        "23376429e618492eb7a45344bcae527b": {
          "model_module": "@jupyter-widgets/base",
          "model_name": "LayoutModel",
          "model_module_version": "1.2.0",
          "state": {
            "_model_module": "@jupyter-widgets/base",
            "_model_module_version": "1.2.0",
            "_model_name": "LayoutModel",
            "_view_count": null,
            "_view_module": "@jupyter-widgets/base",
            "_view_module_version": "1.2.0",
            "_view_name": "LayoutView",
            "align_content": null,
            "align_items": null,
            "align_self": null,
            "border": null,
            "bottom": null,
            "display": null,
            "flex": null,
            "flex_flow": null,
            "grid_area": null,
            "grid_auto_columns": null,
            "grid_auto_flow": null,
            "grid_auto_rows": null,
            "grid_column": null,
            "grid_gap": null,
            "grid_row": null,
            "grid_template_areas": null,
            "grid_template_columns": null,
            "grid_template_rows": null,
            "height": null,
            "justify_content": null,
            "justify_items": null,
            "left": null,
            "margin": null,
            "max_height": null,
            "max_width": null,
            "min_height": null,
            "min_width": null,
            "object_fit": null,
            "object_position": null,
            "order": null,
            "overflow": null,
            "overflow_x": null,
            "overflow_y": null,
            "padding": null,
            "right": null,
            "top": null,
            "visibility": null,
            "width": null
          }
        },
        "1bd2d447d9e141d58610a2b952de75ea": {
          "model_module": "@jupyter-widgets/controls",
          "model_name": "DescriptionStyleModel",
          "model_module_version": "1.5.0",
          "state": {
            "_model_module": "@jupyter-widgets/controls",
            "_model_module_version": "1.5.0",
            "_model_name": "DescriptionStyleModel",
            "_view_count": null,
            "_view_module": "@jupyter-widgets/base",
            "_view_module_version": "1.2.0",
            "_view_name": "StyleView",
            "description_width": ""
          }
        },
        "92d51f057b6b413988b3d64584569865": {
          "model_module": "@jupyter-widgets/controls",
          "model_name": "HBoxModel",
          "model_module_version": "1.5.0",
          "state": {
            "_dom_classes": [],
            "_model_module": "@jupyter-widgets/controls",
            "_model_module_version": "1.5.0",
            "_model_name": "HBoxModel",
            "_view_count": null,
            "_view_module": "@jupyter-widgets/controls",
            "_view_module_version": "1.5.0",
            "_view_name": "HBoxView",
            "box_style": "",
            "children": [
              "IPY_MODEL_bc4476efaeb34c5b9291cc05f606988a",
              "IPY_MODEL_5c58c8a51ada4e70b8190e1ada77a303",
              "IPY_MODEL_81072d2c955c4db3852c3dc6917441e8"
            ],
            "layout": "IPY_MODEL_3925e587970e4da5ac5c07b0e7684d45"
          }
        },
        "bc4476efaeb34c5b9291cc05f606988a": {
          "model_module": "@jupyter-widgets/controls",
          "model_name": "HTMLModel",
          "model_module_version": "1.5.0",
          "state": {
            "_dom_classes": [],
            "_model_module": "@jupyter-widgets/controls",
            "_model_module_version": "1.5.0",
            "_model_name": "HTMLModel",
            "_view_count": null,
            "_view_module": "@jupyter-widgets/controls",
            "_view_module_version": "1.5.0",
            "_view_name": "HTMLView",
            "description": "",
            "description_tooltip": null,
            "layout": "IPY_MODEL_1039d118d67e4411bd050c6b99ad73f9",
            "placeholder": "​",
            "style": "IPY_MODEL_d50f7d5c8f6b41f3aae1184eb2583cbb",
            "value": "Downloading (…)lve/main/config.json: 100%"
          }
        },
        "5c58c8a51ada4e70b8190e1ada77a303": {
          "model_module": "@jupyter-widgets/controls",
          "model_name": "FloatProgressModel",
          "model_module_version": "1.5.0",
          "state": {
            "_dom_classes": [],
            "_model_module": "@jupyter-widgets/controls",
            "_model_module_version": "1.5.0",
            "_model_name": "FloatProgressModel",
            "_view_count": null,
            "_view_module": "@jupyter-widgets/controls",
            "_view_module_version": "1.5.0",
            "_view_name": "ProgressView",
            "bar_style": "success",
            "description": "",
            "description_tooltip": null,
            "layout": "IPY_MODEL_ad8400cd53c847c29f766dc06cba4b57",
            "max": 570,
            "min": 0,
            "orientation": "horizontal",
            "style": "IPY_MODEL_8264063121b94b309106191eab98f486",
            "value": 570
          }
        },
        "81072d2c955c4db3852c3dc6917441e8": {
          "model_module": "@jupyter-widgets/controls",
          "model_name": "HTMLModel",
          "model_module_version": "1.5.0",
          "state": {
            "_dom_classes": [],
            "_model_module": "@jupyter-widgets/controls",
            "_model_module_version": "1.5.0",
            "_model_name": "HTMLModel",
            "_view_count": null,
            "_view_module": "@jupyter-widgets/controls",
            "_view_module_version": "1.5.0",
            "_view_name": "HTMLView",
            "description": "",
            "description_tooltip": null,
            "layout": "IPY_MODEL_e5d8620930bf421eb48884aec6780785",
            "placeholder": "​",
            "style": "IPY_MODEL_356d0d1ac38044a090f80e0dea58d46e",
            "value": " 570/570 [00:00&lt;00:00, 38.7kB/s]"
          }
        },
        "3925e587970e4da5ac5c07b0e7684d45": {
          "model_module": "@jupyter-widgets/base",
          "model_name": "LayoutModel",
          "model_module_version": "1.2.0",
          "state": {
            "_model_module": "@jupyter-widgets/base",
            "_model_module_version": "1.2.0",
            "_model_name": "LayoutModel",
            "_view_count": null,
            "_view_module": "@jupyter-widgets/base",
            "_view_module_version": "1.2.0",
            "_view_name": "LayoutView",
            "align_content": null,
            "align_items": null,
            "align_self": null,
            "border": null,
            "bottom": null,
            "display": null,
            "flex": null,
            "flex_flow": null,
            "grid_area": null,
            "grid_auto_columns": null,
            "grid_auto_flow": null,
            "grid_auto_rows": null,
            "grid_column": null,
            "grid_gap": null,
            "grid_row": null,
            "grid_template_areas": null,
            "grid_template_columns": null,
            "grid_template_rows": null,
            "height": null,
            "justify_content": null,
            "justify_items": null,
            "left": null,
            "margin": null,
            "max_height": null,
            "max_width": null,
            "min_height": null,
            "min_width": null,
            "object_fit": null,
            "object_position": null,
            "order": null,
            "overflow": null,
            "overflow_x": null,
            "overflow_y": null,
            "padding": null,
            "right": null,
            "top": null,
            "visibility": null,
            "width": null
          }
        },
        "1039d118d67e4411bd050c6b99ad73f9": {
          "model_module": "@jupyter-widgets/base",
          "model_name": "LayoutModel",
          "model_module_version": "1.2.0",
          "state": {
            "_model_module": "@jupyter-widgets/base",
            "_model_module_version": "1.2.0",
            "_model_name": "LayoutModel",
            "_view_count": null,
            "_view_module": "@jupyter-widgets/base",
            "_view_module_version": "1.2.0",
            "_view_name": "LayoutView",
            "align_content": null,
            "align_items": null,
            "align_self": null,
            "border": null,
            "bottom": null,
            "display": null,
            "flex": null,
            "flex_flow": null,
            "grid_area": null,
            "grid_auto_columns": null,
            "grid_auto_flow": null,
            "grid_auto_rows": null,
            "grid_column": null,
            "grid_gap": null,
            "grid_row": null,
            "grid_template_areas": null,
            "grid_template_columns": null,
            "grid_template_rows": null,
            "height": null,
            "justify_content": null,
            "justify_items": null,
            "left": null,
            "margin": null,
            "max_height": null,
            "max_width": null,
            "min_height": null,
            "min_width": null,
            "object_fit": null,
            "object_position": null,
            "order": null,
            "overflow": null,
            "overflow_x": null,
            "overflow_y": null,
            "padding": null,
            "right": null,
            "top": null,
            "visibility": null,
            "width": null
          }
        },
        "d50f7d5c8f6b41f3aae1184eb2583cbb": {
          "model_module": "@jupyter-widgets/controls",
          "model_name": "DescriptionStyleModel",
          "model_module_version": "1.5.0",
          "state": {
            "_model_module": "@jupyter-widgets/controls",
            "_model_module_version": "1.5.0",
            "_model_name": "DescriptionStyleModel",
            "_view_count": null,
            "_view_module": "@jupyter-widgets/base",
            "_view_module_version": "1.2.0",
            "_view_name": "StyleView",
            "description_width": ""
          }
        },
        "ad8400cd53c847c29f766dc06cba4b57": {
          "model_module": "@jupyter-widgets/base",
          "model_name": "LayoutModel",
          "model_module_version": "1.2.0",
          "state": {
            "_model_module": "@jupyter-widgets/base",
            "_model_module_version": "1.2.0",
            "_model_name": "LayoutModel",
            "_view_count": null,
            "_view_module": "@jupyter-widgets/base",
            "_view_module_version": "1.2.0",
            "_view_name": "LayoutView",
            "align_content": null,
            "align_items": null,
            "align_self": null,
            "border": null,
            "bottom": null,
            "display": null,
            "flex": null,
            "flex_flow": null,
            "grid_area": null,
            "grid_auto_columns": null,
            "grid_auto_flow": null,
            "grid_auto_rows": null,
            "grid_column": null,
            "grid_gap": null,
            "grid_row": null,
            "grid_template_areas": null,
            "grid_template_columns": null,
            "grid_template_rows": null,
            "height": null,
            "justify_content": null,
            "justify_items": null,
            "left": null,
            "margin": null,
            "max_height": null,
            "max_width": null,
            "min_height": null,
            "min_width": null,
            "object_fit": null,
            "object_position": null,
            "order": null,
            "overflow": null,
            "overflow_x": null,
            "overflow_y": null,
            "padding": null,
            "right": null,
            "top": null,
            "visibility": null,
            "width": null
          }
        },
        "8264063121b94b309106191eab98f486": {
          "model_module": "@jupyter-widgets/controls",
          "model_name": "ProgressStyleModel",
          "model_module_version": "1.5.0",
          "state": {
            "_model_module": "@jupyter-widgets/controls",
            "_model_module_version": "1.5.0",
            "_model_name": "ProgressStyleModel",
            "_view_count": null,
            "_view_module": "@jupyter-widgets/base",
            "_view_module_version": "1.2.0",
            "_view_name": "StyleView",
            "bar_color": null,
            "description_width": ""
          }
        },
        "e5d8620930bf421eb48884aec6780785": {
          "model_module": "@jupyter-widgets/base",
          "model_name": "LayoutModel",
          "model_module_version": "1.2.0",
          "state": {
            "_model_module": "@jupyter-widgets/base",
            "_model_module_version": "1.2.0",
            "_model_name": "LayoutModel",
            "_view_count": null,
            "_view_module": "@jupyter-widgets/base",
            "_view_module_version": "1.2.0",
            "_view_name": "LayoutView",
            "align_content": null,
            "align_items": null,
            "align_self": null,
            "border": null,
            "bottom": null,
            "display": null,
            "flex": null,
            "flex_flow": null,
            "grid_area": null,
            "grid_auto_columns": null,
            "grid_auto_flow": null,
            "grid_auto_rows": null,
            "grid_column": null,
            "grid_gap": null,
            "grid_row": null,
            "grid_template_areas": null,
            "grid_template_columns": null,
            "grid_template_rows": null,
            "height": null,
            "justify_content": null,
            "justify_items": null,
            "left": null,
            "margin": null,
            "max_height": null,
            "max_width": null,
            "min_height": null,
            "min_width": null,
            "object_fit": null,
            "object_position": null,
            "order": null,
            "overflow": null,
            "overflow_x": null,
            "overflow_y": null,
            "padding": null,
            "right": null,
            "top": null,
            "visibility": null,
            "width": null
          }
        },
        "356d0d1ac38044a090f80e0dea58d46e": {
          "model_module": "@jupyter-widgets/controls",
          "model_name": "DescriptionStyleModel",
          "model_module_version": "1.5.0",
          "state": {
            "_model_module": "@jupyter-widgets/controls",
            "_model_module_version": "1.5.0",
            "_model_name": "DescriptionStyleModel",
            "_view_count": null,
            "_view_module": "@jupyter-widgets/base",
            "_view_module_version": "1.2.0",
            "_view_name": "StyleView",
            "description_width": ""
          }
        },
        "d21cc1813a5943f7b32cc3dadb4fa425": {
          "model_module": "@jupyter-widgets/controls",
          "model_name": "HBoxModel",
          "model_module_version": "1.5.0",
          "state": {
            "_dom_classes": [],
            "_model_module": "@jupyter-widgets/controls",
            "_model_module_version": "1.5.0",
            "_model_name": "HBoxModel",
            "_view_count": null,
            "_view_module": "@jupyter-widgets/controls",
            "_view_module_version": "1.5.0",
            "_view_name": "HBoxView",
            "box_style": "",
            "children": [
              "IPY_MODEL_7b7f254c5bff43acb07d64e345863b82",
              "IPY_MODEL_35c4040a553a4f11a86aaed57537bd01",
              "IPY_MODEL_f1c0eee75f7a48d9ae4d9e7028589522"
            ],
            "layout": "IPY_MODEL_e8e95e6bedf64031ab8ba2c92105dddd"
          }
        },
        "7b7f254c5bff43acb07d64e345863b82": {
          "model_module": "@jupyter-widgets/controls",
          "model_name": "HTMLModel",
          "model_module_version": "1.5.0",
          "state": {
            "_dom_classes": [],
            "_model_module": "@jupyter-widgets/controls",
            "_model_module_version": "1.5.0",
            "_model_name": "HTMLModel",
            "_view_count": null,
            "_view_module": "@jupyter-widgets/controls",
            "_view_module_version": "1.5.0",
            "_view_name": "HTMLView",
            "description": "",
            "description_tooltip": null,
            "layout": "IPY_MODEL_3880b97831ba4c6b9afc43dc8427611c",
            "placeholder": "​",
            "style": "IPY_MODEL_0fade6a920b642ccabdab18a70506049",
            "value": "Downloading pytorch_model.bin: 100%"
          }
        },
        "35c4040a553a4f11a86aaed57537bd01": {
          "model_module": "@jupyter-widgets/controls",
          "model_name": "FloatProgressModel",
          "model_module_version": "1.5.0",
          "state": {
            "_dom_classes": [],
            "_model_module": "@jupyter-widgets/controls",
            "_model_module_version": "1.5.0",
            "_model_name": "FloatProgressModel",
            "_view_count": null,
            "_view_module": "@jupyter-widgets/controls",
            "_view_module_version": "1.5.0",
            "_view_name": "ProgressView",
            "bar_style": "success",
            "description": "",
            "description_tooltip": null,
            "layout": "IPY_MODEL_56079e2cea4b437691afca438ec8f5ea",
            "max": 440473133,
            "min": 0,
            "orientation": "horizontal",
            "style": "IPY_MODEL_4ef35508088841ee9d07a9ede21ce2c7",
            "value": 440473133
          }
        },
        "f1c0eee75f7a48d9ae4d9e7028589522": {
          "model_module": "@jupyter-widgets/controls",
          "model_name": "HTMLModel",
          "model_module_version": "1.5.0",
          "state": {
            "_dom_classes": [],
            "_model_module": "@jupyter-widgets/controls",
            "_model_module_version": "1.5.0",
            "_model_name": "HTMLModel",
            "_view_count": null,
            "_view_module": "@jupyter-widgets/controls",
            "_view_module_version": "1.5.0",
            "_view_name": "HTMLView",
            "description": "",
            "description_tooltip": null,
            "layout": "IPY_MODEL_b7cfb2d975dc4e95b2823de8204ac646",
            "placeholder": "​",
            "style": "IPY_MODEL_1a9ccd9e85e047d780532b076cc08844",
            "value": " 440M/440M [00:02&lt;00:00, 204MB/s]"
          }
        },
        "e8e95e6bedf64031ab8ba2c92105dddd": {
          "model_module": "@jupyter-widgets/base",
          "model_name": "LayoutModel",
          "model_module_version": "1.2.0",
          "state": {
            "_model_module": "@jupyter-widgets/base",
            "_model_module_version": "1.2.0",
            "_model_name": "LayoutModel",
            "_view_count": null,
            "_view_module": "@jupyter-widgets/base",
            "_view_module_version": "1.2.0",
            "_view_name": "LayoutView",
            "align_content": null,
            "align_items": null,
            "align_self": null,
            "border": null,
            "bottom": null,
            "display": null,
            "flex": null,
            "flex_flow": null,
            "grid_area": null,
            "grid_auto_columns": null,
            "grid_auto_flow": null,
            "grid_auto_rows": null,
            "grid_column": null,
            "grid_gap": null,
            "grid_row": null,
            "grid_template_areas": null,
            "grid_template_columns": null,
            "grid_template_rows": null,
            "height": null,
            "justify_content": null,
            "justify_items": null,
            "left": null,
            "margin": null,
            "max_height": null,
            "max_width": null,
            "min_height": null,
            "min_width": null,
            "object_fit": null,
            "object_position": null,
            "order": null,
            "overflow": null,
            "overflow_x": null,
            "overflow_y": null,
            "padding": null,
            "right": null,
            "top": null,
            "visibility": null,
            "width": null
          }
        },
        "3880b97831ba4c6b9afc43dc8427611c": {
          "model_module": "@jupyter-widgets/base",
          "model_name": "LayoutModel",
          "model_module_version": "1.2.0",
          "state": {
            "_model_module": "@jupyter-widgets/base",
            "_model_module_version": "1.2.0",
            "_model_name": "LayoutModel",
            "_view_count": null,
            "_view_module": "@jupyter-widgets/base",
            "_view_module_version": "1.2.0",
            "_view_name": "LayoutView",
            "align_content": null,
            "align_items": null,
            "align_self": null,
            "border": null,
            "bottom": null,
            "display": null,
            "flex": null,
            "flex_flow": null,
            "grid_area": null,
            "grid_auto_columns": null,
            "grid_auto_flow": null,
            "grid_auto_rows": null,
            "grid_column": null,
            "grid_gap": null,
            "grid_row": null,
            "grid_template_areas": null,
            "grid_template_columns": null,
            "grid_template_rows": null,
            "height": null,
            "justify_content": null,
            "justify_items": null,
            "left": null,
            "margin": null,
            "max_height": null,
            "max_width": null,
            "min_height": null,
            "min_width": null,
            "object_fit": null,
            "object_position": null,
            "order": null,
            "overflow": null,
            "overflow_x": null,
            "overflow_y": null,
            "padding": null,
            "right": null,
            "top": null,
            "visibility": null,
            "width": null
          }
        },
        "0fade6a920b642ccabdab18a70506049": {
          "model_module": "@jupyter-widgets/controls",
          "model_name": "DescriptionStyleModel",
          "model_module_version": "1.5.0",
          "state": {
            "_model_module": "@jupyter-widgets/controls",
            "_model_module_version": "1.5.0",
            "_model_name": "DescriptionStyleModel",
            "_view_count": null,
            "_view_module": "@jupyter-widgets/base",
            "_view_module_version": "1.2.0",
            "_view_name": "StyleView",
            "description_width": ""
          }
        },
        "56079e2cea4b437691afca438ec8f5ea": {
          "model_module": "@jupyter-widgets/base",
          "model_name": "LayoutModel",
          "model_module_version": "1.2.0",
          "state": {
            "_model_module": "@jupyter-widgets/base",
            "_model_module_version": "1.2.0",
            "_model_name": "LayoutModel",
            "_view_count": null,
            "_view_module": "@jupyter-widgets/base",
            "_view_module_version": "1.2.0",
            "_view_name": "LayoutView",
            "align_content": null,
            "align_items": null,
            "align_self": null,
            "border": null,
            "bottom": null,
            "display": null,
            "flex": null,
            "flex_flow": null,
            "grid_area": null,
            "grid_auto_columns": null,
            "grid_auto_flow": null,
            "grid_auto_rows": null,
            "grid_column": null,
            "grid_gap": null,
            "grid_row": null,
            "grid_template_areas": null,
            "grid_template_columns": null,
            "grid_template_rows": null,
            "height": null,
            "justify_content": null,
            "justify_items": null,
            "left": null,
            "margin": null,
            "max_height": null,
            "max_width": null,
            "min_height": null,
            "min_width": null,
            "object_fit": null,
            "object_position": null,
            "order": null,
            "overflow": null,
            "overflow_x": null,
            "overflow_y": null,
            "padding": null,
            "right": null,
            "top": null,
            "visibility": null,
            "width": null
          }
        },
        "4ef35508088841ee9d07a9ede21ce2c7": {
          "model_module": "@jupyter-widgets/controls",
          "model_name": "ProgressStyleModel",
          "model_module_version": "1.5.0",
          "state": {
            "_model_module": "@jupyter-widgets/controls",
            "_model_module_version": "1.5.0",
            "_model_name": "ProgressStyleModel",
            "_view_count": null,
            "_view_module": "@jupyter-widgets/base",
            "_view_module_version": "1.2.0",
            "_view_name": "StyleView",
            "bar_color": null,
            "description_width": ""
          }
        },
        "b7cfb2d975dc4e95b2823de8204ac646": {
          "model_module": "@jupyter-widgets/base",
          "model_name": "LayoutModel",
          "model_module_version": "1.2.0",
          "state": {
            "_model_module": "@jupyter-widgets/base",
            "_model_module_version": "1.2.0",
            "_model_name": "LayoutModel",
            "_view_count": null,
            "_view_module": "@jupyter-widgets/base",
            "_view_module_version": "1.2.0",
            "_view_name": "LayoutView",
            "align_content": null,
            "align_items": null,
            "align_self": null,
            "border": null,
            "bottom": null,
            "display": null,
            "flex": null,
            "flex_flow": null,
            "grid_area": null,
            "grid_auto_columns": null,
            "grid_auto_flow": null,
            "grid_auto_rows": null,
            "grid_column": null,
            "grid_gap": null,
            "grid_row": null,
            "grid_template_areas": null,
            "grid_template_columns": null,
            "grid_template_rows": null,
            "height": null,
            "justify_content": null,
            "justify_items": null,
            "left": null,
            "margin": null,
            "max_height": null,
            "max_width": null,
            "min_height": null,
            "min_width": null,
            "object_fit": null,
            "object_position": null,
            "order": null,
            "overflow": null,
            "overflow_x": null,
            "overflow_y": null,
            "padding": null,
            "right": null,
            "top": null,
            "visibility": null,
            "width": null
          }
        },
        "1a9ccd9e85e047d780532b076cc08844": {
          "model_module": "@jupyter-widgets/controls",
          "model_name": "DescriptionStyleModel",
          "model_module_version": "1.5.0",
          "state": {
            "_model_module": "@jupyter-widgets/controls",
            "_model_module_version": "1.5.0",
            "_model_name": "DescriptionStyleModel",
            "_view_count": null,
            "_view_module": "@jupyter-widgets/base",
            "_view_module_version": "1.2.0",
            "_view_name": "StyleView",
            "description_width": ""
          }
        }
      }
    }
  },
  "nbformat": 4,
  "nbformat_minor": 0
}